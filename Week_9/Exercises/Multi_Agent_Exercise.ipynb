{
  "cells": [
    {
      "cell_type": "markdown",
      "id": "2fb9ed4d",
      "metadata": {
        "id": "2fb9ed4d"
      },
      "source": [
        "\n",
        "# Exercise: Building a Multi-Agent System\n",
        "\n",
        "In this exercise, you will create a simple multi-agent system where two agents collaborate to accomplish a common goal. The first agent will conduct research on a topic, and the second agent will summarize the research.\n",
        "\n",
        "Follow the steps below to complete the exercise.\n",
        "\n",
        "---\n",
        "### Step 1: Install the Required Libraries\n",
        "\n",
        "Make sure the necessary libraries are installed using the following command:\n"
      ]
    },
    {
      "cell_type": "code",
      "source": [
        "!pip install crewai langchain langchain-community langchain_groq"
      ],
      "metadata": {
        "colab": {
          "base_uri": "https://localhost:8080/"
        },
        "collapsed": true,
        "id": "jMCKtbHWxlEC",
        "outputId": "77d5ae25-4a3d-47c5-a37b-4e6b75162bae"
      },
      "id": "jMCKtbHWxlEC",
      "execution_count": 22,
      "outputs": [
        {
          "output_type": "stream",
          "name": "stdout",
          "text": [
            "Requirement already satisfied: crewai in /usr/local/lib/python3.10/dist-packages (0.61.0)\n",
            "Requirement already satisfied: langchain in /usr/local/lib/python3.10/dist-packages (0.2.16)\n",
            "Requirement already satisfied: langchain-community in /usr/local/lib/python3.10/dist-packages (0.2.17)\n",
            "Requirement already satisfied: langchain_groq in /usr/local/lib/python3.10/dist-packages (0.1.10)\n",
            "Requirement already satisfied: appdirs<2.0.0,>=1.4.4 in /usr/local/lib/python3.10/dist-packages (from crewai) (1.4.4)\n",
            "Requirement already satisfied: auth0-python<5.0.0,>=4.7.1 in /usr/local/lib/python3.10/dist-packages (from crewai) (4.7.2)\n",
            "Requirement already satisfied: click<9.0.0,>=8.1.7 in /usr/local/lib/python3.10/dist-packages (from crewai) (8.1.7)\n",
            "Requirement already satisfied: embedchain<0.2.0,>=0.1.114 in /usr/local/lib/python3.10/dist-packages (from crewai) (0.1.121)\n",
            "Requirement already satisfied: instructor==1.3.3 in /usr/local/lib/python3.10/dist-packages (from crewai) (1.3.3)\n",
            "Requirement already satisfied: json-repair<0.26.0,>=0.25.2 in /usr/local/lib/python3.10/dist-packages (from crewai) (0.25.3)\n",
            "Requirement already satisfied: jsonref<2.0.0,>=1.1.0 in /usr/local/lib/python3.10/dist-packages (from crewai) (1.1.0)\n",
            "Requirement already satisfied: litellm<2.0.0,>=1.44.22 in /usr/local/lib/python3.10/dist-packages (from crewai) (1.46.5)\n",
            "Requirement already satisfied: openai<2.0.0,>=1.13.3 in /usr/local/lib/python3.10/dist-packages (from crewai) (1.46.0)\n",
            "Requirement already satisfied: opentelemetry-api<2.0.0,>=1.22.0 in /usr/local/lib/python3.10/dist-packages (from crewai) (1.27.0)\n",
            "Requirement already satisfied: opentelemetry-exporter-otlp-proto-http<2.0.0,>=1.22.0 in /usr/local/lib/python3.10/dist-packages (from crewai) (1.27.0)\n",
            "Requirement already satisfied: opentelemetry-sdk<2.0.0,>=1.22.0 in /usr/local/lib/python3.10/dist-packages (from crewai) (1.27.0)\n",
            "Requirement already satisfied: poetry<2.0.0,>=1.8.3 in /usr/local/lib/python3.10/dist-packages (from crewai) (1.8.3)\n",
            "Requirement already satisfied: pydantic<3.0.0,>=2.4.2 in /usr/local/lib/python3.10/dist-packages (from crewai) (2.9.1)\n",
            "Requirement already satisfied: python-dotenv<2.0.0,>=1.0.0 in /usr/local/lib/python3.10/dist-packages (from crewai) (1.0.1)\n",
            "Requirement already satisfied: regex<2025.0.0,>=2024.9.11 in /usr/local/lib/python3.10/dist-packages (from crewai) (2024.9.11)\n",
            "Requirement already satisfied: aiohttp<4.0.0,>=3.9.1 in /usr/local/lib/python3.10/dist-packages (from instructor==1.3.3->crewai) (3.10.5)\n",
            "Requirement already satisfied: docstring-parser<0.17,>=0.16 in /usr/local/lib/python3.10/dist-packages (from instructor==1.3.3->crewai) (0.16)\n",
            "Requirement already satisfied: jiter<0.5.0,>=0.4.1 in /usr/local/lib/python3.10/dist-packages (from instructor==1.3.3->crewai) (0.4.2)\n",
            "Requirement already satisfied: pydantic-core<3.0.0,>=2.18.0 in /usr/local/lib/python3.10/dist-packages (from instructor==1.3.3->crewai) (2.23.3)\n",
            "Requirement already satisfied: rich<14.0.0,>=13.7.0 in /usr/local/lib/python3.10/dist-packages (from instructor==1.3.3->crewai) (13.8.1)\n",
            "Requirement already satisfied: tenacity<9.0.0,>=8.2.3 in /usr/local/lib/python3.10/dist-packages (from instructor==1.3.3->crewai) (8.5.0)\n",
            "Requirement already satisfied: typer<1.0.0,>=0.9.0 in /usr/local/lib/python3.10/dist-packages (from instructor==1.3.3->crewai) (0.12.5)\n",
            "Requirement already satisfied: PyYAML>=5.3 in /usr/local/lib/python3.10/dist-packages (from langchain) (6.0.2)\n",
            "Requirement already satisfied: SQLAlchemy<3,>=1.4 in /usr/local/lib/python3.10/dist-packages (from langchain) (2.0.34)\n",
            "Requirement already satisfied: async-timeout<5.0.0,>=4.0.0 in /usr/local/lib/python3.10/dist-packages (from langchain) (4.0.3)\n",
            "Requirement already satisfied: langchain-core<0.3.0,>=0.2.38 in /usr/local/lib/python3.10/dist-packages (from langchain) (0.2.40)\n",
            "Requirement already satisfied: langchain-text-splitters<0.3.0,>=0.2.0 in /usr/local/lib/python3.10/dist-packages (from langchain) (0.2.4)\n",
            "Requirement already satisfied: langsmith<0.2.0,>=0.1.17 in /usr/local/lib/python3.10/dist-packages (from langchain) (0.1.122)\n",
            "Requirement already satisfied: numpy<2,>=1 in /usr/local/lib/python3.10/dist-packages (from langchain) (1.26.4)\n",
            "Requirement already satisfied: requests<3,>=2 in /usr/local/lib/python3.10/dist-packages (from langchain) (2.32.3)\n",
            "Requirement already satisfied: dataclasses-json<0.7,>=0.5.7 in /usr/local/lib/python3.10/dist-packages (from langchain-community) (0.6.7)\n",
            "Requirement already satisfied: groq<1,>=0.4.1 in /usr/local/lib/python3.10/dist-packages (from langchain_groq) (0.11.0)\n",
            "Requirement already satisfied: aiohappyeyeballs>=2.3.0 in /usr/local/lib/python3.10/dist-packages (from aiohttp<4.0.0,>=3.9.1->instructor==1.3.3->crewai) (2.4.0)\n",
            "Requirement already satisfied: aiosignal>=1.1.2 in /usr/local/lib/python3.10/dist-packages (from aiohttp<4.0.0,>=3.9.1->instructor==1.3.3->crewai) (1.3.1)\n",
            "Requirement already satisfied: attrs>=17.3.0 in /usr/local/lib/python3.10/dist-packages (from aiohttp<4.0.0,>=3.9.1->instructor==1.3.3->crewai) (24.2.0)\n",
            "Requirement already satisfied: frozenlist>=1.1.1 in /usr/local/lib/python3.10/dist-packages (from aiohttp<4.0.0,>=3.9.1->instructor==1.3.3->crewai) (1.4.1)\n",
            "Requirement already satisfied: multidict<7.0,>=4.5 in /usr/local/lib/python3.10/dist-packages (from aiohttp<4.0.0,>=3.9.1->instructor==1.3.3->crewai) (6.1.0)\n",
            "Requirement already satisfied: yarl<2.0,>=1.0 in /usr/local/lib/python3.10/dist-packages (from aiohttp<4.0.0,>=3.9.1->instructor==1.3.3->crewai) (1.11.1)\n",
            "Requirement already satisfied: cryptography<44.0.0,>=43.0.1 in /usr/local/lib/python3.10/dist-packages (from auth0-python<5.0.0,>=4.7.1->crewai) (43.0.1)\n",
            "Requirement already satisfied: pyjwt<3.0.0,>=2.8.0 in /usr/local/lib/python3.10/dist-packages (from auth0-python<5.0.0,>=4.7.1->crewai) (2.9.0)\n",
            "Requirement already satisfied: urllib3<3.0.0,>=2.0.7 in /usr/local/lib/python3.10/dist-packages (from auth0-python<5.0.0,>=4.7.1->crewai) (2.0.7)\n",
            "Requirement already satisfied: marshmallow<4.0.0,>=3.18.0 in /usr/local/lib/python3.10/dist-packages (from dataclasses-json<0.7,>=0.5.7->langchain-community) (3.22.0)\n",
            "Requirement already satisfied: typing-inspect<1,>=0.4.0 in /usr/local/lib/python3.10/dist-packages (from dataclasses-json<0.7,>=0.5.7->langchain-community) (0.9.0)\n",
            "Requirement already satisfied: alembic<2.0.0,>=1.13.1 in /usr/local/lib/python3.10/dist-packages (from embedchain<0.2.0,>=0.1.114->crewai) (1.13.2)\n",
            "Requirement already satisfied: beautifulsoup4<5.0.0,>=4.12.2 in /usr/local/lib/python3.10/dist-packages (from embedchain<0.2.0,>=0.1.114->crewai) (4.12.3)\n",
            "Requirement already satisfied: chromadb<0.5.0,>=0.4.24 in /usr/local/lib/python3.10/dist-packages (from embedchain<0.2.0,>=0.1.114->crewai) (0.4.24)\n",
            "Requirement already satisfied: cohere<6.0,>=5.3 in /usr/local/lib/python3.10/dist-packages (from embedchain<0.2.0,>=0.1.114->crewai) (5.9.2)\n",
            "Requirement already satisfied: google-cloud-aiplatform<2.0.0,>=1.26.1 in /usr/local/lib/python3.10/dist-packages (from embedchain<0.2.0,>=0.1.114->crewai) (1.66.0)\n",
            "Requirement already satisfied: gptcache<0.2.0,>=0.1.43 in /usr/local/lib/python3.10/dist-packages (from embedchain<0.2.0,>=0.1.114->crewai) (0.1.44)\n",
            "Requirement already satisfied: langchain-cohere<0.2.0,>=0.1.4 in /usr/local/lib/python3.10/dist-packages (from embedchain<0.2.0,>=0.1.114->crewai) (0.1.9)\n",
            "Requirement already satisfied: langchain-openai<0.2.0,>=0.1.7 in /usr/local/lib/python3.10/dist-packages (from embedchain<0.2.0,>=0.1.114->crewai) (0.1.25)\n",
            "Requirement already satisfied: mem0ai<0.0.21,>=0.0.20 in /usr/local/lib/python3.10/dist-packages (from embedchain<0.2.0,>=0.1.114->crewai) (0.0.20)\n",
            "Requirement already satisfied: posthog<4.0.0,>=3.0.2 in /usr/local/lib/python3.10/dist-packages (from embedchain<0.2.0,>=0.1.114->crewai) (3.6.6)\n",
            "Requirement already satisfied: pypdf<5.0.0,>=4.0.1 in /usr/local/lib/python3.10/dist-packages (from embedchain<0.2.0,>=0.1.114->crewai) (4.3.1)\n",
            "Requirement already satisfied: pysbd<0.4.0,>=0.3.4 in /usr/local/lib/python3.10/dist-packages (from embedchain<0.2.0,>=0.1.114->crewai) (0.3.4)\n",
            "Requirement already satisfied: schema<0.8.0,>=0.7.5 in /usr/local/lib/python3.10/dist-packages (from embedchain<0.2.0,>=0.1.114->crewai) (0.7.7)\n",
            "Requirement already satisfied: tiktoken<0.8.0,>=0.7.0 in /usr/local/lib/python3.10/dist-packages (from embedchain<0.2.0,>=0.1.114->crewai) (0.7.0)\n",
            "Requirement already satisfied: anyio<5,>=3.5.0 in /usr/local/lib/python3.10/dist-packages (from groq<1,>=0.4.1->langchain_groq) (3.7.1)\n",
            "Requirement already satisfied: distro<2,>=1.7.0 in /usr/lib/python3/dist-packages (from groq<1,>=0.4.1->langchain_groq) (1.7.0)\n",
            "Requirement already satisfied: httpx<1,>=0.23.0 in /usr/local/lib/python3.10/dist-packages (from groq<1,>=0.4.1->langchain_groq) (0.27.2)\n",
            "Requirement already satisfied: sniffio in /usr/local/lib/python3.10/dist-packages (from groq<1,>=0.4.1->langchain_groq) (1.3.1)\n",
            "Requirement already satisfied: typing-extensions<5,>=4.7 in /usr/local/lib/python3.10/dist-packages (from groq<1,>=0.4.1->langchain_groq) (4.12.2)\n",
            "Requirement already satisfied: jsonpatch<2.0,>=1.33 in /usr/local/lib/python3.10/dist-packages (from langchain-core<0.3.0,>=0.2.38->langchain) (1.33)\n",
            "Requirement already satisfied: packaging<25,>=23.2 in /usr/local/lib/python3.10/dist-packages (from langchain-core<0.3.0,>=0.2.38->langchain) (24.1)\n",
            "Requirement already satisfied: orjson<4.0.0,>=3.9.14 in /usr/local/lib/python3.10/dist-packages (from langsmith<0.2.0,>=0.1.17->langchain) (3.10.7)\n",
            "Requirement already satisfied: importlib-metadata>=6.8.0 in /usr/local/lib/python3.10/dist-packages (from litellm<2.0.0,>=1.44.22->crewai) (8.4.0)\n",
            "Requirement already satisfied: jinja2<4.0.0,>=3.1.2 in /usr/local/lib/python3.10/dist-packages (from litellm<2.0.0,>=1.44.22->crewai) (3.1.4)\n",
            "Requirement already satisfied: jsonschema<5.0.0,>=4.22.0 in /usr/local/lib/python3.10/dist-packages (from litellm<2.0.0,>=1.44.22->crewai) (4.23.0)\n",
            "Requirement already satisfied: tokenizers in /usr/local/lib/python3.10/dist-packages (from litellm<2.0.0,>=1.44.22->crewai) (0.19.1)\n",
            "Requirement already satisfied: tqdm>4 in /usr/local/lib/python3.10/dist-packages (from openai<2.0.0,>=1.13.3->crewai) (4.66.5)\n",
            "Requirement already satisfied: deprecated>=1.2.6 in /usr/local/lib/python3.10/dist-packages (from opentelemetry-api<2.0.0,>=1.22.0->crewai) (1.2.14)\n",
            "Requirement already satisfied: googleapis-common-protos~=1.52 in /usr/local/lib/python3.10/dist-packages (from opentelemetry-exporter-otlp-proto-http<2.0.0,>=1.22.0->crewai) (1.65.0)\n",
            "Requirement already satisfied: opentelemetry-exporter-otlp-proto-common==1.27.0 in /usr/local/lib/python3.10/dist-packages (from opentelemetry-exporter-otlp-proto-http<2.0.0,>=1.22.0->crewai) (1.27.0)\n",
            "Requirement already satisfied: opentelemetry-proto==1.27.0 in /usr/local/lib/python3.10/dist-packages (from opentelemetry-exporter-otlp-proto-http<2.0.0,>=1.22.0->crewai) (1.27.0)\n",
            "Requirement already satisfied: protobuf<5.0,>=3.19 in /usr/local/lib/python3.10/dist-packages (from opentelemetry-proto==1.27.0->opentelemetry-exporter-otlp-proto-http<2.0.0,>=1.22.0->crewai) (4.25.4)\n",
            "Requirement already satisfied: opentelemetry-semantic-conventions==0.48b0 in /usr/local/lib/python3.10/dist-packages (from opentelemetry-sdk<2.0.0,>=1.22.0->crewai) (0.48b0)\n",
            "Requirement already satisfied: build<2.0.0,>=1.0.3 in /usr/local/lib/python3.10/dist-packages (from poetry<2.0.0,>=1.8.3->crewai) (1.2.2)\n",
            "Requirement already satisfied: cachecontrol<0.15.0,>=0.14.0 in /usr/local/lib/python3.10/dist-packages (from cachecontrol[filecache]<0.15.0,>=0.14.0->poetry<2.0.0,>=1.8.3->crewai) (0.14.0)\n",
            "Requirement already satisfied: cleo<3.0.0,>=2.1.0 in /usr/local/lib/python3.10/dist-packages (from poetry<2.0.0,>=1.8.3->crewai) (2.1.0)\n",
            "Requirement already satisfied: crashtest<0.5.0,>=0.4.1 in /usr/local/lib/python3.10/dist-packages (from poetry<2.0.0,>=1.8.3->crewai) (0.4.1)\n",
            "Requirement already satisfied: dulwich<0.22.0,>=0.21.2 in /usr/local/lib/python3.10/dist-packages (from poetry<2.0.0,>=1.8.3->crewai) (0.21.7)\n",
            "Requirement already satisfied: fastjsonschema<3.0.0,>=2.18.0 in /usr/local/lib/python3.10/dist-packages (from poetry<2.0.0,>=1.8.3->crewai) (2.20.0)\n",
            "Requirement already satisfied: installer<0.8.0,>=0.7.0 in /usr/local/lib/python3.10/dist-packages (from poetry<2.0.0,>=1.8.3->crewai) (0.7.0)\n",
            "Requirement already satisfied: keyring<25.0.0,>=24.0.0 in /usr/local/lib/python3.10/dist-packages (from poetry<2.0.0,>=1.8.3->crewai) (24.3.1)\n",
            "Requirement already satisfied: pexpect<5.0.0,>=4.7.0 in /usr/local/lib/python3.10/dist-packages (from poetry<2.0.0,>=1.8.3->crewai) (4.9.0)\n",
            "Requirement already satisfied: pkginfo<2.0,>=1.10 in /usr/local/lib/python3.10/dist-packages (from poetry<2.0.0,>=1.8.3->crewai) (1.11.1)\n",
            "Requirement already satisfied: platformdirs<5,>=3.0.0 in /usr/local/lib/python3.10/dist-packages (from poetry<2.0.0,>=1.8.3->crewai) (4.3.3)\n",
            "Requirement already satisfied: poetry-core==1.9.0 in /usr/local/lib/python3.10/dist-packages (from poetry<2.0.0,>=1.8.3->crewai) (1.9.0)\n",
            "Requirement already satisfied: poetry-plugin-export<2.0.0,>=1.6.0 in /usr/local/lib/python3.10/dist-packages (from poetry<2.0.0,>=1.8.3->crewai) (1.8.0)\n",
            "Requirement already satisfied: pyproject-hooks<2.0.0,>=1.0.0 in /usr/local/lib/python3.10/dist-packages (from poetry<2.0.0,>=1.8.3->crewai) (1.1.0)\n",
            "Requirement already satisfied: requests-toolbelt<2.0.0,>=1.0.0 in /usr/local/lib/python3.10/dist-packages (from poetry<2.0.0,>=1.8.3->crewai) (1.0.0)\n",
            "Requirement already satisfied: shellingham<2.0,>=1.5 in /usr/local/lib/python3.10/dist-packages (from poetry<2.0.0,>=1.8.3->crewai) (1.5.4)\n",
            "Requirement already satisfied: tomli<3.0.0,>=2.0.1 in /usr/local/lib/python3.10/dist-packages (from poetry<2.0.0,>=1.8.3->crewai) (2.0.1)\n",
            "Requirement already satisfied: tomlkit<1.0.0,>=0.11.4 in /usr/local/lib/python3.10/dist-packages (from poetry<2.0.0,>=1.8.3->crewai) (0.13.2)\n",
            "Requirement already satisfied: trove-classifiers>=2022.5.19 in /usr/local/lib/python3.10/dist-packages (from poetry<2.0.0,>=1.8.3->crewai) (2024.9.12)\n",
            "Requirement already satisfied: virtualenv<21.0.0,>=20.23.0 in /usr/local/lib/python3.10/dist-packages (from poetry<2.0.0,>=1.8.3->crewai) (20.26.5)\n",
            "Requirement already satisfied: annotated-types>=0.6.0 in /usr/local/lib/python3.10/dist-packages (from pydantic<3.0.0,>=2.4.2->crewai) (0.7.0)\n",
            "Requirement already satisfied: charset-normalizer<4,>=2 in /usr/local/lib/python3.10/dist-packages (from requests<3,>=2->langchain) (3.3.2)\n",
            "Requirement already satisfied: idna<4,>=2.5 in /usr/local/lib/python3.10/dist-packages (from requests<3,>=2->langchain) (3.10)\n",
            "Requirement already satisfied: certifi>=2017.4.17 in /usr/local/lib/python3.10/dist-packages (from requests<3,>=2->langchain) (2024.8.30)\n",
            "Requirement already satisfied: greenlet!=0.4.17 in /usr/local/lib/python3.10/dist-packages (from SQLAlchemy<3,>=1.4->langchain) (3.1.0)\n",
            "Requirement already satisfied: Mako in /usr/local/lib/python3.10/dist-packages (from alembic<2.0.0,>=1.13.1->embedchain<0.2.0,>=0.1.114->crewai) (1.3.5)\n",
            "Requirement already satisfied: exceptiongroup in /usr/local/lib/python3.10/dist-packages (from anyio<5,>=3.5.0->groq<1,>=0.4.1->langchain_groq) (1.2.2)\n",
            "Requirement already satisfied: soupsieve>1.2 in /usr/local/lib/python3.10/dist-packages (from beautifulsoup4<5.0.0,>=4.12.2->embedchain<0.2.0,>=0.1.114->crewai) (2.6)\n",
            "Requirement already satisfied: msgpack<2.0.0,>=0.5.2 in /usr/local/lib/python3.10/dist-packages (from cachecontrol<0.15.0,>=0.14.0->cachecontrol[filecache]<0.15.0,>=0.14.0->poetry<2.0.0,>=1.8.3->crewai) (1.0.8)\n",
            "Requirement already satisfied: filelock>=3.8.0 in /usr/local/lib/python3.10/dist-packages (from cachecontrol[filecache]<0.15.0,>=0.14.0->poetry<2.0.0,>=1.8.3->crewai) (3.16.0)\n",
            "Requirement already satisfied: chroma-hnswlib==0.7.3 in /usr/local/lib/python3.10/dist-packages (from chromadb<0.5.0,>=0.4.24->embedchain<0.2.0,>=0.1.114->crewai) (0.7.3)\n",
            "Requirement already satisfied: fastapi>=0.95.2 in /usr/local/lib/python3.10/dist-packages (from chromadb<0.5.0,>=0.4.24->embedchain<0.2.0,>=0.1.114->crewai) (0.115.0)\n",
            "Requirement already satisfied: uvicorn>=0.18.3 in /usr/local/lib/python3.10/dist-packages (from uvicorn[standard]>=0.18.3->chromadb<0.5.0,>=0.4.24->embedchain<0.2.0,>=0.1.114->crewai) (0.30.6)\n",
            "Requirement already satisfied: pulsar-client>=3.1.0 in /usr/local/lib/python3.10/dist-packages (from chromadb<0.5.0,>=0.4.24->embedchain<0.2.0,>=0.1.114->crewai) (3.5.0)\n",
            "Requirement already satisfied: onnxruntime>=1.14.1 in /usr/local/lib/python3.10/dist-packages (from chromadb<0.5.0,>=0.4.24->embedchain<0.2.0,>=0.1.114->crewai) (1.19.2)\n",
            "Requirement already satisfied: opentelemetry-exporter-otlp-proto-grpc>=1.2.0 in /usr/local/lib/python3.10/dist-packages (from chromadb<0.5.0,>=0.4.24->embedchain<0.2.0,>=0.1.114->crewai) (1.27.0)\n",
            "Requirement already satisfied: opentelemetry-instrumentation-fastapi>=0.41b0 in /usr/local/lib/python3.10/dist-packages (from chromadb<0.5.0,>=0.4.24->embedchain<0.2.0,>=0.1.114->crewai) (0.48b0)\n",
            "Requirement already satisfied: pypika>=0.48.9 in /usr/local/lib/python3.10/dist-packages (from chromadb<0.5.0,>=0.4.24->embedchain<0.2.0,>=0.1.114->crewai) (0.48.9)\n",
            "Requirement already satisfied: overrides>=7.3.1 in /usr/local/lib/python3.10/dist-packages (from chromadb<0.5.0,>=0.4.24->embedchain<0.2.0,>=0.1.114->crewai) (7.7.0)\n",
            "Requirement already satisfied: importlib-resources in /usr/local/lib/python3.10/dist-packages (from chromadb<0.5.0,>=0.4.24->embedchain<0.2.0,>=0.1.114->crewai) (6.4.5)\n",
            "Requirement already satisfied: grpcio>=1.58.0 in /usr/local/lib/python3.10/dist-packages (from chromadb<0.5.0,>=0.4.24->embedchain<0.2.0,>=0.1.114->crewai) (1.64.1)\n",
            "Requirement already satisfied: bcrypt>=4.0.1 in /usr/local/lib/python3.10/dist-packages (from chromadb<0.5.0,>=0.4.24->embedchain<0.2.0,>=0.1.114->crewai) (4.2.0)\n",
            "Requirement already satisfied: kubernetes>=28.1.0 in /usr/local/lib/python3.10/dist-packages (from chromadb<0.5.0,>=0.4.24->embedchain<0.2.0,>=0.1.114->crewai) (30.1.0)\n",
            "Requirement already satisfied: mmh3>=4.0.1 in /usr/local/lib/python3.10/dist-packages (from chromadb<0.5.0,>=0.4.24->embedchain<0.2.0,>=0.1.114->crewai) (5.0.0)\n",
            "Requirement already satisfied: rapidfuzz<4.0.0,>=3.0.0 in /usr/local/lib/python3.10/dist-packages (from cleo<3.0.0,>=2.1.0->poetry<2.0.0,>=1.8.3->crewai) (3.9.7)\n",
            "Requirement already satisfied: boto3<2.0.0,>=1.34.0 in /usr/local/lib/python3.10/dist-packages (from cohere<6.0,>=5.3->embedchain<0.2.0,>=0.1.114->crewai) (1.35.22)\n",
            "Requirement already satisfied: fastavro<2.0.0,>=1.9.4 in /usr/local/lib/python3.10/dist-packages (from cohere<6.0,>=5.3->embedchain<0.2.0,>=0.1.114->crewai) (1.9.7)\n",
            "Requirement already satisfied: httpx-sse==0.4.0 in /usr/local/lib/python3.10/dist-packages (from cohere<6.0,>=5.3->embedchain<0.2.0,>=0.1.114->crewai) (0.4.0)\n",
            "Requirement already satisfied: parameterized<0.10.0,>=0.9.0 in /usr/local/lib/python3.10/dist-packages (from cohere<6.0,>=5.3->embedchain<0.2.0,>=0.1.114->crewai) (0.9.0)\n",
            "Requirement already satisfied: types-requests<3.0.0,>=2.0.0 in /usr/local/lib/python3.10/dist-packages (from cohere<6.0,>=5.3->embedchain<0.2.0,>=0.1.114->crewai) (2.32.0.20240914)\n",
            "Requirement already satisfied: cffi>=1.12 in /usr/local/lib/python3.10/dist-packages (from cryptography<44.0.0,>=43.0.1->auth0-python<5.0.0,>=4.7.1->crewai) (1.17.1)\n",
            "Requirement already satisfied: wrapt<2,>=1.10 in /usr/local/lib/python3.10/dist-packages (from deprecated>=1.2.6->opentelemetry-api<2.0.0,>=1.22.0->crewai) (1.16.0)\n",
            "Requirement already satisfied: google-api-core!=2.0.*,!=2.1.*,!=2.2.*,!=2.3.*,!=2.4.*,!=2.5.*,!=2.6.*,!=2.7.*,<3.0.0dev,>=1.34.1 in /usr/local/lib/python3.10/dist-packages (from google-api-core[grpc]!=2.0.*,!=2.1.*,!=2.2.*,!=2.3.*,!=2.4.*,!=2.5.*,!=2.6.*,!=2.7.*,<3.0.0dev,>=1.34.1->google-cloud-aiplatform<2.0.0,>=1.26.1->embedchain<0.2.0,>=0.1.114->crewai) (2.19.2)\n",
            "Requirement already satisfied: google-auth<3.0.0dev,>=2.14.1 in /usr/local/lib/python3.10/dist-packages (from google-cloud-aiplatform<2.0.0,>=1.26.1->embedchain<0.2.0,>=0.1.114->crewai) (2.27.0)\n",
            "Requirement already satisfied: proto-plus<2.0.0dev,>=1.22.3 in /usr/local/lib/python3.10/dist-packages (from google-cloud-aiplatform<2.0.0,>=1.26.1->embedchain<0.2.0,>=0.1.114->crewai) (1.24.0)\n",
            "Requirement already satisfied: google-cloud-storage<3.0.0dev,>=1.32.0 in /usr/local/lib/python3.10/dist-packages (from google-cloud-aiplatform<2.0.0,>=1.26.1->embedchain<0.2.0,>=0.1.114->crewai) (2.8.0)\n",
            "Requirement already satisfied: google-cloud-bigquery!=3.20.0,<4.0.0dev,>=1.15.0 in /usr/local/lib/python3.10/dist-packages (from google-cloud-aiplatform<2.0.0,>=1.26.1->embedchain<0.2.0,>=0.1.114->crewai) (3.25.0)\n",
            "Requirement already satisfied: google-cloud-resource-manager<3.0.0dev,>=1.3.3 in /usr/local/lib/python3.10/dist-packages (from google-cloud-aiplatform<2.0.0,>=1.26.1->embedchain<0.2.0,>=0.1.114->crewai) (1.12.5)\n",
            "Requirement already satisfied: shapely<3.0.0dev in /usr/local/lib/python3.10/dist-packages (from google-cloud-aiplatform<2.0.0,>=1.26.1->embedchain<0.2.0,>=0.1.114->crewai) (2.0.6)\n",
            "Requirement already satisfied: cachetools in /usr/local/lib/python3.10/dist-packages (from gptcache<0.2.0,>=0.1.43->embedchain<0.2.0,>=0.1.114->crewai) (5.5.0)\n",
            "Requirement already satisfied: httpcore==1.* in /usr/local/lib/python3.10/dist-packages (from httpx<1,>=0.23.0->groq<1,>=0.4.1->langchain_groq) (1.0.5)\n",
            "Requirement already satisfied: h11<0.15,>=0.13 in /usr/local/lib/python3.10/dist-packages (from httpcore==1.*->httpx<1,>=0.23.0->groq<1,>=0.4.1->langchain_groq) (0.14.0)\n",
            "Requirement already satisfied: zipp>=0.5 in /usr/local/lib/python3.10/dist-packages (from importlib-metadata>=6.8.0->litellm<2.0.0,>=1.44.22->crewai) (3.20.2)\n",
            "Requirement already satisfied: MarkupSafe>=2.0 in /usr/local/lib/python3.10/dist-packages (from jinja2<4.0.0,>=3.1.2->litellm<2.0.0,>=1.44.22->crewai) (2.1.5)\n",
            "Requirement already satisfied: jsonpointer>=1.9 in /usr/local/lib/python3.10/dist-packages (from jsonpatch<2.0,>=1.33->langchain-core<0.3.0,>=0.2.38->langchain) (3.0.0)\n",
            "Requirement already satisfied: jsonschema-specifications>=2023.03.6 in /usr/local/lib/python3.10/dist-packages (from jsonschema<5.0.0,>=4.22.0->litellm<2.0.0,>=1.44.22->crewai) (2023.12.1)\n",
            "Requirement already satisfied: referencing>=0.28.4 in /usr/local/lib/python3.10/dist-packages (from jsonschema<5.0.0,>=4.22.0->litellm<2.0.0,>=1.44.22->crewai) (0.35.1)\n",
            "Requirement already satisfied: rpds-py>=0.7.1 in /usr/local/lib/python3.10/dist-packages (from jsonschema<5.0.0,>=4.22.0->litellm<2.0.0,>=1.44.22->crewai) (0.20.0)\n",
            "Requirement already satisfied: jaraco.classes in /usr/local/lib/python3.10/dist-packages (from keyring<25.0.0,>=24.0.0->poetry<2.0.0,>=1.8.3->crewai) (3.4.0)\n",
            "Requirement already satisfied: SecretStorage>=3.2 in /usr/lib/python3/dist-packages (from keyring<25.0.0,>=24.0.0->poetry<2.0.0,>=1.8.3->crewai) (3.3.1)\n",
            "Requirement already satisfied: jeepney>=0.4.2 in /usr/lib/python3/dist-packages (from keyring<25.0.0,>=24.0.0->poetry<2.0.0,>=1.8.3->crewai) (0.7.1)\n",
            "Requirement already satisfied: langchain-experimental>=0.0.6 in /usr/local/lib/python3.10/dist-packages (from langchain-cohere<0.2.0,>=0.1.4->embedchain<0.2.0,>=0.1.114->crewai) (0.0.65)\n",
            "Requirement already satisfied: pandas>=1.4.3 in /usr/local/lib/python3.10/dist-packages (from langchain-cohere<0.2.0,>=0.1.4->embedchain<0.2.0,>=0.1.114->crewai) (2.1.4)\n",
            "Requirement already satisfied: tabulate<0.10.0,>=0.9.0 in /usr/local/lib/python3.10/dist-packages (from langchain-cohere<0.2.0,>=0.1.4->embedchain<0.2.0,>=0.1.114->crewai) (0.9.0)\n",
            "Requirement already satisfied: pytz<2025.0,>=2024.1 in /usr/local/lib/python3.10/dist-packages (from mem0ai<0.0.21,>=0.0.20->embedchain<0.2.0,>=0.1.114->crewai) (2024.2)\n",
            "Requirement already satisfied: qdrant-client<2.0.0,>=1.9.1 in /usr/local/lib/python3.10/dist-packages (from mem0ai<0.0.21,>=0.0.20->embedchain<0.2.0,>=0.1.114->crewai) (1.11.2)\n",
            "Requirement already satisfied: ptyprocess>=0.5 in /usr/local/lib/python3.10/dist-packages (from pexpect<5.0.0,>=4.7.0->poetry<2.0.0,>=1.8.3->crewai) (0.7.0)\n",
            "Requirement already satisfied: six>=1.5 in /usr/local/lib/python3.10/dist-packages (from posthog<4.0.0,>=3.0.2->embedchain<0.2.0,>=0.1.114->crewai) (1.16.0)\n",
            "Requirement already satisfied: monotonic>=1.5 in /usr/local/lib/python3.10/dist-packages (from posthog<4.0.0,>=3.0.2->embedchain<0.2.0,>=0.1.114->crewai) (1.6)\n",
            "Requirement already satisfied: backoff>=1.10.0 in /usr/local/lib/python3.10/dist-packages (from posthog<4.0.0,>=3.0.2->embedchain<0.2.0,>=0.1.114->crewai) (2.2.1)\n",
            "Requirement already satisfied: python-dateutil>2.1 in /usr/local/lib/python3.10/dist-packages (from posthog<4.0.0,>=3.0.2->embedchain<0.2.0,>=0.1.114->crewai) (2.8.2)\n",
            "Requirement already satisfied: markdown-it-py>=2.2.0 in /usr/local/lib/python3.10/dist-packages (from rich<14.0.0,>=13.7.0->instructor==1.3.3->crewai) (3.0.0)\n",
            "Requirement already satisfied: pygments<3.0.0,>=2.13.0 in /usr/local/lib/python3.10/dist-packages (from rich<14.0.0,>=13.7.0->instructor==1.3.3->crewai) (2.18.0)\n",
            "Requirement already satisfied: huggingface-hub<1.0,>=0.16.4 in /usr/local/lib/python3.10/dist-packages (from tokenizers->litellm<2.0.0,>=1.44.22->crewai) (0.24.7)\n",
            "Requirement already satisfied: mypy-extensions>=0.3.0 in /usr/local/lib/python3.10/dist-packages (from typing-inspect<1,>=0.4.0->dataclasses-json<0.7,>=0.5.7->langchain-community) (1.0.0)\n",
            "Requirement already satisfied: distlib<1,>=0.3.7 in /usr/local/lib/python3.10/dist-packages (from virtualenv<21.0.0,>=20.23.0->poetry<2.0.0,>=1.8.3->crewai) (0.3.8)\n",
            "Requirement already satisfied: botocore<1.36.0,>=1.35.22 in /usr/local/lib/python3.10/dist-packages (from boto3<2.0.0,>=1.34.0->cohere<6.0,>=5.3->embedchain<0.2.0,>=0.1.114->crewai) (1.35.22)\n",
            "Requirement already satisfied: jmespath<2.0.0,>=0.7.1 in /usr/local/lib/python3.10/dist-packages (from boto3<2.0.0,>=1.34.0->cohere<6.0,>=5.3->embedchain<0.2.0,>=0.1.114->crewai) (1.0.1)\n",
            "Requirement already satisfied: s3transfer<0.11.0,>=0.10.0 in /usr/local/lib/python3.10/dist-packages (from boto3<2.0.0,>=1.34.0->cohere<6.0,>=5.3->embedchain<0.2.0,>=0.1.114->crewai) (0.10.2)\n",
            "Requirement already satisfied: pycparser in /usr/local/lib/python3.10/dist-packages (from cffi>=1.12->cryptography<44.0.0,>=43.0.1->auth0-python<5.0.0,>=4.7.1->crewai) (2.22)\n",
            "Requirement already satisfied: starlette<0.39.0,>=0.37.2 in /usr/local/lib/python3.10/dist-packages (from fastapi>=0.95.2->chromadb<0.5.0,>=0.4.24->embedchain<0.2.0,>=0.1.114->crewai) (0.38.5)\n",
            "Requirement already satisfied: grpcio-status<2.0.dev0,>=1.33.2 in /usr/local/lib/python3.10/dist-packages (from google-api-core[grpc]!=2.0.*,!=2.1.*,!=2.2.*,!=2.3.*,!=2.4.*,!=2.5.*,!=2.6.*,!=2.7.*,<3.0.0dev,>=1.34.1->google-cloud-aiplatform<2.0.0,>=1.26.1->embedchain<0.2.0,>=0.1.114->crewai) (1.48.2)\n",
            "Requirement already satisfied: pyasn1-modules>=0.2.1 in /usr/local/lib/python3.10/dist-packages (from google-auth<3.0.0dev,>=2.14.1->google-cloud-aiplatform<2.0.0,>=1.26.1->embedchain<0.2.0,>=0.1.114->crewai) (0.4.1)\n",
            "Requirement already satisfied: rsa<5,>=3.1.4 in /usr/local/lib/python3.10/dist-packages (from google-auth<3.0.0dev,>=2.14.1->google-cloud-aiplatform<2.0.0,>=1.26.1->embedchain<0.2.0,>=0.1.114->crewai) (4.9)\n",
            "Requirement already satisfied: google-cloud-core<3.0.0dev,>=1.6.0 in /usr/local/lib/python3.10/dist-packages (from google-cloud-bigquery!=3.20.0,<4.0.0dev,>=1.15.0->google-cloud-aiplatform<2.0.0,>=1.26.1->embedchain<0.2.0,>=0.1.114->crewai) (2.4.1)\n",
            "Requirement already satisfied: google-resumable-media<3.0dev,>=0.6.0 in /usr/local/lib/python3.10/dist-packages (from google-cloud-bigquery!=3.20.0,<4.0.0dev,>=1.15.0->google-cloud-aiplatform<2.0.0,>=1.26.1->embedchain<0.2.0,>=0.1.114->crewai) (2.7.2)\n",
            "Requirement already satisfied: grpc-google-iam-v1<1.0.0dev,>=0.12.4 in /usr/local/lib/python3.10/dist-packages (from google-cloud-resource-manager<3.0.0dev,>=1.3.3->google-cloud-aiplatform<2.0.0,>=1.26.1->embedchain<0.2.0,>=0.1.114->crewai) (0.13.1)\n",
            "Requirement already satisfied: fsspec>=2023.5.0 in /usr/local/lib/python3.10/dist-packages (from huggingface-hub<1.0,>=0.16.4->tokenizers->litellm<2.0.0,>=1.44.22->crewai) (2024.6.1)\n",
            "Requirement already satisfied: websocket-client!=0.40.0,!=0.41.*,!=0.42.*,>=0.32.0 in /usr/local/lib/python3.10/dist-packages (from kubernetes>=28.1.0->chromadb<0.5.0,>=0.4.24->embedchain<0.2.0,>=0.1.114->crewai) (1.8.0)\n",
            "Requirement already satisfied: requests-oauthlib in /usr/local/lib/python3.10/dist-packages (from kubernetes>=28.1.0->chromadb<0.5.0,>=0.4.24->embedchain<0.2.0,>=0.1.114->crewai) (1.3.1)\n",
            "Requirement already satisfied: oauthlib>=3.2.2 in /usr/local/lib/python3.10/dist-packages (from kubernetes>=28.1.0->chromadb<0.5.0,>=0.4.24->embedchain<0.2.0,>=0.1.114->crewai) (3.2.2)\n",
            "Requirement already satisfied: mdurl~=0.1 in /usr/local/lib/python3.10/dist-packages (from markdown-it-py>=2.2.0->rich<14.0.0,>=13.7.0->instructor==1.3.3->crewai) (0.1.2)\n",
            "Requirement already satisfied: coloredlogs in /usr/local/lib/python3.10/dist-packages (from onnxruntime>=1.14.1->chromadb<0.5.0,>=0.4.24->embedchain<0.2.0,>=0.1.114->crewai) (15.0.1)\n",
            "Requirement already satisfied: flatbuffers in /usr/local/lib/python3.10/dist-packages (from onnxruntime>=1.14.1->chromadb<0.5.0,>=0.4.24->embedchain<0.2.0,>=0.1.114->crewai) (24.3.25)\n",
            "Requirement already satisfied: sympy in /usr/local/lib/python3.10/dist-packages (from onnxruntime>=1.14.1->chromadb<0.5.0,>=0.4.24->embedchain<0.2.0,>=0.1.114->crewai) (1.13.2)\n",
            "Requirement already satisfied: opentelemetry-instrumentation-asgi==0.48b0 in /usr/local/lib/python3.10/dist-packages (from opentelemetry-instrumentation-fastapi>=0.41b0->chromadb<0.5.0,>=0.4.24->embedchain<0.2.0,>=0.1.114->crewai) (0.48b0)\n",
            "Requirement already satisfied: opentelemetry-instrumentation==0.48b0 in /usr/local/lib/python3.10/dist-packages (from opentelemetry-instrumentation-fastapi>=0.41b0->chromadb<0.5.0,>=0.4.24->embedchain<0.2.0,>=0.1.114->crewai) (0.48b0)\n",
            "Requirement already satisfied: opentelemetry-util-http==0.48b0 in /usr/local/lib/python3.10/dist-packages (from opentelemetry-instrumentation-fastapi>=0.41b0->chromadb<0.5.0,>=0.4.24->embedchain<0.2.0,>=0.1.114->crewai) (0.48b0)\n",
            "Requirement already satisfied: setuptools>=16.0 in /usr/local/lib/python3.10/dist-packages (from opentelemetry-instrumentation==0.48b0->opentelemetry-instrumentation-fastapi>=0.41b0->chromadb<0.5.0,>=0.4.24->embedchain<0.2.0,>=0.1.114->crewai) (71.0.4)\n",
            "Requirement already satisfied: asgiref~=3.0 in /usr/local/lib/python3.10/dist-packages (from opentelemetry-instrumentation-asgi==0.48b0->opentelemetry-instrumentation-fastapi>=0.41b0->chromadb<0.5.0,>=0.4.24->embedchain<0.2.0,>=0.1.114->crewai) (3.8.1)\n",
            "Requirement already satisfied: tzdata>=2022.1 in /usr/local/lib/python3.10/dist-packages (from pandas>=1.4.3->langchain-cohere<0.2.0,>=0.1.4->embedchain<0.2.0,>=0.1.114->crewai) (2024.1)\n",
            "Requirement already satisfied: grpcio-tools>=1.41.0 in /usr/local/lib/python3.10/dist-packages (from qdrant-client<2.0.0,>=1.9.1->mem0ai<0.0.21,>=0.0.20->embedchain<0.2.0,>=0.1.114->crewai) (1.62.3)\n",
            "Requirement already satisfied: portalocker<3.0.0,>=2.7.0 in /usr/local/lib/python3.10/dist-packages (from qdrant-client<2.0.0,>=1.9.1->mem0ai<0.0.21,>=0.0.20->embedchain<0.2.0,>=0.1.114->crewai) (2.10.1)\n",
            "Requirement already satisfied: httptools>=0.5.0 in /usr/local/lib/python3.10/dist-packages (from uvicorn[standard]>=0.18.3->chromadb<0.5.0,>=0.4.24->embedchain<0.2.0,>=0.1.114->crewai) (0.6.1)\n",
            "Requirement already satisfied: uvloop!=0.15.0,!=0.15.1,>=0.14.0 in /usr/local/lib/python3.10/dist-packages (from uvicorn[standard]>=0.18.3->chromadb<0.5.0,>=0.4.24->embedchain<0.2.0,>=0.1.114->crewai) (0.20.0)\n",
            "Requirement already satisfied: watchfiles>=0.13 in /usr/local/lib/python3.10/dist-packages (from uvicorn[standard]>=0.18.3->chromadb<0.5.0,>=0.4.24->embedchain<0.2.0,>=0.1.114->crewai) (0.24.0)\n",
            "Requirement already satisfied: websockets>=10.4 in /usr/local/lib/python3.10/dist-packages (from uvicorn[standard]>=0.18.3->chromadb<0.5.0,>=0.4.24->embedchain<0.2.0,>=0.1.114->crewai) (13.0.1)\n",
            "Requirement already satisfied: more-itertools in /usr/local/lib/python3.10/dist-packages (from jaraco.classes->keyring<25.0.0,>=24.0.0->poetry<2.0.0,>=1.8.3->crewai) (10.5.0)\n",
            "Requirement already satisfied: google-crc32c<2.0dev,>=1.0 in /usr/local/lib/python3.10/dist-packages (from google-resumable-media<3.0dev,>=0.6.0->google-cloud-bigquery!=3.20.0,<4.0.0dev,>=1.15.0->google-cloud-aiplatform<2.0.0,>=1.26.1->embedchain<0.2.0,>=0.1.114->crewai) (1.6.0)\n",
            "Requirement already satisfied: h2<5,>=3 in /usr/local/lib/python3.10/dist-packages (from httpx[http2]>=0.20.0->qdrant-client<2.0.0,>=1.9.1->mem0ai<0.0.21,>=0.0.20->embedchain<0.2.0,>=0.1.114->crewai) (4.1.0)\n",
            "Requirement already satisfied: pyasn1<0.7.0,>=0.4.6 in /usr/local/lib/python3.10/dist-packages (from pyasn1-modules>=0.2.1->google-auth<3.0.0dev,>=2.14.1->google-cloud-aiplatform<2.0.0,>=1.26.1->embedchain<0.2.0,>=0.1.114->crewai) (0.6.1)\n",
            "Requirement already satisfied: humanfriendly>=9.1 in /usr/local/lib/python3.10/dist-packages (from coloredlogs->onnxruntime>=1.14.1->chromadb<0.5.0,>=0.4.24->embedchain<0.2.0,>=0.1.114->crewai) (10.0)\n",
            "Requirement already satisfied: mpmath<1.4,>=1.1.0 in /usr/local/lib/python3.10/dist-packages (from sympy->onnxruntime>=1.14.1->chromadb<0.5.0,>=0.4.24->embedchain<0.2.0,>=0.1.114->crewai) (1.3.0)\n",
            "Requirement already satisfied: hyperframe<7,>=6.0 in /usr/local/lib/python3.10/dist-packages (from h2<5,>=3->httpx[http2]>=0.20.0->qdrant-client<2.0.0,>=1.9.1->mem0ai<0.0.21,>=0.0.20->embedchain<0.2.0,>=0.1.114->crewai) (6.0.1)\n",
            "Requirement already satisfied: hpack<5,>=4.0 in /usr/local/lib/python3.10/dist-packages (from h2<5,>=3->httpx[http2]>=0.20.0->qdrant-client<2.0.0,>=1.9.1->mem0ai<0.0.21,>=0.0.20->embedchain<0.2.0,>=0.1.114->crewai) (4.0.0)\n"
          ]
        }
      ]
    },
    {
      "cell_type": "markdown",
      "source": [
        "In this step, we’ll save the necessary API key required to access the language models."
      ],
      "metadata": {
        "id": "yGn0tHXVyzJj"
      },
      "id": "yGn0tHXVyzJj"
    },
    {
      "cell_type": "code",
      "source": [
        "import os\n",
        "\n",
        "# Save the API key\n",
        "os.environ[\"GROQ_API_KEY\"] = \"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\""
      ],
      "metadata": {
        "id": "ypylILT7yqJx"
      },
      "id": "ypylILT7yqJx",
      "execution_count": 32,
      "outputs": []
    },
    {
      "cell_type": "markdown",
      "id": "4680062e",
      "metadata": {
        "id": "4680062e"
      },
      "source": [
        "\n",
        "---\n",
        "### Step 2: Import the Necessary Libraries\n",
        "\n",
        "You will need to import the relevant libraries to create and manage your agents. Fill in the missing parts of the code below:\n"
      ]
    },
    {
      "cell_type": "code",
      "source": [
        "from langchain_groq import ChatGroq\n",
        "from crewai import Agent\n",
        "from crewai import Task\n",
        "from crewai import Crew"
      ],
      "metadata": {
        "id": "D9Zr8cgExlWL"
      },
      "id": "D9Zr8cgExlWL",
      "execution_count": 33,
      "outputs": []
    },
    {
      "cell_type": "markdown",
      "source": [
        "---\n",
        "### Step 3: Create the LLM for Agents\n"
      ],
      "metadata": {
        "id": "iL2CgJJezdsS"
      },
      "id": "iL2CgJJezdsS"
    },
    {
      "cell_type": "markdown",
      "source": [
        "Now, we will create a language model using the ChatGroq class. This model will be used by both the email writer and the shadow editor. We’ll configure the model with specific parameters such as temperature, timeout, and retries."
      ],
      "metadata": {
        "id": "mth8mH_jzaFO"
      },
      "id": "mth8mH_jzaFO"
    },
    {
      "cell_type": "code",
      "source": [
        "# Create the LLM for searching and summarization\n",
        "llm = ChatGroq(\n",
        "    model=\"groq/llama-3.1-70b-versatile\",\n",
        "    temperature=0.7,  # Adjusts creativity\n",
        "    max_tokens=None,\n",
        "    timeout=None,\n",
        "    max_retries=2\n",
        ")"
      ],
      "metadata": {
        "id": "uSM58fn-zldS"
      },
      "id": "uSM58fn-zldS",
      "execution_count": 42,
      "outputs": []
    },
    {
      "cell_type": "markdown",
      "id": "fc736f9e",
      "metadata": {
        "id": "fc736f9e"
      },
      "source": [
        "\n",
        "---\n",
        "### Step 4: Create Agents\n",
        "\n",
        "Now, define the two agents. **Agent 1** will handle research, and **Agent 2** will summarize the research.\n",
        "\n",
        "Fill in the code below to create the agents:\n"
      ]
    },
    {
      "cell_type": "code",
      "source": [
        "# Create the primary agent (search for a topic)\n",
        "search_agent = Agent(\n",
        "    llm=llm,\n",
        "    role=\"search for a topic\",\n",
        "    goal=\"Write a clear and concise answers to a potential topic.\",\n",
        "    backstory=\"You are an experienced searchers with a background in professional knowledge.\",\n",
        "    allow_delegation=False,\n",
        "    verbose=1,  # Enables detailed logging\n",
        ")"
      ],
      "metadata": {
        "id": "zEmk4tf9xlv0"
      },
      "id": "zEmk4tf9xlv0",
      "execution_count": 43,
      "outputs": []
    },
    {
      "cell_type": "code",
      "source": [
        "# Create the primary agent (summarize search)\n",
        "summary_agent = Agent(\n",
        "    llm=llm,\n",
        "    role=\"summarize the research.\",\n",
        "    goal=\"Write a clear and concise  summary for the potential research.\",\n",
        "    backstory=\"You are an experienced summarizer with a background in professional text and search and how to summary the search give to you.\",\n",
        "    allow_delegation=False,\n",
        "    verbose=1,  # Enables detailed logging\n",
        ")"
      ],
      "metadata": {
        "id": "CKTXhuITzQyy"
      },
      "id": "CKTXhuITzQyy",
      "execution_count": 44,
      "outputs": []
    },
    {
      "cell_type": "markdown",
      "source": [
        "---\n",
        "### Step 5: Define the Task for searching and summarization"
      ],
      "metadata": {
        "id": "oZptAqpr0dks"
      },
      "id": "oZptAqpr0dks"
    },
    {
      "cell_type": "code",
      "source": [
        "# Task 1: Conducting Research\n",
        "task1 = Task(\n",
        "    description=\"Conduct research on the specified topic and gather relevant information.\",\n",
        "    expected_output=\"A comprehensive overview of the topic with key findings and insights.\",\n",
        "    output_file=\"research_output.txt\",\n",
        "    agent=search_agent,\n",
        ")"
      ],
      "metadata": {
        "id": "905oPCy70lXh"
      },
      "id": "905oPCy70lXh",
      "execution_count": 49,
      "outputs": []
    },
    {
      "cell_type": "code",
      "source": [
        "# Task 2: Summarizing Research\n",
        "task2 = Task(\n",
        "    description=\"Review and summarize the research findings for clarity and conciseness.\",\n",
        "    expected_output=\"A concise summary of the research that highlights key points and insights.\",\n",
        "    output_file=\"summary_output.txt\",\n",
        "    agent=summary_agent,\n",
        "    input_file=\"research_output.txt\",  # Use the output of the first task as input\n",
        ")\n"
      ],
      "metadata": {
        "id": "egY4J4_d0pDz"
      },
      "id": "egY4J4_d0pDz",
      "execution_count": 50,
      "outputs": []
    },
    {
      "cell_type": "markdown",
      "source": [
        "---\n",
        "### Step 8: Combine Agents and Tasks into a Crew"
      ],
      "metadata": {
        "id": "Kg0-EEep0stj"
      },
      "id": "Kg0-EEep0stj"
    },
    {
      "cell_type": "code",
      "source": [
        "from crewai import Crew\n",
        "# Combine agents and tasks with the crew\n",
        "crew = Crew(agents=[search_agent, summary_agent], tasks=[task1, task2], verbose=1)\n",
        "\n",
        "# Start the task execution\n",
        "print(crew.kickoff())"
      ],
      "metadata": {
        "colab": {
          "base_uri": "https://localhost:8080/"
        },
        "id": "-IIs08kT0u_r",
        "outputId": "b3b2e320-414f-4794-f3a3-7de94170c263"
      },
      "id": "-IIs08kT0u_r",
      "execution_count": 51,
      "outputs": [
        {
          "output_type": "stream",
          "name": "stderr",
          "text": [
            "WARNING:opentelemetry.trace:Overriding of current TracerProvider is not allowed\n"
          ]
        },
        {
          "output_type": "stream",
          "name": "stdout",
          "text": [
            "\u001b[1m\u001b[95m# Agent:\u001b[00m \u001b[1m\u001b[92msearch for a topic\u001b[00m\n",
            "\u001b[95m## Task:\u001b[00m \u001b[92mConduct research on the specified topic and gather relevant information.\u001b[00m\n",
            "\n",
            "\n",
            "\u001b[1m\u001b[95m# Agent:\u001b[00m \u001b[1m\u001b[92msearch for a topic\u001b[00m\n",
            "\u001b[95m## Final Answer:\u001b[00m \u001b[92m\n",
            "Conducting research on a topic involves several steps that help you gather relevant information and gain a deeper understanding of the subject. Here's a comprehensive overview of the research process:\n",
            "\n",
            "1. **Topic Selection**: The first step in conducting research is to choose a topic. Ensure the topic is specific, relevant, and interesting. It's essential to narrow down the topic to a specific area of study.\n",
            "\n",
            "2. **Background Research**: Start by gathering background information on the topic. Read general articles, books, and online resources to gain a basic understanding of the subject.\n",
            "\n",
            "3. **Research Questions**: Develop research questions that guide your investigation. These questions should be specific, measurable, and relevant to the topic.\n",
            "\n",
            "4. **Information Sources**: Identify credible sources of information, including academic journals, books, government reports, and reputable websites. Evaluate the sources based on their authority, relevance, and validity.\n",
            "\n",
            "5. **Data Collection**: Gather data from the selected sources. This can involve reading articles, conducting experiments, collecting survey data, or analyzing statistical data.\n",
            "\n",
            "6. **Data Analysis**: Analyze the collected data to identify patterns, trends, and relationships. Use statistical methods, data visualization tools, or other techniques to interpret the data.\n",
            "\n",
            "7. **Synthesis**: Synthesize the findings by integrating the analyzed data with the research questions. Identify the main themes, concepts, and relationships that emerge from the data.\n",
            "\n",
            "8. **Evaluation**: Evaluate the research findings based on their validity, reliability, and generalizability. Consider the limitations of the study and potential biases.\n",
            "\n",
            "9. **Conclusion**: Draw conclusions based on the research findings. Highlight the main contributions of the study, implications for practice or policy, and suggestions for future research.\n",
            "\n",
            "10. **Communication**: Communicate the research findings effectively through reports, presentations, or publications. Use clear language, visual aids, and concise summaries to convey the main points.\n",
            "\n",
            "By following these steps, you can conduct thorough research on a topic and gain a deeper understanding of the subject.\u001b[00m\n",
            "\u001b[1m\u001b[95m# Agent:\u001b[00m \u001b[1m\u001b[92msummarize the research.\u001b[00m\n",
            "\u001b[95m## Task:\u001b[00m \u001b[92mReview and summarize the research findings for clarity and conciseness.\u001b[00m\n",
            "\n",
            "\n",
            "\u001b[1m\u001b[95m# Agent:\u001b[00m \u001b[1m\u001b[92msummarize the research.\u001b[00m\n",
            "\u001b[95m## Final Answer:\u001b[00m \u001b[92m\n",
            "Conducting Research on a Topic: A Comprehensive Overview\n",
            "\n",
            "Conducting research on a topic involves several steps that help you gather relevant information and gain a deeper understanding of the subject. The research process is a systematic and structured approach to investigating a topic, and it involves the following steps:\n",
            "\n",
            "1. **Topic Selection**\n",
            "\n",
            "The first step in conducting research is to choose a topic. Ensure the topic is specific, relevant, and interesting. It's essential to narrow down the topic to a specific area of study. This helps to focus the research and make it more manageable. A specific topic also enables you to develop a clear research question and objectives.\n",
            "\n",
            "2. **Background Research**\n",
            "\n",
            "Start by gathering background information on the topic. Read general articles, books, and online resources to gain a basic understanding of the subject. This step helps you to understand the context and scope of the topic. It also enables you to identify gaps in existing knowledge and develop a research question.\n",
            "\n",
            "Background research is an essential step in the research process, as it provides a foundation for further investigation. It helps you to develop a deeper understanding of the topic and identify areas that require further exploration.\n",
            "\n",
            "3. **Research Questions**\n",
            "\n",
            "Develop research questions that guide your investigation. These questions should be specific, measurable, and relevant to the topic. A good research question helps to focus the research and ensure that you collect relevant data. It also enables you to develop a clear research design and methodology.\n",
            "\n",
            "Research questions can be quantitative or qualitative, depending on the nature of the study. Quantitative questions aim to measure or quantify variables, while qualitative questions seek to explore or describe phenomena.\n",
            "\n",
            "4. **Information Sources**\n",
            "\n",
            "Identify credible sources of information, including academic journals, books, government reports, and reputable websites. Evaluate the sources based on their authority, relevance, and validity. This step is crucial in ensuring that your research is based on credible and reliable information.\n",
            "\n",
            "Credible sources are essential in research, as they provide a foundation for your investigation. They also help to establish the validity and reliability of your findings.\n",
            "\n",
            "5. **Data Collection**\n",
            "\n",
            "Gather data from the selected sources. This can involve reading articles, conducting experiments, collecting survey data, or analyzing statistical data. Data collection is a critical step in the research process, as it provides the information you need to answer your research questions.\n",
            "\n",
            "Data collection methods can be quantitative or qualitative, depending on the nature of the study. Quantitative methods involve collecting numerical data, while qualitative methods involve collecting non-numerical data.\n",
            "\n",
            "6. **Data Analysis**\n",
            "\n",
            "Analyze the collected data to identify patterns, trends, and relationships. Use statistical methods, data visualization tools, or other techniques to interpret the data. This step is essential in drawing conclusions from your research.\n",
            "\n",
            "Data analysis involves using various techniques to identify meaningful patterns and relationships in your data. It helps you to summarize and describe your findings, as well as to identify areas that require further investigation.\n",
            "\n",
            "7. **Synthesis**\n",
            "\n",
            "Synthesize the findings by integrating the analyzed data with the research questions. Identify the main themes, concepts, and relationships that emerge from the data. This step involves drawing conclusions from your research and identifying the main contributions of your study.\n",
            "\n",
            "Synthesis is a critical step in the research process, as it enables you to draw conclusions from your findings. It helps you to identify the main themes and concepts that emerge from your data and to identify areas that require further investigation.\n",
            "\n",
            "8. **Evaluation**\n",
            "\n",
            "Evaluate the research findings based on their validity, reliability, and generalizability. Consider the limitations of the study and potential biases. This step is essential in ensuring that your research is credible and reliable.\n",
            "\n",
            "Evaluation involves assessing the quality of your research and identifying areas that require improvement. It helps you to establish the validity and reliability of your findings and to ensure that they are generalizable to other contexts.\n",
            "\n",
            "9. **Conclusion**\n",
            "\n",
            "Draw conclusions based on the research findings. Highlight the main contributions of the study, implications for practice or policy, and suggestions for future research. This step involves summarizing the main findings and implications of your research.\n",
            "\n",
            "A conclusion is an essential part of any research study, as it provides a summary of the main findings and implications. It helps readers to understand the main contributions of your research and to identify areas that require further investigation.\n",
            "\n",
            "10. **Communication**\n",
            "\n",
            "Communicate the research findings effectively through reports, presentations, or publications. Use clear language, visual aids, and concise summaries to convey the main points. This step is essential in disseminating your research findings to a wider audience.\n",
            "\n",
            "Communication is a critical step in the research process, as it enables you to share your findings with others. It helps you to disseminate your research to a wider audience and to ensure that your findings are used to inform practice or policy.\n",
            "\n",
            "By following these steps, you can conduct thorough research on a topic and gain a deeper understanding of the subject. The research process is a systematic and structured approach to investigating a topic, and it involves various steps that help you to gather relevant information and draw conclusions.\u001b[00m\n",
            "Conducting Research on a Topic: A Comprehensive Overview\n",
            "\n",
            "Conducting research on a topic involves several steps that help you gather relevant information and gain a deeper understanding of the subject. The research process is a systematic and structured approach to investigating a topic, and it involves the following steps:\n",
            "\n",
            "1. **Topic Selection**\n",
            "\n",
            "The first step in conducting research is to choose a topic. Ensure the topic is specific, relevant, and interesting. It's essential to narrow down the topic to a specific area of study. This helps to focus the research and make it more manageable. A specific topic also enables you to develop a clear research question and objectives.\n",
            "\n",
            "2. **Background Research**\n",
            "\n",
            "Start by gathering background information on the topic. Read general articles, books, and online resources to gain a basic understanding of the subject. This step helps you to understand the context and scope of the topic. It also enables you to identify gaps in existing knowledge and develop a research question.\n",
            "\n",
            "Background research is an essential step in the research process, as it provides a foundation for further investigation. It helps you to develop a deeper understanding of the topic and identify areas that require further exploration.\n",
            "\n",
            "3. **Research Questions**\n",
            "\n",
            "Develop research questions that guide your investigation. These questions should be specific, measurable, and relevant to the topic. A good research question helps to focus the research and ensure that you collect relevant data. It also enables you to develop a clear research design and methodology.\n",
            "\n",
            "Research questions can be quantitative or qualitative, depending on the nature of the study. Quantitative questions aim to measure or quantify variables, while qualitative questions seek to explore or describe phenomena.\n",
            "\n",
            "4. **Information Sources**\n",
            "\n",
            "Identify credible sources of information, including academic journals, books, government reports, and reputable websites. Evaluate the sources based on their authority, relevance, and validity. This step is crucial in ensuring that your research is based on credible and reliable information.\n",
            "\n",
            "Credible sources are essential in research, as they provide a foundation for your investigation. They also help to establish the validity and reliability of your findings.\n",
            "\n",
            "5. **Data Collection**\n",
            "\n",
            "Gather data from the selected sources. This can involve reading articles, conducting experiments, collecting survey data, or analyzing statistical data. Data collection is a critical step in the research process, as it provides the information you need to answer your research questions.\n",
            "\n",
            "Data collection methods can be quantitative or qualitative, depending on the nature of the study. Quantitative methods involve collecting numerical data, while qualitative methods involve collecting non-numerical data.\n",
            "\n",
            "6. **Data Analysis**\n",
            "\n",
            "Analyze the collected data to identify patterns, trends, and relationships. Use statistical methods, data visualization tools, or other techniques to interpret the data. This step is essential in drawing conclusions from your research.\n",
            "\n",
            "Data analysis involves using various techniques to identify meaningful patterns and relationships in your data. It helps you to summarize and describe your findings, as well as to identify areas that require further investigation.\n",
            "\n",
            "7. **Synthesis**\n",
            "\n",
            "Synthesize the findings by integrating the analyzed data with the research questions. Identify the main themes, concepts, and relationships that emerge from the data. This step involves drawing conclusions from your research and identifying the main contributions of your study.\n",
            "\n",
            "Synthesis is a critical step in the research process, as it enables you to draw conclusions from your findings. It helps you to identify the main themes and concepts that emerge from your data and to identify areas that require further investigation.\n",
            "\n",
            "8. **Evaluation**\n",
            "\n",
            "Evaluate the research findings based on their validity, reliability, and generalizability. Consider the limitations of the study and potential biases. This step is essential in ensuring that your research is credible and reliable.\n",
            "\n",
            "Evaluation involves assessing the quality of your research and identifying areas that require improvement. It helps you to establish the validity and reliability of your findings and to ensure that they are generalizable to other contexts.\n",
            "\n",
            "9. **Conclusion**\n",
            "\n",
            "Draw conclusions based on the research findings. Highlight the main contributions of the study, implications for practice or policy, and suggestions for future research. This step involves summarizing the main findings and implications of your research.\n",
            "\n",
            "A conclusion is an essential part of any research study, as it provides a summary of the main findings and implications. It helps readers to understand the main contributions of your research and to identify areas that require further investigation.\n",
            "\n",
            "10. **Communication**\n",
            "\n",
            "Communicate the research findings effectively through reports, presentations, or publications. Use clear language, visual aids, and concise summaries to convey the main points. This step is essential in disseminating your research findings to a wider audience.\n",
            "\n",
            "Communication is a critical step in the research process, as it enables you to share your findings with others. It helps you to disseminate your research to a wider audience and to ensure that your findings are used to inform practice or policy.\n",
            "\n",
            "By following these steps, you can conduct thorough research on a topic and gain a deeper understanding of the subject. The research process is a systematic and structured approach to investigating a topic, and it involves various steps that help you to gather relevant information and draw conclusions.\n"
          ]
        }
      ]
    }
  ],
  "metadata": {
    "language_info": {
      "name": "python"
    },
    "colab": {
      "provenance": []
    },
    "kernelspec": {
      "name": "python3",
      "display_name": "Python 3"
    }
  },
  "nbformat": 4,
  "nbformat_minor": 5
}