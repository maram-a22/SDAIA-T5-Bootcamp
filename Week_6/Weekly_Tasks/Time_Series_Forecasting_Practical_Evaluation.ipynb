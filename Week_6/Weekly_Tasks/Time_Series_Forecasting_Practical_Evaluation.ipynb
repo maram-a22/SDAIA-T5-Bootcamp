{
 "cells": [
  {
   "cell_type": "markdown",
   "id": "3e2b26be",
   "metadata": {
    "id": "3e2b26be"
   },
   "source": [
    "# Time Series Forecasting Exam\n",
    "\n",
    "In this exam, you will work on a time series forecasting task. The goal is to go through the entire workflow from loading the data to evaluating the model and making predictions. Follow each step carefully. The dataset is stored in you can access it [here](https://www.kaggle.com/datasets/khaledzsa/traffic-dataset), the target is to predict `traffic_volume` column. There is also command to download the dataset below.\n",
    "\n",
    "## Dataset: Traffic Dataset\n",
    "\n",
    "### Dataset Overview:\n",
    "\n",
    "- **Name**: Traffic Dataset\n",
    "- **Description**: This dataset contains hourly data on the traffic volume for westbound I-94, a major interstate highway in the US that connects Minneapolis and St Paul, Minnesota. The data was collected by the Minnesota Department of Transportation (MnDOT) from 2012 to 2018 at a station roughly midway between the two cities.\n",
    "- **Time Period**: Starting from 18-11-2016\n",
    "- **Frequency**: Hourly observations\n",
    "\n",
    "### Features:\n",
    "\n",
    "1. **temp:** a numeric variable that shows the average temperature in kelvin.\n",
    "2. **rain_1h:** a numeric variable that shows the amount of rain in mm that occurred in the hour.\n",
    "3. **snow_1h:** a numeric variable that shows the amount of snow in mm that occurred in the hour.\n",
    "4. **clouds_all:** a numeric variable that shows the percentage of cloud cover.\n",
    "5. **weather_main:** a categorical variable that gives a short textual description of the current weather (such as Clear, Clouds, Rain, etc.).\n",
    "6. **weather_description:** a categorical variable that gives a longer textual description of the current weather (such as light rain, overcast clouds, etc.).\n",
    "7. **date_time:** a datetime variable that shows the hour of the data collected in local CST time.\n",
    "8. **traffic_volume:** a numeric variable that shows the hourly I-94 reported westbound traffic volume.\n",
    "\n",
    "#### Feel free to add or rearrange steps as you see fit to optimize your workflow. One additional note: the model's performance doesn't need to be 100% accurate. Instead, focus on achieving the best possible results while balancing performance and generalization."
   ]
  },
  {
   "cell_type": "markdown",
   "id": "9d58f5eb",
   "metadata": {
    "id": "9d58f5eb"
   },
   "source": [
    "## Load the Data\n",
    "\n",
    "Load the time series dataset into a pandas DataFrame.\n",
    "\n",
    "**Instructions:**\n",
    "- Use `pandas` to load your dataset.\n",
    "- Display the first few rows to understand its structure.\n",
    "- Make sure the datetime column is correctly parsed."
   ]
  },
  {
   "cell_type": "code",
   "execution_count": 776,
   "id": "aeb78ac1",
   "metadata": {
    "id": "aeb78ac1"
   },
   "outputs": [],
   "source": [
    "import pandas as pd\n",
    "import numpy as np\n",
    "import seaborn as sns\n",
    "import matplotlib.pyplot as plt\n",
    "from statsmodels.tsa.seasonal import seasonal_decompose\n",
    "from sklearn.preprocessing import MinMaxScaler, LabelEncoder\n",
    "from tensorflow.keras.models import Sequential\n",
    "from tensorflow.keras.layers import LSTM, Dense, Dropout, GRU\n",
    "from sklearn.model_selection import train_test_split\n",
    "from sklearn.metrics import mean_squared_error"
   ]
  },
  {
   "cell_type": "code",
   "execution_count": 777,
   "id": "818a7b4d-ce9c-4792-9d0a-0b184948c885",
   "metadata": {},
   "outputs": [
    {
     "data": {
      "text/html": [
       "<div>\n",
       "<style scoped>\n",
       "    .dataframe tbody tr th:only-of-type {\n",
       "        vertical-align: middle;\n",
       "    }\n",
       "\n",
       "    .dataframe tbody tr th {\n",
       "        vertical-align: top;\n",
       "    }\n",
       "\n",
       "    .dataframe thead th {\n",
       "        text-align: right;\n",
       "    }\n",
       "</style>\n",
       "<table border=\"1\" class=\"dataframe\">\n",
       "  <thead>\n",
       "    <tr style=\"text-align: right;\">\n",
       "      <th></th>\n",
       "      <th>traffic_volume</th>\n",
       "      <th>temp</th>\n",
       "      <th>rain_1h</th>\n",
       "      <th>snow_1h</th>\n",
       "      <th>clouds_all</th>\n",
       "      <th>weather_main</th>\n",
       "      <th>weather_description</th>\n",
       "      <th>date_time</th>\n",
       "    </tr>\n",
       "  </thead>\n",
       "  <tbody>\n",
       "    <tr>\n",
       "      <th>0</th>\n",
       "      <td>1209.0</td>\n",
       "      <td>291.15</td>\n",
       "      <td>0.0</td>\n",
       "      <td>0.0</td>\n",
       "      <td>90</td>\n",
       "      <td>Mist</td>\n",
       "      <td>mist</td>\n",
       "      <td>2017-08-27 01:00:00</td>\n",
       "    </tr>\n",
       "    <tr>\n",
       "      <th>1</th>\n",
       "      <td>1248.0</td>\n",
       "      <td>286.01</td>\n",
       "      <td>0.0</td>\n",
       "      <td>0.0</td>\n",
       "      <td>1</td>\n",
       "      <td>Clear</td>\n",
       "      <td>sky is clear</td>\n",
       "      <td>2018-09-06 23:00:00</td>\n",
       "    </tr>\n",
       "    <tr>\n",
       "      <th>2</th>\n",
       "      <td>4602.0</td>\n",
       "      <td>293.69</td>\n",
       "      <td>0.0</td>\n",
       "      <td>0.0</td>\n",
       "      <td>75</td>\n",
       "      <td>Clouds</td>\n",
       "      <td>broken clouds</td>\n",
       "      <td>2017-08-25 18:00:00</td>\n",
       "    </tr>\n",
       "    <tr>\n",
       "      <th>3</th>\n",
       "      <td>2838.0</td>\n",
       "      <td>262.35</td>\n",
       "      <td>0.0</td>\n",
       "      <td>0.0</td>\n",
       "      <td>1</td>\n",
       "      <td>Clear</td>\n",
       "      <td>sky is clear</td>\n",
       "      <td>2017-11-09 22:00:00</td>\n",
       "    </tr>\n",
       "    <tr>\n",
       "      <th>4</th>\n",
       "      <td>5794.0</td>\n",
       "      <td>267.08</td>\n",
       "      <td>0.0</td>\n",
       "      <td>0.0</td>\n",
       "      <td>5</td>\n",
       "      <td>Clear</td>\n",
       "      <td>sky is clear</td>\n",
       "      <td>2017-11-09 15:00:00</td>\n",
       "    </tr>\n",
       "    <tr>\n",
       "      <th>...</th>\n",
       "      <td>...</td>\n",
       "      <td>...</td>\n",
       "      <td>...</td>\n",
       "      <td>...</td>\n",
       "      <td>...</td>\n",
       "      <td>...</td>\n",
       "      <td>...</td>\n",
       "      <td>...</td>\n",
       "    </tr>\n",
       "    <tr>\n",
       "      <th>19995</th>\n",
       "      <td>2723.0</td>\n",
       "      <td>296.42</td>\n",
       "      <td>0.0</td>\n",
       "      <td>0.0</td>\n",
       "      <td>40</td>\n",
       "      <td>Clouds</td>\n",
       "      <td>scattered clouds</td>\n",
       "      <td>2018-06-06 21:00:00</td>\n",
       "    </tr>\n",
       "    <tr>\n",
       "      <th>19996</th>\n",
       "      <td>5895.0</td>\n",
       "      <td>285.58</td>\n",
       "      <td>0.0</td>\n",
       "      <td>0.0</td>\n",
       "      <td>40</td>\n",
       "      <td>Clouds</td>\n",
       "      <td>scattered clouds</td>\n",
       "      <td>2017-10-25 15:00:00</td>\n",
       "    </tr>\n",
       "    <tr>\n",
       "      <th>19997</th>\n",
       "      <td>1132.0</td>\n",
       "      <td>275.30</td>\n",
       "      <td>0.0</td>\n",
       "      <td>0.0</td>\n",
       "      <td>1</td>\n",
       "      <td>Clear</td>\n",
       "      <td>sky is clear</td>\n",
       "      <td>2018-03-28 23:00:00</td>\n",
       "    </tr>\n",
       "    <tr>\n",
       "      <th>19998</th>\n",
       "      <td>5525.0</td>\n",
       "      <td>260.94</td>\n",
       "      <td>0.0</td>\n",
       "      <td>0.0</td>\n",
       "      <td>75</td>\n",
       "      <td>Clouds</td>\n",
       "      <td>broken clouds</td>\n",
       "      <td>2018-02-12 15:00:00</td>\n",
       "    </tr>\n",
       "    <tr>\n",
       "      <th>19999</th>\n",
       "      <td>5042.0</td>\n",
       "      <td>301.65</td>\n",
       "      <td>0.0</td>\n",
       "      <td>0.0</td>\n",
       "      <td>40</td>\n",
       "      <td>Clouds</td>\n",
       "      <td>scattered clouds</td>\n",
       "      <td>2018-05-31 18:00:00</td>\n",
       "    </tr>\n",
       "  </tbody>\n",
       "</table>\n",
       "<p>20000 rows × 8 columns</p>\n",
       "</div>"
      ],
      "text/plain": [
       "       traffic_volume    temp  rain_1h  snow_1h  clouds_all weather_main  \\\n",
       "0              1209.0  291.15      0.0      0.0          90         Mist   \n",
       "1              1248.0  286.01      0.0      0.0           1        Clear   \n",
       "2              4602.0  293.69      0.0      0.0          75       Clouds   \n",
       "3              2838.0  262.35      0.0      0.0           1        Clear   \n",
       "4              5794.0  267.08      0.0      0.0           5        Clear   \n",
       "...               ...     ...      ...      ...         ...          ...   \n",
       "19995          2723.0  296.42      0.0      0.0          40       Clouds   \n",
       "19996          5895.0  285.58      0.0      0.0          40       Clouds   \n",
       "19997          1132.0  275.30      0.0      0.0           1        Clear   \n",
       "19998          5525.0  260.94      0.0      0.0          75       Clouds   \n",
       "19999          5042.0  301.65      0.0      0.0          40       Clouds   \n",
       "\n",
       "      weather_description           date_time  \n",
       "0                    mist 2017-08-27 01:00:00  \n",
       "1            sky is clear 2018-09-06 23:00:00  \n",
       "2           broken clouds 2017-08-25 18:00:00  \n",
       "3            sky is clear 2017-11-09 22:00:00  \n",
       "4            sky is clear 2017-11-09 15:00:00  \n",
       "...                   ...                 ...  \n",
       "19995    scattered clouds 2018-06-06 21:00:00  \n",
       "19996    scattered clouds 2017-10-25 15:00:00  \n",
       "19997        sky is clear 2018-03-28 23:00:00  \n",
       "19998       broken clouds 2018-02-12 15:00:00  \n",
       "19999    scattered clouds 2018-05-31 18:00:00  \n",
       "\n",
       "[20000 rows x 8 columns]"
      ]
     },
     "execution_count": 777,
     "metadata": {},
     "output_type": "execute_result"
    }
   ],
   "source": [
    "df = pd.read_csv('Traffic Data.csv', parse_dates=['date_time'])\n",
    "df"
   ]
  },
  {
   "cell_type": "markdown",
   "id": "c3122466",
   "metadata": {
    "id": "c3122466"
   },
   "source": [
    "## Exploratory Data Analysis (EDA)\n",
    "\n",
    "Perform exploratory data analysis on the dataset.\n",
    "\n",
    "**Instructions:**\n",
    "- Plot the time series data.\n",
    "- Analyze trends, seasonality, and potential outliers.\n",
    "- Plot boxplots or scatter plots to identify any outliers or anomalies in the data.\n",
    "- Seasonal Decomposition: Use `seasonal_decompose` from the `statsmodels` library to break down the time series data into trend, seasonality, and residual components. Analyze each component to gain insights into the long-term movement (trend), regular patterns (seasonality), and remaining fluctuations (residuals).\n",
    "\n",
    "Do more if needed!"
   ]
  },
  {
   "cell_type": "code",
   "execution_count": 779,
   "id": "05f6fffa",
   "metadata": {
    "id": "05f6fffa"
   },
   "outputs": [
    {
     "data": {
      "text/plain": [
       "(20000, 8)"
      ]
     },
     "execution_count": 779,
     "metadata": {},
     "output_type": "execute_result"
    }
   ],
   "source": [
    "df.shape"
   ]
  },
  {
   "cell_type": "code",
   "execution_count": 780,
   "id": "3c55704a-d3d9-4646-a3ee-fee1024209a4",
   "metadata": {},
   "outputs": [
    {
     "data": {
      "text/plain": [
       "traffic_volume                float64\n",
       "temp                          float64\n",
       "rain_1h                       float64\n",
       "snow_1h                       float64\n",
       "clouds_all                      int64\n",
       "weather_main                   object\n",
       "weather_description            object\n",
       "date_time              datetime64[ns]\n",
       "dtype: object"
      ]
     },
     "execution_count": 780,
     "metadata": {},
     "output_type": "execute_result"
    }
   ],
   "source": [
    "df.dtypes"
   ]
  },
  {
   "cell_type": "code",
   "execution_count": 781,
   "id": "b5f5c15a-f016-4544-9030-d4b1153b13aa",
   "metadata": {
    "scrolled": true
   },
   "outputs": [
    {
     "data": {
      "text/plain": [
       "<Axes: title={'center': 'traffic_volume'}>"
      ]
     },
     "execution_count": 781,
     "metadata": {},
     "output_type": "execute_result"
    },
    {
     "data": {
      "image/png": "[encoded data removed]",
      "text/plain": [
       "<Figure size 2000x400 with 1 Axes>"
      ]
     },
     "metadata": {},
     "output_type": "display_data"
    }
   ],
   "source": [
    "# Plot the time series data\n",
    "df['traffic_volume'].plot(kind='line', figsize=(20, 4), title='traffic_volume')"
   ]
  },
  {
   "cell_type": "code",
   "execution_count": 782,
   "id": "ca83333f-36b0-478a-b2da-cb0d09948603",
   "metadata": {
    "scrolled": true
   },
   "outputs": [
    {
     "data": {
      "text/plain": [
       "<Axes: title={'center': 'traffic_volume'}>"
      ]
     },
     "execution_count": 782,
     "metadata": {},
     "output_type": "execute_result"
    },
    {
     "data": {
      "image/png": "[encoded data removed]",
      "text/plain": [
       "<Figure size 800x400 with 1 Axes>"
      ]
     },
     "metadata": {},
     "output_type": "display_data"
    }
   ],
   "source": [
    "df['traffic_volume'].plot(kind='box', figsize=(8, 4), title='traffic_volume')"
   ]
  },
  {
   "cell_type": "code",
   "execution_count": 783,
   "id": "4c6de44a-3cef-493c-8c62-2915135c78fb",
   "metadata": {
    "scrolled": true
   },
   "outputs": [
    {
     "data": {
      "text/plain": [
       "traffic_volume         20\n",
       "temp                    0\n",
       "rain_1h                 0\n",
       "snow_1h                 0\n",
       "clouds_all              0\n",
       "weather_main            0\n",
       "weather_description     0\n",
       "date_time               0\n",
       "dtype: int64"
      ]
     },
     "execution_count": 783,
     "metadata": {},
     "output_type": "execute_result"
    }
   ],
   "source": [
    "# check for the null values\n",
    "df.isnull().sum()"
   ]
  },
  {
   "cell_type": "code",
   "execution_count": 784,
   "id": "1205ab80-ccc2-493b-a462-48096fe75a14",
   "metadata": {},
   "outputs": [],
   "source": [
    "df['traffic_volume'].fillna(df['traffic_volume'].mean(), inplace=True)"
   ]
  },
  {
   "cell_type": "code",
   "execution_count": 785,
   "id": "fd441ea9-8b1e-46e4-9bea-b3e733ddf6e7",
   "metadata": {},
   "outputs": [
    {
     "data": {
      "text/plain": [
       "traffic_volume         0\n",
       "temp                   0\n",
       "rain_1h                0\n",
       "snow_1h                0\n",
       "clouds_all             0\n",
       "weather_main           0\n",
       "weather_description    0\n",
       "date_time              0\n",
       "dtype: int64"
      ]
     },
     "execution_count": 785,
     "metadata": {},
     "output_type": "execute_result"
    }
   ],
   "source": [
    "df.isnull().sum()"
   ]
  },
  {
   "cell_type": "code",
   "execution_count": 786,
   "id": "631c6a4f-ef0c-4e93-b936-7a1b064e60d2",
   "metadata": {},
   "outputs": [
    {
     "data": {
      "text/plain": [
       "<Figure size 2000x600 with 0 Axes>"
      ]
     },
     "metadata": {},
     "output_type": "display_data"
    },
    {
     "data": {
      "image/png": "[encoded data removed]",
      "text/plain": [
       "<Figure size 640x480 with 4 Axes>"
      ]
     },
     "metadata": {},
     "output_type": "display_data"
    }
   ],
   "source": [
    "# Perform seasonal decomposition\n",
    "result = seasonal_decompose(df['traffic_volume'], model='additive', period=365)\n",
    "\n",
    "plt.figure(figsize=(20, 6))\n",
    "result.plot()\n",
    "plt.show()"
   ]
  },
  {
   "cell_type": "code",
   "execution_count": 787,
   "id": "4295f632-8081-4a4d-9635-813ca99f8260",
   "metadata": {},
   "outputs": [
    {
     "data": {
      "text/plain": [
       "<Axes: xlabel='traffic_volume', ylabel='temp'>"
      ]
     },
     "execution_count": 787,
     "metadata": {},
     "output_type": "execute_result"
    },
    {
     "data": {
      "image/png": "[encoded data removed]",
      "text/plain": [
       "<Figure size 640x480 with 1 Axes>"
      ]
     },
     "metadata": {},
     "output_type": "display_data"
    }
   ],
   "source": [
    "df.plot(kind='scatter', x='traffic_volume', y='temp')"
   ]
  },
  {
   "cell_type": "code",
   "execution_count": 788,
   "id": "be5a35d7-add5-438a-b4e9-d868679e5e41",
   "metadata": {},
   "outputs": [
    {
     "data": {
      "text/plain": [
       "<Axes: title={'center': 'traffic_volume'}, ylabel='Frequency'>"
      ]
     },
     "execution_count": 788,
     "metadata": {},
     "output_type": "execute_result"
    },
    {
     "data": {
      "image/png": "[encoded data removed]",
      "text/plain": [
       "<Figure size 640x480 with 1 Axes>"
      ]
     },
     "metadata": {},
     "output_type": "display_data"
    }
   ],
   "source": [
    "df['traffic_volume'].plot(kind='hist', bins=20, title='traffic_volume')"
   ]
  },
  {
   "cell_type": "markdown",
   "id": "5827fb18",
   "metadata": {
    "id": "5827fb18"
   },
   "source": [
    "## Data Preprocessing\n",
    "\n",
    "Clean and preprocess the data.\n",
    "\n",
    "**Instructions:**\n",
    "- Handle any missing values in the dataset.\n",
    "- If necessary, resample the data to ensure consistent time intervals.\n",
    "- Create any additional features needed, such as lags or moving averages.\n",
    "- Make sure that the dates are sorted correctly.\n",
    "\n",
    "Do more if needed!"
   ]
  },
  {
   "cell_type": "code",
   "execution_count": 790,
   "id": "c27410bc",
   "metadata": {
    "id": "c27410bc"
   },
   "outputs": [
    {
     "data": {
      "text/plain": [
       "traffic_volume         0\n",
       "temp                   0\n",
       "rain_1h                0\n",
       "snow_1h                0\n",
       "clouds_all             0\n",
       "weather_main           0\n",
       "weather_description    0\n",
       "date_time              0\n",
       "dtype: int64"
      ]
     },
     "execution_count": 790,
     "metadata": {},
     "output_type": "execute_result"
    }
   ],
   "source": [
    "# check for missing values \n",
    "df.isna().sum()"
   ]
  },
  {
   "cell_type": "code",
   "execution_count": 791,
   "id": "067a094b-6b42-4fd8-ab57-c83d942b39b3",
   "metadata": {},
   "outputs": [],
   "source": [
    "# # resample the data to ensure consistent time intervals.\n",
    "# df = df.resample('D').mean()\n",
    "\n",
    "# # Preview the result\n",
    "# df.head()"
   ]
  },
  {
   "cell_type": "code",
   "execution_count": 792,
   "id": "af23a386-a37a-43be-a21b-dd87fc08f570",
   "metadata": {},
   "outputs": [
    {
     "data": {
      "text/html": [
       "<div>\n",
       "<style scoped>\n",
       "    .dataframe tbody tr th:only-of-type {\n",
       "        vertical-align: middle;\n",
       "    }\n",
       "\n",
       "    .dataframe tbody tr th {\n",
       "        vertical-align: top;\n",
       "    }\n",
       "\n",
       "    .dataframe thead th {\n",
       "        text-align: right;\n",
       "    }\n",
       "</style>\n",
       "<table border=\"1\" class=\"dataframe\">\n",
       "  <thead>\n",
       "    <tr style=\"text-align: right;\">\n",
       "      <th></th>\n",
       "      <th>traffic_volume</th>\n",
       "      <th>temp</th>\n",
       "      <th>rain_1h</th>\n",
       "      <th>snow_1h</th>\n",
       "      <th>clouds_all</th>\n",
       "      <th>weather_main</th>\n",
       "      <th>weather_description</th>\n",
       "      <th>date_time</th>\n",
       "    </tr>\n",
       "  </thead>\n",
       "  <tbody>\n",
       "    <tr>\n",
       "      <th>0</th>\n",
       "      <td>1209.0</td>\n",
       "      <td>291.15</td>\n",
       "      <td>0.0</td>\n",
       "      <td>0.0</td>\n",
       "      <td>90</td>\n",
       "      <td>Mist</td>\n",
       "      <td>mist</td>\n",
       "      <td>2017-08-27 01:00:00</td>\n",
       "    </tr>\n",
       "    <tr>\n",
       "      <th>1</th>\n",
       "      <td>1248.0</td>\n",
       "      <td>286.01</td>\n",
       "      <td>0.0</td>\n",
       "      <td>0.0</td>\n",
       "      <td>1</td>\n",
       "      <td>Clear</td>\n",
       "      <td>sky is clear</td>\n",
       "      <td>2018-09-06 23:00:00</td>\n",
       "    </tr>\n",
       "    <tr>\n",
       "      <th>2</th>\n",
       "      <td>4602.0</td>\n",
       "      <td>293.69</td>\n",
       "      <td>0.0</td>\n",
       "      <td>0.0</td>\n",
       "      <td>75</td>\n",
       "      <td>Clouds</td>\n",
       "      <td>broken clouds</td>\n",
       "      <td>2017-08-25 18:00:00</td>\n",
       "    </tr>\n",
       "    <tr>\n",
       "      <th>3</th>\n",
       "      <td>2838.0</td>\n",
       "      <td>262.35</td>\n",
       "      <td>0.0</td>\n",
       "      <td>0.0</td>\n",
       "      <td>1</td>\n",
       "      <td>Clear</td>\n",
       "      <td>sky is clear</td>\n",
       "      <td>2017-11-09 22:00:00</td>\n",
       "    </tr>\n",
       "    <tr>\n",
       "      <th>4</th>\n",
       "      <td>5794.0</td>\n",
       "      <td>267.08</td>\n",
       "      <td>0.0</td>\n",
       "      <td>0.0</td>\n",
       "      <td>5</td>\n",
       "      <td>Clear</td>\n",
       "      <td>sky is clear</td>\n",
       "      <td>2017-11-09 15:00:00</td>\n",
       "    </tr>\n",
       "    <tr>\n",
       "      <th>...</th>\n",
       "      <td>...</td>\n",
       "      <td>...</td>\n",
       "      <td>...</td>\n",
       "      <td>...</td>\n",
       "      <td>...</td>\n",
       "      <td>...</td>\n",
       "      <td>...</td>\n",
       "      <td>...</td>\n",
       "    </tr>\n",
       "    <tr>\n",
       "      <th>19995</th>\n",
       "      <td>2723.0</td>\n",
       "      <td>296.42</td>\n",
       "      <td>0.0</td>\n",
       "      <td>0.0</td>\n",
       "      <td>40</td>\n",
       "      <td>Clouds</td>\n",
       "      <td>scattered clouds</td>\n",
       "      <td>2018-06-06 21:00:00</td>\n",
       "    </tr>\n",
       "    <tr>\n",
       "      <th>19996</th>\n",
       "      <td>5895.0</td>\n",
       "      <td>285.58</td>\n",
       "      <td>0.0</td>\n",
       "      <td>0.0</td>\n",
       "      <td>40</td>\n",
       "      <td>Clouds</td>\n",
       "      <td>scattered clouds</td>\n",
       "      <td>2017-10-25 15:00:00</td>\n",
       "    </tr>\n",
       "    <tr>\n",
       "      <th>19997</th>\n",
       "      <td>1132.0</td>\n",
       "      <td>275.30</td>\n",
       "      <td>0.0</td>\n",
       "      <td>0.0</td>\n",
       "      <td>1</td>\n",
       "      <td>Clear</td>\n",
       "      <td>sky is clear</td>\n",
       "      <td>2018-03-28 23:00:00</td>\n",
       "    </tr>\n",
       "    <tr>\n",
       "      <th>19998</th>\n",
       "      <td>5525.0</td>\n",
       "      <td>260.94</td>\n",
       "      <td>0.0</td>\n",
       "      <td>0.0</td>\n",
       "      <td>75</td>\n",
       "      <td>Clouds</td>\n",
       "      <td>broken clouds</td>\n",
       "      <td>2018-02-12 15:00:00</td>\n",
       "    </tr>\n",
       "    <tr>\n",
       "      <th>19999</th>\n",
       "      <td>5042.0</td>\n",
       "      <td>301.65</td>\n",
       "      <td>0.0</td>\n",
       "      <td>0.0</td>\n",
       "      <td>40</td>\n",
       "      <td>Clouds</td>\n",
       "      <td>scattered clouds</td>\n",
       "      <td>2018-05-31 18:00:00</td>\n",
       "    </tr>\n",
       "  </tbody>\n",
       "</table>\n",
       "<p>20000 rows × 8 columns</p>\n",
       "</div>"
      ],
      "text/plain": [
       "       traffic_volume    temp  rain_1h  snow_1h  clouds_all weather_main  \\\n",
       "0              1209.0  291.15      0.0      0.0          90         Mist   \n",
       "1              1248.0  286.01      0.0      0.0           1        Clear   \n",
       "2              4602.0  293.69      0.0      0.0          75       Clouds   \n",
       "3              2838.0  262.35      0.0      0.0           1        Clear   \n",
       "4              5794.0  267.08      0.0      0.0           5        Clear   \n",
       "...               ...     ...      ...      ...         ...          ...   \n",
       "19995          2723.0  296.42      0.0      0.0          40       Clouds   \n",
       "19996          5895.0  285.58      0.0      0.0          40       Clouds   \n",
       "19997          1132.0  275.30      0.0      0.0           1        Clear   \n",
       "19998          5525.0  260.94      0.0      0.0          75       Clouds   \n",
       "19999          5042.0  301.65      0.0      0.0          40       Clouds   \n",
       "\n",
       "      weather_description           date_time  \n",
       "0                    mist 2017-08-27 01:00:00  \n",
       "1            sky is clear 2018-09-06 23:00:00  \n",
       "2           broken clouds 2017-08-25 18:00:00  \n",
       "3            sky is clear 2017-11-09 22:00:00  \n",
       "4            sky is clear 2017-11-09 15:00:00  \n",
       "...                   ...                 ...  \n",
       "19995    scattered clouds 2018-06-06 21:00:00  \n",
       "19996    scattered clouds 2017-10-25 15:00:00  \n",
       "19997        sky is clear 2018-03-28 23:00:00  \n",
       "19998       broken clouds 2018-02-12 15:00:00  \n",
       "19999    scattered clouds 2018-05-31 18:00:00  \n",
       "\n",
       "[20000 rows x 8 columns]"
      ]
     },
     "execution_count": 792,
     "metadata": {},
     "output_type": "execute_result"
    }
   ],
   "source": [
    "df"
   ]
  },
  {
   "cell_type": "code",
   "execution_count": 793,
   "id": "2297e449-9586-4003-bded-c7873a40d56a",
   "metadata": {},
   "outputs": [
    {
     "data": {
      "text/html": [
       "<div>\n",
       "<style scoped>\n",
       "    .dataframe tbody tr th:only-of-type {\n",
       "        vertical-align: middle;\n",
       "    }\n",
       "\n",
       "    .dataframe tbody tr th {\n",
       "        vertical-align: top;\n",
       "    }\n",
       "\n",
       "    .dataframe thead th {\n",
       "        text-align: right;\n",
       "    }\n",
       "</style>\n",
       "<table border=\"1\" class=\"dataframe\">\n",
       "  <thead>\n",
       "    <tr style=\"text-align: right;\">\n",
       "      <th></th>\n",
       "      <th>traffic_volume</th>\n",
       "      <th>temp</th>\n",
       "      <th>rain_1h</th>\n",
       "      <th>snow_1h</th>\n",
       "      <th>clouds_all</th>\n",
       "      <th>weather_main</th>\n",
       "      <th>weather_description</th>\n",
       "    </tr>\n",
       "    <tr>\n",
       "      <th>date_time</th>\n",
       "      <th></th>\n",
       "      <th></th>\n",
       "      <th></th>\n",
       "      <th></th>\n",
       "      <th></th>\n",
       "      <th></th>\n",
       "      <th></th>\n",
       "    </tr>\n",
       "  </thead>\n",
       "  <tbody>\n",
       "    <tr>\n",
       "      <th>2017-08-27 01:00:00</th>\n",
       "      <td>1209.0</td>\n",
       "      <td>291.15</td>\n",
       "      <td>0.0</td>\n",
       "      <td>0.0</td>\n",
       "      <td>90</td>\n",
       "      <td>Mist</td>\n",
       "      <td>mist</td>\n",
       "    </tr>\n",
       "    <tr>\n",
       "      <th>2018-09-06 23:00:00</th>\n",
       "      <td>1248.0</td>\n",
       "      <td>286.01</td>\n",
       "      <td>0.0</td>\n",
       "      <td>0.0</td>\n",
       "      <td>1</td>\n",
       "      <td>Clear</td>\n",
       "      <td>sky is clear</td>\n",
       "    </tr>\n",
       "    <tr>\n",
       "      <th>2017-08-25 18:00:00</th>\n",
       "      <td>4602.0</td>\n",
       "      <td>293.69</td>\n",
       "      <td>0.0</td>\n",
       "      <td>0.0</td>\n",
       "      <td>75</td>\n",
       "      <td>Clouds</td>\n",
       "      <td>broken clouds</td>\n",
       "    </tr>\n",
       "    <tr>\n",
       "      <th>2017-11-09 22:00:00</th>\n",
       "      <td>2838.0</td>\n",
       "      <td>262.35</td>\n",
       "      <td>0.0</td>\n",
       "      <td>0.0</td>\n",
       "      <td>1</td>\n",
       "      <td>Clear</td>\n",
       "      <td>sky is clear</td>\n",
       "    </tr>\n",
       "    <tr>\n",
       "      <th>2017-11-09 15:00:00</th>\n",
       "      <td>5794.0</td>\n",
       "      <td>267.08</td>\n",
       "      <td>0.0</td>\n",
       "      <td>0.0</td>\n",
       "      <td>5</td>\n",
       "      <td>Clear</td>\n",
       "      <td>sky is clear</td>\n",
       "    </tr>\n",
       "    <tr>\n",
       "      <th>...</th>\n",
       "      <td>...</td>\n",
       "      <td>...</td>\n",
       "      <td>...</td>\n",
       "      <td>...</td>\n",
       "      <td>...</td>\n",
       "      <td>...</td>\n",
       "      <td>...</td>\n",
       "    </tr>\n",
       "    <tr>\n",
       "      <th>2018-06-06 21:00:00</th>\n",
       "      <td>2723.0</td>\n",
       "      <td>296.42</td>\n",
       "      <td>0.0</td>\n",
       "      <td>0.0</td>\n",
       "      <td>40</td>\n",
       "      <td>Clouds</td>\n",
       "      <td>scattered clouds</td>\n",
       "    </tr>\n",
       "    <tr>\n",
       "      <th>2017-10-25 15:00:00</th>\n",
       "      <td>5895.0</td>\n",
       "      <td>285.58</td>\n",
       "      <td>0.0</td>\n",
       "      <td>0.0</td>\n",
       "      <td>40</td>\n",
       "      <td>Clouds</td>\n",
       "      <td>scattered clouds</td>\n",
       "    </tr>\n",
       "    <tr>\n",
       "      <th>2018-03-28 23:00:00</th>\n",
       "      <td>1132.0</td>\n",
       "      <td>275.30</td>\n",
       "      <td>0.0</td>\n",
       "      <td>0.0</td>\n",
       "      <td>1</td>\n",
       "      <td>Clear</td>\n",
       "      <td>sky is clear</td>\n",
       "    </tr>\n",
       "    <tr>\n",
       "      <th>2018-02-12 15:00:00</th>\n",
       "      <td>5525.0</td>\n",
       "      <td>260.94</td>\n",
       "      <td>0.0</td>\n",
       "      <td>0.0</td>\n",
       "      <td>75</td>\n",
       "      <td>Clouds</td>\n",
       "      <td>broken clouds</td>\n",
       "    </tr>\n",
       "    <tr>\n",
       "      <th>2018-05-31 18:00:00</th>\n",
       "      <td>5042.0</td>\n",
       "      <td>301.65</td>\n",
       "      <td>0.0</td>\n",
       "      <td>0.0</td>\n",
       "      <td>40</td>\n",
       "      <td>Clouds</td>\n",
       "      <td>scattered clouds</td>\n",
       "    </tr>\n",
       "  </tbody>\n",
       "</table>\n",
       "<p>20000 rows × 7 columns</p>\n",
       "</div>"
      ],
      "text/plain": [
       "                     traffic_volume    temp  rain_1h  snow_1h  clouds_all  \\\n",
       "date_time                                                                   \n",
       "2017-08-27 01:00:00          1209.0  291.15      0.0      0.0          90   \n",
       "2018-09-06 23:00:00          1248.0  286.01      0.0      0.0           1   \n",
       "2017-08-25 18:00:00          4602.0  293.69      0.0      0.0          75   \n",
       "2017-11-09 22:00:00          2838.0  262.35      0.0      0.0           1   \n",
       "2017-11-09 15:00:00          5794.0  267.08      0.0      0.0           5   \n",
       "...                             ...     ...      ...      ...         ...   \n",
       "2018-06-06 21:00:00          2723.0  296.42      0.0      0.0          40   \n",
       "2017-10-25 15:00:00          5895.0  285.58      0.0      0.0          40   \n",
       "2018-03-28 23:00:00          1132.0  275.30      0.0      0.0           1   \n",
       "2018-02-12 15:00:00          5525.0  260.94      0.0      0.0          75   \n",
       "2018-05-31 18:00:00          5042.0  301.65      0.0      0.0          40   \n",
       "\n",
       "                    weather_main weather_description  \n",
       "date_time                                             \n",
       "2017-08-27 01:00:00         Mist                mist  \n",
       "2018-09-06 23:00:00        Clear        sky is clear  \n",
       "2017-08-25 18:00:00       Clouds       broken clouds  \n",
       "2017-11-09 22:00:00        Clear        sky is clear  \n",
       "2017-11-09 15:00:00        Clear        sky is clear  \n",
       "...                          ...                 ...  \n",
       "2018-06-06 21:00:00       Clouds    scattered clouds  \n",
       "2017-10-25 15:00:00       Clouds    scattered clouds  \n",
       "2018-03-28 23:00:00        Clear        sky is clear  \n",
       "2018-02-12 15:00:00       Clouds       broken clouds  \n",
       "2018-05-31 18:00:00       Clouds    scattered clouds  \n",
       "\n",
       "[20000 rows x 7 columns]"
      ]
     },
     "execution_count": 793,
     "metadata": {},
     "output_type": "execute_result"
    }
   ],
   "source": [
    "df['date_time'] = pd.to_datetime(df['date_time'])\n",
    "df = df.set_index('date_time')\n",
    "df"
   ]
  },
  {
   "cell_type": "markdown",
   "id": "10def3f0",
   "metadata": {
    "id": "10def3f0"
   },
   "source": [
    "## Feature Engineering\n",
    "\n",
    "### Instructions:\n",
    "  \n",
    "- **Shift Method**: Use the `shift` method to create a new column `prev_traffic_volume`, which represents the previous day's traffic volume.\n",
    "\n",
    "- **Difference between traffic_volume**: Calculate the difference between the values in `traffic_volume` column to highlight short-term volume.\n",
    "\n",
    "- **Date Features**: Extract meaningful time-based features from the `date_time` column to enhance the model's ability to detect temporal patterns. These features include:\n",
    "  - **Day of the week**: To capture weekly seasonality.\n",
    "  - **Month**: To capture monthly trends.\n",
    "  - **Day of the year**: Useful for modeling yearly seasonality.\n"
   ]
  },
  {
   "cell_type": "code",
   "execution_count": 795,
   "id": "d62cd837",
   "metadata": {
    "id": "d62cd837"
   },
   "outputs": [
    {
     "data": {
      "text/html": [
       "<div>\n",
       "<style scoped>\n",
       "    .dataframe tbody tr th:only-of-type {\n",
       "        vertical-align: middle;\n",
       "    }\n",
       "\n",
       "    .dataframe tbody tr th {\n",
       "        vertical-align: top;\n",
       "    }\n",
       "\n",
       "    .dataframe thead th {\n",
       "        text-align: right;\n",
       "    }\n",
       "</style>\n",
       "<table border=\"1\" class=\"dataframe\">\n",
       "  <thead>\n",
       "    <tr style=\"text-align: right;\">\n",
       "      <th></th>\n",
       "      <th>traffic_volume</th>\n",
       "      <th>temp</th>\n",
       "      <th>rain_1h</th>\n",
       "      <th>snow_1h</th>\n",
       "      <th>clouds_all</th>\n",
       "      <th>weather_main</th>\n",
       "      <th>weather_description</th>\n",
       "      <th>prev_traffic_volume</th>\n",
       "    </tr>\n",
       "    <tr>\n",
       "      <th>date_time</th>\n",
       "      <th></th>\n",
       "      <th></th>\n",
       "      <th></th>\n",
       "      <th></th>\n",
       "      <th></th>\n",
       "      <th></th>\n",
       "      <th></th>\n",
       "      <th></th>\n",
       "    </tr>\n",
       "  </thead>\n",
       "  <tbody>\n",
       "    <tr>\n",
       "      <th>2017-08-27 01:00:00</th>\n",
       "      <td>1209.0</td>\n",
       "      <td>291.15</td>\n",
       "      <td>0.0</td>\n",
       "      <td>0.0</td>\n",
       "      <td>90</td>\n",
       "      <td>Mist</td>\n",
       "      <td>mist</td>\n",
       "      <td>NaN</td>\n",
       "    </tr>\n",
       "    <tr>\n",
       "      <th>2018-09-06 23:00:00</th>\n",
       "      <td>1248.0</td>\n",
       "      <td>286.01</td>\n",
       "      <td>0.0</td>\n",
       "      <td>0.0</td>\n",
       "      <td>1</td>\n",
       "      <td>Clear</td>\n",
       "      <td>sky is clear</td>\n",
       "      <td>1209.0</td>\n",
       "    </tr>\n",
       "    <tr>\n",
       "      <th>2017-08-25 18:00:00</th>\n",
       "      <td>4602.0</td>\n",
       "      <td>293.69</td>\n",
       "      <td>0.0</td>\n",
       "      <td>0.0</td>\n",
       "      <td>75</td>\n",
       "      <td>Clouds</td>\n",
       "      <td>broken clouds</td>\n",
       "      <td>1248.0</td>\n",
       "    </tr>\n",
       "    <tr>\n",
       "      <th>2017-11-09 22:00:00</th>\n",
       "      <td>2838.0</td>\n",
       "      <td>262.35</td>\n",
       "      <td>0.0</td>\n",
       "      <td>0.0</td>\n",
       "      <td>1</td>\n",
       "      <td>Clear</td>\n",
       "      <td>sky is clear</td>\n",
       "      <td>4602.0</td>\n",
       "    </tr>\n",
       "    <tr>\n",
       "      <th>2017-11-09 15:00:00</th>\n",
       "      <td>5794.0</td>\n",
       "      <td>267.08</td>\n",
       "      <td>0.0</td>\n",
       "      <td>0.0</td>\n",
       "      <td>5</td>\n",
       "      <td>Clear</td>\n",
       "      <td>sky is clear</td>\n",
       "      <td>2838.0</td>\n",
       "    </tr>\n",
       "  </tbody>\n",
       "</table>\n",
       "</div>"
      ],
      "text/plain": [
       "                     traffic_volume    temp  rain_1h  snow_1h  clouds_all  \\\n",
       "date_time                                                                   \n",
       "2017-08-27 01:00:00          1209.0  291.15      0.0      0.0          90   \n",
       "2018-09-06 23:00:00          1248.0  286.01      0.0      0.0           1   \n",
       "2017-08-25 18:00:00          4602.0  293.69      0.0      0.0          75   \n",
       "2017-11-09 22:00:00          2838.0  262.35      0.0      0.0           1   \n",
       "2017-11-09 15:00:00          5794.0  267.08      0.0      0.0           5   \n",
       "\n",
       "                    weather_main weather_description  prev_traffic_volume  \n",
       "date_time                                                                  \n",
       "2017-08-27 01:00:00         Mist                mist                  NaN  \n",
       "2018-09-06 23:00:00        Clear        sky is clear               1209.0  \n",
       "2017-08-25 18:00:00       Clouds       broken clouds               1248.0  \n",
       "2017-11-09 22:00:00        Clear        sky is clear               4602.0  \n",
       "2017-11-09 15:00:00        Clear        sky is clear               2838.0  "
      ]
     },
     "execution_count": 795,
     "metadata": {},
     "output_type": "execute_result"
    }
   ],
   "source": [
    "# add some new columns, features\n",
    "df['prev_traffic_volume'] = df['traffic_volume'].shift(1)\n",
    "df.head()"
   ]
  },
  {
   "cell_type": "code",
   "execution_count": 796,
   "id": "e46f425b-8e12-42dd-bde2-ae67072c41bb",
   "metadata": {},
   "outputs": [
    {
     "data": {
      "text/html": [
       "<div>\n",
       "<style scoped>\n",
       "    .dataframe tbody tr th:only-of-type {\n",
       "        vertical-align: middle;\n",
       "    }\n",
       "\n",
       "    .dataframe tbody tr th {\n",
       "        vertical-align: top;\n",
       "    }\n",
       "\n",
       "    .dataframe thead th {\n",
       "        text-align: right;\n",
       "    }\n",
       "</style>\n",
       "<table border=\"1\" class=\"dataframe\">\n",
       "  <thead>\n",
       "    <tr style=\"text-align: right;\">\n",
       "      <th></th>\n",
       "      <th>traffic_volume</th>\n",
       "      <th>temp</th>\n",
       "      <th>rain_1h</th>\n",
       "      <th>snow_1h</th>\n",
       "      <th>clouds_all</th>\n",
       "      <th>weather_main</th>\n",
       "      <th>weather_description</th>\n",
       "      <th>prev_traffic_volume</th>\n",
       "      <th>Day_of_Week</th>\n",
       "      <th>Month</th>\n",
       "      <th>Day_of_Year</th>\n",
       "    </tr>\n",
       "    <tr>\n",
       "      <th>date_time</th>\n",
       "      <th></th>\n",
       "      <th></th>\n",
       "      <th></th>\n",
       "      <th></th>\n",
       "      <th></th>\n",
       "      <th></th>\n",
       "      <th></th>\n",
       "      <th></th>\n",
       "      <th></th>\n",
       "      <th></th>\n",
       "      <th></th>\n",
       "    </tr>\n",
       "  </thead>\n",
       "  <tbody>\n",
       "    <tr>\n",
       "      <th>2017-08-27 01:00:00</th>\n",
       "      <td>1209.0</td>\n",
       "      <td>291.15</td>\n",
       "      <td>0.0</td>\n",
       "      <td>0.0</td>\n",
       "      <td>90</td>\n",
       "      <td>Mist</td>\n",
       "      <td>mist</td>\n",
       "      <td>NaN</td>\n",
       "      <td>6</td>\n",
       "      <td>8</td>\n",
       "      <td>239</td>\n",
       "    </tr>\n",
       "    <tr>\n",
       "      <th>2018-09-06 23:00:00</th>\n",
       "      <td>1248.0</td>\n",
       "      <td>286.01</td>\n",
       "      <td>0.0</td>\n",
       "      <td>0.0</td>\n",
       "      <td>1</td>\n",
       "      <td>Clear</td>\n",
       "      <td>sky is clear</td>\n",
       "      <td>1209.0</td>\n",
       "      <td>3</td>\n",
       "      <td>9</td>\n",
       "      <td>249</td>\n",
       "    </tr>\n",
       "    <tr>\n",
       "      <th>2017-08-25 18:00:00</th>\n",
       "      <td>4602.0</td>\n",
       "      <td>293.69</td>\n",
       "      <td>0.0</td>\n",
       "      <td>0.0</td>\n",
       "      <td>75</td>\n",
       "      <td>Clouds</td>\n",
       "      <td>broken clouds</td>\n",
       "      <td>1248.0</td>\n",
       "      <td>4</td>\n",
       "      <td>8</td>\n",
       "      <td>237</td>\n",
       "    </tr>\n",
       "    <tr>\n",
       "      <th>2017-11-09 22:00:00</th>\n",
       "      <td>2838.0</td>\n",
       "      <td>262.35</td>\n",
       "      <td>0.0</td>\n",
       "      <td>0.0</td>\n",
       "      <td>1</td>\n",
       "      <td>Clear</td>\n",
       "      <td>sky is clear</td>\n",
       "      <td>4602.0</td>\n",
       "      <td>3</td>\n",
       "      <td>11</td>\n",
       "      <td>313</td>\n",
       "    </tr>\n",
       "    <tr>\n",
       "      <th>2017-11-09 15:00:00</th>\n",
       "      <td>5794.0</td>\n",
       "      <td>267.08</td>\n",
       "      <td>0.0</td>\n",
       "      <td>0.0</td>\n",
       "      <td>5</td>\n",
       "      <td>Clear</td>\n",
       "      <td>sky is clear</td>\n",
       "      <td>2838.0</td>\n",
       "      <td>3</td>\n",
       "      <td>11</td>\n",
       "      <td>313</td>\n",
       "    </tr>\n",
       "  </tbody>\n",
       "</table>\n",
       "</div>"
      ],
      "text/plain": [
       "                     traffic_volume    temp  rain_1h  snow_1h  clouds_all  \\\n",
       "date_time                                                                   \n",
       "2017-08-27 01:00:00          1209.0  291.15      0.0      0.0          90   \n",
       "2018-09-06 23:00:00          1248.0  286.01      0.0      0.0           1   \n",
       "2017-08-25 18:00:00          4602.0  293.69      0.0      0.0          75   \n",
       "2017-11-09 22:00:00          2838.0  262.35      0.0      0.0           1   \n",
       "2017-11-09 15:00:00          5794.0  267.08      0.0      0.0           5   \n",
       "\n",
       "                    weather_main weather_description  prev_traffic_volume  \\\n",
       "date_time                                                                   \n",
       "2017-08-27 01:00:00         Mist                mist                  NaN   \n",
       "2018-09-06 23:00:00        Clear        sky is clear               1209.0   \n",
       "2017-08-25 18:00:00       Clouds       broken clouds               1248.0   \n",
       "2017-11-09 22:00:00        Clear        sky is clear               4602.0   \n",
       "2017-11-09 15:00:00        Clear        sky is clear               2838.0   \n",
       "\n",
       "                     Day_of_Week  Month  Day_of_Year  \n",
       "date_time                                             \n",
       "2017-08-27 01:00:00            6      8          239  \n",
       "2018-09-06 23:00:00            3      9          249  \n",
       "2017-08-25 18:00:00            4      8          237  \n",
       "2017-11-09 22:00:00            3     11          313  \n",
       "2017-11-09 15:00:00            3     11          313  "
      ]
     },
     "execution_count": 796,
     "metadata": {},
     "output_type": "execute_result"
    }
   ],
   "source": [
    "# Add time-based features\n",
    "\n",
    "df['Day_of_Week'] = df.index.dayofweek\n",
    "df['Month'] = df.index.month\n",
    "df['Day_of_Year'] = df.index.dayofyear\n",
    "\n",
    "df.head()"
   ]
  },
  {
   "cell_type": "code",
   "execution_count": 797,
   "id": "c006855a-b9a2-4cf2-82a6-87906ff5cab7",
   "metadata": {},
   "outputs": [
    {
     "data": {
      "text/plain": [
       "(20000, 11)"
      ]
     },
     "execution_count": 797,
     "metadata": {},
     "output_type": "execute_result"
    }
   ],
   "source": [
    "df.shape"
   ]
  },
  {
   "cell_type": "code",
   "execution_count": 798,
   "id": "8d4979d6-f67d-463d-a9d4-3121db0dd7b4",
   "metadata": {},
   "outputs": [],
   "source": [
    "# there is NaN value so i want to replace it \n",
    "df = df.fillna(0)"
   ]
  },
  {
   "cell_type": "markdown",
   "id": "3f9fe326",
   "metadata": {
    "id": "3f9fe326"
   },
   "source": [
    "## Train-Test Split\n",
    "\n",
    "Split the dataset into training and testing sets.\n",
    "\n",
    "**Instructions:**\n",
    "- Ensure the split maintains the time order of the data.\n",
    "- Decide on an appropriate ratio for splitting the data."
   ]
  },
  {
   "cell_type": "code",
   "execution_count": 800,
   "id": "08be7d68-cf1b-4850-81b6-1af9ed50bf01",
   "metadata": {},
   "outputs": [],
   "source": [
    "label = LabelEncoder()\n",
    "df['weather_main'] = label.fit_transform(df['weather_main'])\n",
    "df['weather_description'] = label.fit_transform(df['weather_description'])"
   ]
  },
  {
   "cell_type": "code",
   "execution_count": 801,
   "id": "38bd86e0",
   "metadata": {
    "id": "38bd86e0"
   },
   "outputs": [
    {
     "data": {
      "text/plain": [
       "array([[1.2090e+03, 2.9115e+02, 0.0000e+00, ..., 6.0000e+00, 8.0000e+00,\n",
       "        2.3900e+02],\n",
       "       [1.2480e+03, 2.8601e+02, 0.0000e+00, ..., 3.0000e+00, 9.0000e+00,\n",
       "        2.4900e+02],\n",
       "       [4.6020e+03, 2.9369e+02, 0.0000e+00, ..., 4.0000e+00, 8.0000e+00,\n",
       "        2.3700e+02],\n",
       "       ...,\n",
       "       [1.1320e+03, 2.7530e+02, 0.0000e+00, ..., 2.0000e+00, 3.0000e+00,\n",
       "        8.7000e+01],\n",
       "       [5.5250e+03, 2.6094e+02, 0.0000e+00, ..., 0.0000e+00, 2.0000e+00,\n",
       "        4.3000e+01],\n",
       "       [5.0420e+03, 3.0165e+02, 0.0000e+00, ..., 3.0000e+00, 5.0000e+00,\n",
       "        1.5100e+02]])"
      ]
     },
     "execution_count": 801,
     "metadata": {},
     "output_type": "execute_result"
    }
   ],
   "source": [
    "df.values"
   ]
  },
  {
   "cell_type": "code",
   "execution_count": 802,
   "id": "1a4fdc05-e291-4a3b-9be7-545de03afdcf",
   "metadata": {},
   "outputs": [],
   "source": [
    "train_split = round(len(df) * 0.8)\n",
    "train_data = df.iloc[:train_split]\n",
    "test_data = df.iloc[train_split:]"
   ]
  },
  {
   "cell_type": "code",
   "execution_count": 803,
   "id": "465f3fa2-735b-467c-a3c1-b60831e8d561",
   "metadata": {},
   "outputs": [
    {
     "data": {
      "text/plain": [
       "((16000, 11), (4000, 11))"
      ]
     },
     "execution_count": 803,
     "metadata": {},
     "output_type": "execute_result"
    }
   ],
   "source": [
    "train_data.shape, test_data.shape"
   ]
  },
  {
   "cell_type": "markdown",
   "id": "4bd267bb",
   "metadata": {
    "id": "4bd267bb"
   },
   "source": [
    "## Feature Scaling\n",
    "\n",
    "Apply feature scaling to the data if needed.\n",
    "\n",
    "**Instructions:**\n",
    "- Use a scaling method such as MinMaxScaler or StandardScaler.\n",
    "- Ensure scaling is applied correctly to both training and testing data."
   ]
  },
  {
   "cell_type": "code",
   "execution_count": 805,
   "id": "2a8387e5",
   "metadata": {
    "id": "2a8387e5"
   },
   "outputs": [],
   "source": [
    "scaler = MinMaxScaler(feature_range=(0, 1))\n",
    "train_data_scaled = scaler.fit_transform(train_data)\n",
    "test_data_scaled = scaler.transform(test_data)"
   ]
  },
  {
   "cell_type": "code",
   "execution_count": 806,
   "id": "ca54d75e-6fe6-4595-99ab-94a1663e1b0a",
   "metadata": {},
   "outputs": [
    {
     "data": {
      "text/plain": [
       "((16000, 11), (4000, 11))"
      ]
     },
     "execution_count": 806,
     "metadata": {},
     "output_type": "execute_result"
    }
   ],
   "source": [
    "train_data_scaled.shape, test_data_scaled.shape"
   ]
  },
  {
   "cell_type": "code",
   "execution_count": 807,
   "id": "11de0325-9b19-4900-a989-40854544d4dc",
   "metadata": {},
   "outputs": [],
   "source": [
    "# Prepare the data \n",
    "def create_dataset(dataset, time_step):\n",
    "    X, Y = [], []\n",
    "    for i in range(len(dataset) - time_step - 1):\n",
    "        a = dataset[i:(i + time_step), 0:dataset.shape[1]]\n",
    "        X.append(a)\n",
    "        Y.append(dataset[i + time_step, 0])\n",
    "    return np.array(X), np.array(Y)"
   ]
  },
  {
   "cell_type": "code",
   "execution_count": 808,
   "id": "8be48a4f-97c8-433d-8e25-2705736b6083",
   "metadata": {},
   "outputs": [],
   "source": [
    "X_train, Y_train = create_dataset(train_data_scaled, 10)\n",
    "X_test, Y_test = create_dataset(test_data_scaled, 10)"
   ]
  },
  {
   "cell_type": "code",
   "execution_count": 809,
   "id": "e00825ce-a76d-40c9-b371-8be54840d162",
   "metadata": {},
   "outputs": [
    {
     "data": {
      "text/plain": [
       "((15989, 10, 11), (15989,), (3989, 10, 11), (3989,))"
      ]
     },
     "execution_count": 809,
     "metadata": {},
     "output_type": "execute_result"
    }
   ],
   "source": [
    "X_train.shape, Y_train.shape, X_test.shape, Y_test.shape"
   ]
  },
  {
   "cell_type": "code",
   "execution_count": 810,
   "id": "ec48b698-3767-47d3-a95d-d39fb2314fd4",
   "metadata": {
    "scrolled": true
   },
   "outputs": [
    {
     "data": {
      "text/plain": [
       "array([[[0.06575474, 0.72473445, 0.        , ..., 1.        ,\n",
       "         0.63636364, 0.65205479],\n",
       "        [0.06809455, 0.64673748, 0.        , ..., 0.5       ,\n",
       "         0.72727273, 0.67945205],\n",
       "        [0.26931845, 0.76327769, 0.        , ..., 0.66666667,\n",
       "         0.63636364, 0.64657534],\n",
       "        ...,\n",
       "        [0.33195344, 0.8522003 , 0.        , ..., 0.66666667,\n",
       "         0.63636364, 0.58630137],\n",
       "        [0.15172786, 0.48406677, 0.        , ..., 0.33333333,\n",
       "         0.        , 0.02465753],\n",
       "        [0.0412767 , 0.80485584, 0.        , ..., 0.5       ,\n",
       "         0.63636364, 0.60273973]],\n",
       "\n",
       "       [[0.06809455, 0.64673748, 0.        , ..., 0.5       ,\n",
       "         0.72727273, 0.67945205],\n",
       "        [0.26931845, 0.76327769, 0.        , ..., 0.66666667,\n",
       "         0.63636364, 0.64657534],\n",
       "        [0.16348692, 0.28770865, 0.        , ..., 0.5       ,\n",
       "         0.90909091, 0.85479452],\n",
       "        ...,\n",
       "        [0.15172786, 0.48406677, 0.        , ..., 0.33333333,\n",
       "         0.        , 0.02465753],\n",
       "        [0.0412767 , 0.80485584, 0.        , ..., 0.5       ,\n",
       "         0.63636364, 0.60273973],\n",
       "        [0.17920566, 0.15447648, 0.        , ..., 0.        ,\n",
       "         1.        , 0.98082192]],\n",
       "\n",
       "       [[0.26931845, 0.76327769, 0.        , ..., 0.66666667,\n",
       "         0.63636364, 0.64657534],\n",
       "        [0.16348692, 0.28770865, 0.        , ..., 0.5       ,\n",
       "         0.90909091, 0.85479452],\n",
       "        [0.34083273, 0.35948407, 0.        , ..., 0.5       ,\n",
       "         0.90909091, 0.85479452],\n",
       "        ...,\n",
       "        [0.0412767 , 0.80485584, 0.        , ..., 0.5       ,\n",
       "         0.63636364, 0.60273973],\n",
       "        [0.17920566, 0.15447648, 0.        , ..., 0.        ,\n",
       "         1.        , 0.98082192],\n",
       "        [0.23098152, 0.77647951, 0.        , ..., 1.        ,\n",
       "         0.63636364, 0.59452055]],\n",
       "\n",
       "       ...,\n",
       "\n",
       "       [[0.2925366 , 0.88406677, 0.        , ..., 0.5       ,\n",
       "         0.36363636, 0.37260274],\n",
       "        [0.11165107, 0.80394537, 0.        , ..., 0.        ,\n",
       "         0.45454545, 0.47945205],\n",
       "        [0.24322054, 0.49059181, 0.        , ..., 0.66666667,\n",
       "         0.27272727, 0.27945205],\n",
       "        ...,\n",
       "        [0.02321814, 0.39590288, 0.        , ..., 1.        ,\n",
       "         0.        , 0.        ],\n",
       "        [0.29433645, 0.19059181, 0.        , ..., 0.        ,\n",
       "         1.        , 0.94794521],\n",
       "        [0.06569474, 0.81183612, 0.16792453, ..., 1.        ,\n",
       "         0.63636364, 0.64931507]],\n",
       "\n",
       "       [[0.11165107, 0.80394537, 0.        , ..., 0.        ,\n",
       "         0.45454545, 0.47945205],\n",
       "        [0.24322054, 0.49059181, 0.        , ..., 0.66666667,\n",
       "         0.27272727, 0.27945205],\n",
       "        [0.32979362, 0.45918058, 0.        , ..., 0.5       ,\n",
       "         0.27272727, 0.31780822],\n",
       "        ...,\n",
       "        [0.29433645, 0.19059181, 0.        , ..., 0.        ,\n",
       "         1.        , 0.94794521],\n",
       "        [0.06569474, 0.81183612, 0.16792453, ..., 1.        ,\n",
       "         0.63636364, 0.64931507],\n",
       "        [0.34815215, 0.39893778, 0.        , ..., 0.33333333,\n",
       "         0.90909091, 0.89041096]],\n",
       "\n",
       "       [[0.24322054, 0.49059181, 0.        , ..., 0.66666667,\n",
       "         0.27272727, 0.27945205],\n",
       "        [0.32979362, 0.45918058, 0.        , ..., 0.5       ,\n",
       "         0.27272727, 0.31780822],\n",
       "        [0.04739621, 0.46373293, 0.        , ..., 0.16666667,\n",
       "         0.90909091, 0.89315068],\n",
       "        ...,\n",
       "        [0.06569474, 0.81183612, 0.16792453, ..., 1.        ,\n",
       "         0.63636364, 0.64931507],\n",
       "        [0.34815215, 0.39893778, 0.        , ..., 0.33333333,\n",
       "         0.90909091, 0.89041096],\n",
       "        [0.19162467, 0.24552352, 0.        , ..., 0.33333333,\n",
       "         0.09090909, 0.10136986]]])"
      ]
     },
     "execution_count": 810,
     "metadata": {},
     "output_type": "execute_result"
    }
   ],
   "source": [
    "X_train"
   ]
  },
  {
   "cell_type": "code",
   "execution_count": 811,
   "id": "d2cd12fe-f81c-49a3-894e-5fc0fa31801f",
   "metadata": {
    "scrolled": true
   },
   "outputs": [
    {
     "data": {
      "text/plain": [
       "array([[[0.20338373, 0.72367223, 0.07169811, ..., 0.83333333,\n",
       "         0.63636364, 0.64657534],\n",
       "        [0.26085913, 0.60333839, 0.        , ..., 1.        ,\n",
       "         0.36363636, 0.38356164],\n",
       "        [0.30825534, 0.6538695 , 0.        , ..., 0.5       ,\n",
       "         0.36363636, 0.39452055],\n",
       "        ...,\n",
       "        [0.15442765, 0.3616085 , 0.        , ..., 0.66666667,\n",
       "         0.27272727, 0.26027397],\n",
       "        [0.28569714, 0.27647951, 0.        , ..., 0.66666667,\n",
       "         1.        , 0.95890411],\n",
       "        [0.20182385, 0.75417299, 0.        , ..., 0.83333333,\n",
       "         0.72727273, 0.70684932]],\n",
       "\n",
       "       [[0.26085913, 0.60333839, 0.        , ..., 1.        ,\n",
       "         0.36363636, 0.38356164],\n",
       "        [0.30825534, 0.6538695 , 0.        , ..., 0.5       ,\n",
       "         0.36363636, 0.39452055],\n",
       "        [0.22582193, 0.83960546, 0.        , ..., 1.        ,\n",
       "         0.72727273, 0.69041096],\n",
       "        ...,\n",
       "        [0.28569714, 0.27647951, 0.        , ..., 0.66666667,\n",
       "         1.        , 0.95890411],\n",
       "        [0.20182385, 0.75417299, 0.        , ..., 0.83333333,\n",
       "         0.72727273, 0.70684932],\n",
       "        [0.2237821 , 0.68998483, 0.        , ..., 0.83333333,\n",
       "         0.81818182, 0.80273973]],\n",
       "\n",
       "       [[0.30825534, 0.6538695 , 0.        , ..., 0.5       ,\n",
       "         0.36363636, 0.39452055],\n",
       "        [0.22582193, 0.83960546, 0.        , ..., 1.        ,\n",
       "         0.72727273, 0.69041096],\n",
       "        [0.26157907, 0.9030349 , 0.        , ..., 0.83333333,\n",
       "         0.72727273, 0.7260274 ],\n",
       "        ...,\n",
       "        [0.20182385, 0.75417299, 0.        , ..., 0.83333333,\n",
       "         0.72727273, 0.70684932],\n",
       "        [0.2237821 , 0.68998483, 0.        , ..., 0.83333333,\n",
       "         0.81818182, 0.80273973],\n",
       "        [0.3411927 , 0.69438543, 0.        , ..., 0.5       ,\n",
       "         0.63636364, 0.60547945]],\n",
       "\n",
       "       ...,\n",
       "\n",
       "       [[0.13072954, 0.30379363, 0.        , ..., 1.        ,\n",
       "         0.        , 0.03561644],\n",
       "        [0.33201344, 0.70060698, 0.03584906, ..., 0.33333333,\n",
       "         0.72727273, 0.71506849],\n",
       "        [0.2024838 , 0.86342944, 0.        , ..., 1.        ,\n",
       "         0.45454545, 0.45753425],\n",
       "        ...,\n",
       "        [0.01049916, 0.70955994, 0.        , ..., 0.5       ,\n",
       "         0.63636364, 0.60547945],\n",
       "        [0.38924886, 0.41911988, 0.        , ..., 0.16666667,\n",
       "         0.18181818, 0.21643836],\n",
       "        [0.15658747, 0.8047041 , 0.        , ..., 0.33333333,\n",
       "         0.45454545, 0.42739726]],\n",
       "\n",
       "       [[0.33201344, 0.70060698, 0.03584906, ..., 0.33333333,\n",
       "         0.72727273, 0.71506849],\n",
       "        [0.2024838 , 0.86342944, 0.        , ..., 1.        ,\n",
       "         0.45454545, 0.45753425],\n",
       "        [0.23086153, 0.41911988, 0.        , ..., 1.        ,\n",
       "         0.27272727, 0.26575342],\n",
       "        ...,\n",
       "        [0.38924886, 0.41911988, 0.        , ..., 0.16666667,\n",
       "         0.18181818, 0.21643836],\n",
       "        [0.15658747, 0.8047041 , 0.        , ..., 0.33333333,\n",
       "         0.45454545, 0.42739726],\n",
       "        [0.34689225, 0.64021244, 0.        , ..., 0.33333333,\n",
       "         0.81818182, 0.81369863]],\n",
       "\n",
       "       [[0.2024838 , 0.86342944, 0.        , ..., 1.        ,\n",
       "         0.45454545, 0.45753425],\n",
       "        [0.23086153, 0.41911988, 0.        , ..., 1.        ,\n",
       "         0.27272727, 0.26575342],\n",
       "        [0.17326614, 0.62063733, 0.        , ..., 0.16666667,\n",
       "         0.72727273, 0.67671233],\n",
       "        ...,\n",
       "        [0.15658747, 0.8047041 , 0.        , ..., 0.33333333,\n",
       "         0.45454545, 0.42739726],\n",
       "        [0.34689225, 0.64021244, 0.        , ..., 0.33333333,\n",
       "         0.81818182, 0.81369863],\n",
       "        [0.06113511, 0.48421851, 0.        , ..., 0.33333333,\n",
       "         0.18181818, 0.23561644]]])"
      ]
     },
     "execution_count": 811,
     "metadata": {},
     "output_type": "execute_result"
    }
   ],
   "source": [
    "X_test"
   ]
  },
  {
   "cell_type": "code",
   "execution_count": 812,
   "id": "5939a6e0-e8bb-439a-922c-8935c318c483",
   "metadata": {},
   "outputs": [
    {
     "data": {
      "text/plain": [
       "array([0.17920566, 0.23098152, 0.17506599, ..., 0.34815215, 0.19162467,\n",
       "       0.27063835])"
      ]
     },
     "execution_count": 812,
     "metadata": {},
     "output_type": "execute_result"
    }
   ],
   "source": [
    "Y_train"
   ]
  },
  {
   "cell_type": "code",
   "execution_count": 813,
   "id": "96762090-5004-472e-8289-f2114e5aa3ae",
   "metadata": {},
   "outputs": [
    {
     "data": {
      "text/plain": [
       "array([0.2237821 , 0.3411927 , 0.18022558, ..., 0.34689225, 0.06113511,\n",
       "       0.32469402])"
      ]
     },
     "execution_count": 813,
     "metadata": {},
     "output_type": "execute_result"
    }
   ],
   "source": [
    "Y_test"
   ]
  },
  {
   "cell_type": "markdown",
   "id": "4f0be6e9",
   "metadata": {
    "id": "4f0be6e9"
   },
   "source": [
    "## Models Selection\n",
    "\n",
    "Choose two models for time series forecasting.\n",
    "\n",
    "**Instructions:**\n",
    "- Select two models such as ARIMA, SARIMA, RNN, LSTM, or GRU.\n",
    "- Train these models and then compare their performance."
   ]
  },
  {
   "cell_type": "code",
   "execution_count": 819,
   "id": "ffceef22",
   "metadata": {
    "id": "ffceef22"
   },
   "outputs": [
    {
     "name": "stderr",
     "output_type": "stream",
     "text": [
      "/opt/anaconda3/lib/python3.12/site-packages/keras/src/layers/rnn/rnn.py:204: UserWarning: Do not pass an `input_shape`/`input_dim` argument to a layer. When using Sequential models, prefer using an `Input(shape)` object as the first layer in the model instead.\n",
      "  super().__init__(**kwargs)\n"
     ]
    }
   ],
   "source": [
    "model = Sequential()\n",
    "model.add(LSTM(64, return_sequences=True, input_shape=(10, 11)))\n",
    "model.add(LSTM(64))\n",
    "model.add(Dense(1))\n",
    "\n",
    "\n",
    "model.compile(optimizer='adam', loss='mean_squared_error')"
   ]
  },
  {
   "cell_type": "code",
   "execution_count": 821,
   "id": "d04df575-0b24-46cc-a69e-bbc8a470feaa",
   "metadata": {},
   "outputs": [
    {
     "data": {
      "text/html": [
       "<pre style=\"white-space:pre;overflow-x:auto;line-height:normal;font-family:Menlo,'DejaVu Sans Mono',consolas,'Courier New',monospace\"><span style=\"font-weight: bold\">Model: \"sequential_8\"</span>\n",
       "</pre>\n"
      ],
      "text/plain": [
       "\u001b[1mModel: \"sequential_8\"\u001b[0m\n"
      ]
     },
     "metadata": {},
     "output_type": "display_data"
    },
    {
     "data": {
      "text/html": [
       "<pre style=\"white-space:pre;overflow-x:auto;line-height:normal;font-family:Menlo,'DejaVu Sans Mono',consolas,'Courier New',monospace\">┏━━━━━━━━━━━━━━━━━━━━━━━━━━━━━━━━━┳━━━━━━━━━━━━━━━━━━━━━━━━┳━━━━━━━━━━━━━━━┓\n",
       "┃<span style=\"font-weight: bold\"> Layer (type)                    </span>┃<span style=\"font-weight: bold\"> Output Shape           </span>┃<span style=\"font-weight: bold\">       Param # </span>┃\n",
       "┡━━━━━━━━━━━━━━━━━━━━━━━━━━━━━━━━━╇━━━━━━━━━━━━━━━━━━━━━━━━╇━━━━━━━━━━━━━━━┩\n",
       "│ lstm_15 (<span style=\"color: #0087ff; text-decoration-color: #0087ff\">LSTM</span>)                  │ (<span style=\"color: #00d7ff; text-decoration-color: #00d7ff\">None</span>, <span style=\"color: #00af00; text-decoration-color: #00af00\">10</span>, <span style=\"color: #00af00; text-decoration-color: #00af00\">64</span>)         │        <span style=\"color: #00af00; text-decoration-color: #00af00\">19,456</span> │\n",
       "├─────────────────────────────────┼────────────────────────┼───────────────┤\n",
       "│ lstm_16 (<span style=\"color: #0087ff; text-decoration-color: #0087ff\">LSTM</span>)                  │ (<span style=\"color: #00d7ff; text-decoration-color: #00d7ff\">None</span>, <span style=\"color: #00af00; text-decoration-color: #00af00\">64</span>)             │        <span style=\"color: #00af00; text-decoration-color: #00af00\">33,024</span> │\n",
       "├─────────────────────────────────┼────────────────────────┼───────────────┤\n",
       "│ dense_7 (<span style=\"color: #0087ff; text-decoration-color: #0087ff\">Dense</span>)                 │ (<span style=\"color: #00d7ff; text-decoration-color: #00d7ff\">None</span>, <span style=\"color: #00af00; text-decoration-color: #00af00\">1</span>)              │            <span style=\"color: #00af00; text-decoration-color: #00af00\">65</span> │\n",
       "└─────────────────────────────────┴────────────────────────┴───────────────┘\n",
       "</pre>\n"
      ],
      "text/plain": [
       "┏━━━━━━━━━━━━━━━━━━━━━━━━━━━━━━━━━┳━━━━━━━━━━━━━━━━━━━━━━━━┳━━━━━━━━━━━━━━━┓\n",
       "┃\u001b[1m \u001b[0m\u001b[1mLayer (type)                   \u001b[0m\u001b[1m \u001b[0m┃\u001b[1m \u001b[0m\u001b[1mOutput Shape          \u001b[0m\u001b[1m \u001b[0m┃\u001b[1m \u001b[0m\u001b[1m      Param #\u001b[0m\u001b[1m \u001b[0m┃\n",
       "┡━━━━━━━━━━━━━━━━━━━━━━━━━━━━━━━━━╇━━━━━━━━━━━━━━━━━━━━━━━━╇━━━━━━━━━━━━━━━┩\n",
       "│ lstm_15 (\u001b[38;5;33mLSTM\u001b[0m)                  │ (\u001b[38;5;45mNone\u001b[0m, \u001b[38;5;34m10\u001b[0m, \u001b[38;5;34m64\u001b[0m)         │        \u001b[38;5;34m19,456\u001b[0m │\n",
       "├─────────────────────────────────┼────────────────────────┼───────────────┤\n",
       "│ lstm_16 (\u001b[38;5;33mLSTM\u001b[0m)                  │ (\u001b[38;5;45mNone\u001b[0m, \u001b[38;5;34m64\u001b[0m)             │        \u001b[38;5;34m33,024\u001b[0m │\n",
       "├─────────────────────────────────┼────────────────────────┼───────────────┤\n",
       "│ dense_7 (\u001b[38;5;33mDense\u001b[0m)                 │ (\u001b[38;5;45mNone\u001b[0m, \u001b[38;5;34m1\u001b[0m)              │            \u001b[38;5;34m65\u001b[0m │\n",
       "└─────────────────────────────────┴────────────────────────┴───────────────┘\n"
      ]
     },
     "metadata": {},
     "output_type": "display_data"
    },
    {
     "data": {
      "text/html": [
       "<pre style=\"white-space:pre;overflow-x:auto;line-height:normal;font-family:Menlo,'DejaVu Sans Mono',consolas,'Courier New',monospace\"><span style=\"font-weight: bold\"> Total params: </span><span style=\"color: #00af00; text-decoration-color: #00af00\">52,545</span> (205.25 KB)\n",
       "</pre>\n"
      ],
      "text/plain": [
       "\u001b[1m Total params: \u001b[0m\u001b[38;5;34m52,545\u001b[0m (205.25 KB)\n"
      ]
     },
     "metadata": {},
     "output_type": "display_data"
    },
    {
     "data": {
      "text/html": [
       "<pre style=\"white-space:pre;overflow-x:auto;line-height:normal;font-family:Menlo,'DejaVu Sans Mono',consolas,'Courier New',monospace\"><span style=\"font-weight: bold\"> Trainable params: </span><span style=\"color: #00af00; text-decoration-color: #00af00\">52,545</span> (205.25 KB)\n",
       "</pre>\n"
      ],
      "text/plain": [
       "\u001b[1m Trainable params: \u001b[0m\u001b[38;5;34m52,545\u001b[0m (205.25 KB)\n"
      ]
     },
     "metadata": {},
     "output_type": "display_data"
    },
    {
     "data": {
      "text/html": [
       "<pre style=\"white-space:pre;overflow-x:auto;line-height:normal;font-family:Menlo,'DejaVu Sans Mono',consolas,'Courier New',monospace\"><span style=\"font-weight: bold\"> Non-trainable params: </span><span style=\"color: #00af00; text-decoration-color: #00af00\">0</span> (0.00 B)\n",
       "</pre>\n"
      ],
      "text/plain": [
       "\u001b[1m Non-trainable params: \u001b[0m\u001b[38;5;34m0\u001b[0m (0.00 B)\n"
      ]
     },
     "metadata": {},
     "output_type": "display_data"
    }
   ],
   "source": [
    "model.summary()"
   ]
  },
  {
   "cell_type": "markdown",
   "id": "0981f787",
   "metadata": {
    "id": "0981f787"
   },
   "source": [
    "### Model 1 Training\n",
    "\n",
    "Train your first model on the training dataset.\n",
    "\n",
    "**Instructions:**\n",
    "- Fit the first model to the training data.\n",
    "- Ensure to monitor the training process."
   ]
  },
  {
   "cell_type": "code",
   "execution_count": 824,
   "id": "8205ed7f",
   "metadata": {
    "id": "8205ed7f",
    "scrolled": true
   },
   "outputs": [
    {
     "name": "stdout",
     "output_type": "stream",
     "text": [
      "Epoch 1/20\n",
      "\u001b[1m250/250\u001b[0m \u001b[32m━━━━━━━━━━━━━━━━━━━━\u001b[0m\u001b[37m\u001b[0m \u001b[1m2s\u001b[0m 5ms/step - loss: 0.0149 - val_loss: 0.0143\n",
      "Epoch 2/20\n",
      "\u001b[1m250/250\u001b[0m \u001b[32m━━━━━━━━━━━━━━━━━━━━\u001b[0m\u001b[37m\u001b[0m \u001b[1m1s\u001b[0m 5ms/step - loss: 0.0144 - val_loss: 0.0139\n",
      "Epoch 3/20\n",
      "\u001b[1m250/250\u001b[0m \u001b[32m━━━━━━━━━━━━━━━━━━━━\u001b[0m\u001b[37m\u001b[0m \u001b[1m1s\u001b[0m 5ms/step - loss: 0.0141 - val_loss: 0.0139\n",
      "Epoch 4/20\n",
      "\u001b[1m250/250\u001b[0m \u001b[32m━━━━━━━━━━━━━━━━━━━━\u001b[0m\u001b[37m\u001b[0m \u001b[1m1s\u001b[0m 5ms/step - loss: 0.0143 - val_loss: 0.0144\n",
      "Epoch 5/20\n",
      "\u001b[1m250/250\u001b[0m \u001b[32m━━━━━━━━━━━━━━━━━━━━\u001b[0m\u001b[37m\u001b[0m \u001b[1m1s\u001b[0m 5ms/step - loss: 0.0141 - val_loss: 0.0139\n",
      "Epoch 6/20\n",
      "\u001b[1m250/250\u001b[0m \u001b[32m━━━━━━━━━━━━━━━━━━━━\u001b[0m\u001b[37m\u001b[0m \u001b[1m1s\u001b[0m 5ms/step - loss: 0.0141 - val_loss: 0.0139\n",
      "Epoch 7/20\n",
      "\u001b[1m250/250\u001b[0m \u001b[32m━━━━━━━━━━━━━━━━━━━━\u001b[0m\u001b[37m\u001b[0m \u001b[1m1s\u001b[0m 5ms/step - loss: 0.0143 - val_loss: 0.0138\n",
      "Epoch 8/20\n",
      "\u001b[1m250/250\u001b[0m \u001b[32m━━━━━━━━━━━━━━━━━━━━\u001b[0m\u001b[37m\u001b[0m \u001b[1m1s\u001b[0m 5ms/step - loss: 0.0143 - val_loss: 0.0138\n",
      "Epoch 9/20\n",
      "\u001b[1m250/250\u001b[0m \u001b[32m━━━━━━━━━━━━━━━━━━━━\u001b[0m\u001b[37m\u001b[0m \u001b[1m1s\u001b[0m 5ms/step - loss: 0.0140 - val_loss: 0.0141\n",
      "Epoch 10/20\n",
      "\u001b[1m250/250\u001b[0m \u001b[32m━━━━━━━━━━━━━━━━━━━━\u001b[0m\u001b[37m\u001b[0m \u001b[1m1s\u001b[0m 5ms/step - loss: 0.0143 - val_loss: 0.0141\n",
      "Epoch 11/20\n",
      "\u001b[1m250/250\u001b[0m \u001b[32m━━━━━━━━━━━━━━━━━━━━\u001b[0m\u001b[37m\u001b[0m \u001b[1m1s\u001b[0m 5ms/step - loss: 0.0142 - val_loss: 0.0141\n",
      "Epoch 12/20\n",
      "\u001b[1m250/250\u001b[0m \u001b[32m━━━━━━━━━━━━━━━━━━━━\u001b[0m\u001b[37m\u001b[0m \u001b[1m1s\u001b[0m 5ms/step - loss: 0.0140 - val_loss: 0.0139\n",
      "Epoch 13/20\n",
      "\u001b[1m250/250\u001b[0m \u001b[32m━━━━━━━━━━━━━━━━━━━━\u001b[0m\u001b[37m\u001b[0m \u001b[1m1s\u001b[0m 5ms/step - loss: 0.0142 - val_loss: 0.0139\n",
      "Epoch 14/20\n",
      "\u001b[1m250/250\u001b[0m \u001b[32m━━━━━━━━━━━━━━━━━━━━\u001b[0m\u001b[37m\u001b[0m \u001b[1m1s\u001b[0m 5ms/step - loss: 0.0143 - val_loss: 0.0139\n",
      "Epoch 15/20\n",
      "\u001b[1m250/250\u001b[0m \u001b[32m━━━━━━━━━━━━━━━━━━━━\u001b[0m\u001b[37m\u001b[0m \u001b[1m1s\u001b[0m 5ms/step - loss: 0.0140 - val_loss: 0.0138\n",
      "Epoch 16/20\n",
      "\u001b[1m250/250\u001b[0m \u001b[32m━━━━━━━━━━━━━━━━━━━━\u001b[0m\u001b[37m\u001b[0m \u001b[1m1s\u001b[0m 5ms/step - loss: 0.0142 - val_loss: 0.0139\n",
      "Epoch 17/20\n",
      "\u001b[1m250/250\u001b[0m \u001b[32m━━━━━━━━━━━━━━━━━━━━\u001b[0m\u001b[37m\u001b[0m \u001b[1m1s\u001b[0m 5ms/step - loss: 0.0143 - val_loss: 0.0141\n",
      "Epoch 18/20\n",
      "\u001b[1m250/250\u001b[0m \u001b[32m━━━━━━━━━━━━━━━━━━━━\u001b[0m\u001b[37m\u001b[0m \u001b[1m1s\u001b[0m 5ms/step - loss: 0.0140 - val_loss: 0.0138\n",
      "Epoch 19/20\n",
      "\u001b[1m250/250\u001b[0m \u001b[32m━━━━━━━━━━━━━━━━━━━━\u001b[0m\u001b[37m\u001b[0m \u001b[1m1s\u001b[0m 6ms/step - loss: 0.0143 - val_loss: 0.0138\n",
      "Epoch 20/20\n",
      "\u001b[1m250/250\u001b[0m \u001b[32m━━━━━━━━━━━━━━━━━━━━\u001b[0m\u001b[37m\u001b[0m \u001b[1m1s\u001b[0m 6ms/step - loss: 0.0140 - val_loss: 0.0139\n"
     ]
    }
   ],
   "source": [
    "# Train the model\n",
    "history = model.fit(X_train, Y_train, epochs=20, batch_size=64, validation_data=(X_test, Y_test))"
   ]
  },
  {
   "cell_type": "markdown",
   "id": "5f5b3fe3",
   "metadata": {
    "id": "5f5b3fe3"
   },
   "source": [
    "### Make 1 Predictions\n",
    "\n",
    "Generate predictions on the test dataset.\n",
    "\n",
    "### Instructions:\n",
    "- Use the trained model to make predictions on the test data.\n",
    "- Store the predictions for further analysis."
   ]
  },
  {
   "cell_type": "code",
   "execution_count": 826,
   "id": "d1d5cca3",
   "metadata": {
    "id": "d1d5cca3"
   },
   "outputs": [
    {
     "name": "stdout",
     "output_type": "stream",
     "text": [
      "\u001b[1m125/125\u001b[0m \u001b[32m━━━━━━━━━━━━━━━━━━━━\u001b[0m\u001b[37m\u001b[0m \u001b[1m0s\u001b[0m 2ms/step\n"
     ]
    }
   ],
   "source": [
    "y_pred_1 = model.predict(X_test)"
   ]
  },
  {
   "cell_type": "code",
   "execution_count": 828,
   "id": "b7a6ecd1-07ab-4fc2-8fe5-5a50cae6052d",
   "metadata": {},
   "outputs": [
    {
     "data": {
      "text/plain": [
       "(3989, 1)"
      ]
     },
     "execution_count": 828,
     "metadata": {},
     "output_type": "execute_result"
    }
   ],
   "source": [
    "y_pred_1.shape"
   ]
  },
  {
   "cell_type": "code",
   "execution_count": 830,
   "id": "00a9d5a9-bb98-4965-a141-2c5a434d8c7b",
   "metadata": {},
   "outputs": [
    {
     "data": {
      "text/plain": [
       "array([[0.19296952],\n",
       "       [0.19556615],\n",
       "       [0.19653839],\n",
       "       ...,\n",
       "       [0.19660598],\n",
       "       [0.19763698],\n",
       "       [0.19592744]], dtype=float32)"
      ]
     },
     "execution_count": 830,
     "metadata": {},
     "output_type": "execute_result"
    }
   ],
   "source": [
    "y_pred_1"
   ]
  },
  {
   "cell_type": "markdown",
   "id": "6489cd08",
   "metadata": {
    "id": "6489cd08"
   },
   "source": [
    "### Model 1 Evaluation\n",
    "\n",
    "Evaluate the performance of your first model on the test dataset.\n",
    "\n",
    "**Instructions:**\n",
    "- Calculate evaluation metrics such as MAE, MSE, RMSE, or MAPE.\n",
    "- Plot the predicted vs actual values for the test set.\n",
    "- Plot the loss and the validation loss."
   ]
  },
  {
   "cell_type": "code",
   "execution_count": 833,
   "id": "aad46e07",
   "metadata": {
    "id": "aad46e07"
   },
   "outputs": [
    {
     "name": "stdout",
     "output_type": "stream",
     "text": [
      "MSE: 0.0139\n"
     ]
    }
   ],
   "source": [
    "# Calculate MSE \n",
    "mse = mean_squared_error(Y_test, y_pred_1)\n",
    "\n",
    "print(f\"MSE: {mse:.4f}\")"
   ]
  },
  {
   "cell_type": "code",
   "execution_count": 835,
   "id": "fecc761b-607a-4350-9b3d-4188e9f83fb4",
   "metadata": {},
   "outputs": [
    {
     "data": {
      "image/png": "[encoded data removed]",
      "text/plain": [
       "<Figure size 640x480 with 1 Axes>"
      ]
     },
     "metadata": {},
     "output_type": "display_data"
    }
   ],
   "source": [
    "plt.plot(Y_test, color='blue',label='Actal traffic_volume')\n",
    "plt.plot(y_pred_1, color='red',label='Predicted traffic_volume')\n",
    "plt.legend()\n",
    "plt.show()"
   ]
  },
  {
   "cell_type": "code",
   "execution_count": 837,
   "id": "f24a075f-fe4b-4286-b8b2-d7dddf8fd43e",
   "metadata": {},
   "outputs": [
    {
     "data": {
      "image/png": "[encoded data removed]",
      "text/plain": [
       "<Figure size 640x480 with 1 Axes>"
      ]
     },
     "metadata": {},
     "output_type": "display_data"
    }
   ],
   "source": [
    "# summarize history for loss\n",
    "plt.plot(history.history['loss'])\n",
    "plt.plot(history.history['val_loss'])\n",
    "plt.title('model loss')\n",
    "\n",
    "plt.show()"
   ]
  },
  {
   "cell_type": "markdown",
   "id": "82dd396a",
   "metadata": {
    "id": "82dd396a"
   },
   "source": [
    "### Model 2 Training\n",
    "\n",
    "Train your second model on the training dataset.\n",
    "\n",
    "**Instructions:**\n",
    "- Fit the second model to the training data.\n",
    "- Ensure to monitor the training process."
   ]
  },
  {
   "cell_type": "code",
   "execution_count": 839,
   "id": "b8605884",
   "metadata": {
    "id": "b8605884"
   },
   "outputs": [
    {
     "name": "stderr",
     "output_type": "stream",
     "text": [
      "/opt/anaconda3/lib/python3.12/site-packages/keras/src/layers/rnn/rnn.py:204: UserWarning: Do not pass an `input_shape`/`input_dim` argument to a layer. When using Sequential models, prefer using an `Input(shape)` object as the first layer in the model instead.\n",
      "  super().__init__(**kwargs)\n"
     ]
    }
   ],
   "source": [
    "# Build the GRU model\n",
    "model2 = Sequential()\n",
    "model2.add(GRU(units=50, return_sequences=True, input_shape=(10, 11)))\n",
    "model2.add(GRU(units=50))\n",
    "model2.add(Dropout(0.2))\n",
    "model2.add(Dense(1))\n",
    "\n",
    "model2.compile(loss='mean_squared_error', optimizer='adam')"
   ]
  },
  {
   "cell_type": "code",
   "execution_count": 841,
   "id": "5eae6653-50f2-4c18-b081-67a554022c6e",
   "metadata": {},
   "outputs": [
    {
     "data": {
      "text/html": [
       "<pre style=\"white-space:pre;overflow-x:auto;line-height:normal;font-family:Menlo,'DejaVu Sans Mono',consolas,'Courier New',monospace\"><span style=\"font-weight: bold\">Model: \"sequential_9\"</span>\n",
       "</pre>\n"
      ],
      "text/plain": [
       "\u001b[1mModel: \"sequential_9\"\u001b[0m\n"
      ]
     },
     "metadata": {},
     "output_type": "display_data"
    },
    {
     "data": {
      "text/html": [
       "<pre style=\"white-space:pre;overflow-x:auto;line-height:normal;font-family:Menlo,'DejaVu Sans Mono',consolas,'Courier New',monospace\">┏━━━━━━━━━━━━━━━━━━━━━━━━━━━━━━━━━┳━━━━━━━━━━━━━━━━━━━━━━━━┳━━━━━━━━━━━━━━━┓\n",
       "┃<span style=\"font-weight: bold\"> Layer (type)                    </span>┃<span style=\"font-weight: bold\"> Output Shape           </span>┃<span style=\"font-weight: bold\">       Param # </span>┃\n",
       "┡━━━━━━━━━━━━━━━━━━━━━━━━━━━━━━━━━╇━━━━━━━━━━━━━━━━━━━━━━━━╇━━━━━━━━━━━━━━━┩\n",
       "│ gru_4 (<span style=\"color: #0087ff; text-decoration-color: #0087ff\">GRU</span>)                     │ (<span style=\"color: #00d7ff; text-decoration-color: #00d7ff\">None</span>, <span style=\"color: #00af00; text-decoration-color: #00af00\">10</span>, <span style=\"color: #00af00; text-decoration-color: #00af00\">50</span>)         │         <span style=\"color: #00af00; text-decoration-color: #00af00\">9,450</span> │\n",
       "├─────────────────────────────────┼────────────────────────┼───────────────┤\n",
       "│ gru_5 (<span style=\"color: #0087ff; text-decoration-color: #0087ff\">GRU</span>)                     │ (<span style=\"color: #00d7ff; text-decoration-color: #00d7ff\">None</span>, <span style=\"color: #00af00; text-decoration-color: #00af00\">50</span>)             │        <span style=\"color: #00af00; text-decoration-color: #00af00\">15,300</span> │\n",
       "├─────────────────────────────────┼────────────────────────┼───────────────┤\n",
       "│ dropout_7 (<span style=\"color: #0087ff; text-decoration-color: #0087ff\">Dropout</span>)             │ (<span style=\"color: #00d7ff; text-decoration-color: #00d7ff\">None</span>, <span style=\"color: #00af00; text-decoration-color: #00af00\">50</span>)             │             <span style=\"color: #00af00; text-decoration-color: #00af00\">0</span> │\n",
       "├─────────────────────────────────┼────────────────────────┼───────────────┤\n",
       "│ dense_8 (<span style=\"color: #0087ff; text-decoration-color: #0087ff\">Dense</span>)                 │ (<span style=\"color: #00d7ff; text-decoration-color: #00d7ff\">None</span>, <span style=\"color: #00af00; text-decoration-color: #00af00\">1</span>)              │            <span style=\"color: #00af00; text-decoration-color: #00af00\">51</span> │\n",
       "└─────────────────────────────────┴────────────────────────┴───────────────┘\n",
       "</pre>\n"
      ],
      "text/plain": [
       "┏━━━━━━━━━━━━━━━━━━━━━━━━━━━━━━━━━┳━━━━━━━━━━━━━━━━━━━━━━━━┳━━━━━━━━━━━━━━━┓\n",
       "┃\u001b[1m \u001b[0m\u001b[1mLayer (type)                   \u001b[0m\u001b[1m \u001b[0m┃\u001b[1m \u001b[0m\u001b[1mOutput Shape          \u001b[0m\u001b[1m \u001b[0m┃\u001b[1m \u001b[0m\u001b[1m      Param #\u001b[0m\u001b[1m \u001b[0m┃\n",
       "┡━━━━━━━━━━━━━━━━━━━━━━━━━━━━━━━━━╇━━━━━━━━━━━━━━━━━━━━━━━━╇━━━━━━━━━━━━━━━┩\n",
       "│ gru_4 (\u001b[38;5;33mGRU\u001b[0m)                     │ (\u001b[38;5;45mNone\u001b[0m, \u001b[38;5;34m10\u001b[0m, \u001b[38;5;34m50\u001b[0m)         │         \u001b[38;5;34m9,450\u001b[0m │\n",
       "├─────────────────────────────────┼────────────────────────┼───────────────┤\n",
       "│ gru_5 (\u001b[38;5;33mGRU\u001b[0m)                     │ (\u001b[38;5;45mNone\u001b[0m, \u001b[38;5;34m50\u001b[0m)             │        \u001b[38;5;34m15,300\u001b[0m │\n",
       "├─────────────────────────────────┼────────────────────────┼───────────────┤\n",
       "│ dropout_7 (\u001b[38;5;33mDropout\u001b[0m)             │ (\u001b[38;5;45mNone\u001b[0m, \u001b[38;5;34m50\u001b[0m)             │             \u001b[38;5;34m0\u001b[0m │\n",
       "├─────────────────────────────────┼────────────────────────┼───────────────┤\n",
       "│ dense_8 (\u001b[38;5;33mDense\u001b[0m)                 │ (\u001b[38;5;45mNone\u001b[0m, \u001b[38;5;34m1\u001b[0m)              │            \u001b[38;5;34m51\u001b[0m │\n",
       "└─────────────────────────────────┴────────────────────────┴───────────────┘\n"
      ]
     },
     "metadata": {},
     "output_type": "display_data"
    },
    {
     "data": {
      "text/html": [
       "<pre style=\"white-space:pre;overflow-x:auto;line-height:normal;font-family:Menlo,'DejaVu Sans Mono',consolas,'Courier New',monospace\"><span style=\"font-weight: bold\"> Total params: </span><span style=\"color: #00af00; text-decoration-color: #00af00\">24,801</span> (96.88 KB)\n",
       "</pre>\n"
      ],
      "text/plain": [
       "\u001b[1m Total params: \u001b[0m\u001b[38;5;34m24,801\u001b[0m (96.88 KB)\n"
      ]
     },
     "metadata": {},
     "output_type": "display_data"
    },
    {
     "data": {
      "text/html": [
       "<pre style=\"white-space:pre;overflow-x:auto;line-height:normal;font-family:Menlo,'DejaVu Sans Mono',consolas,'Courier New',monospace\"><span style=\"font-weight: bold\"> Trainable params: </span><span style=\"color: #00af00; text-decoration-color: #00af00\">24,801</span> (96.88 KB)\n",
       "</pre>\n"
      ],
      "text/plain": [
       "\u001b[1m Trainable params: \u001b[0m\u001b[38;5;34m24,801\u001b[0m (96.88 KB)\n"
      ]
     },
     "metadata": {},
     "output_type": "display_data"
    },
    {
     "data": {
      "text/html": [
       "<pre style=\"white-space:pre;overflow-x:auto;line-height:normal;font-family:Menlo,'DejaVu Sans Mono',consolas,'Courier New',monospace\"><span style=\"font-weight: bold\"> Non-trainable params: </span><span style=\"color: #00af00; text-decoration-color: #00af00\">0</span> (0.00 B)\n",
       "</pre>\n"
      ],
      "text/plain": [
       "\u001b[1m Non-trainable params: \u001b[0m\u001b[38;5;34m0\u001b[0m (0.00 B)\n"
      ]
     },
     "metadata": {},
     "output_type": "display_data"
    }
   ],
   "source": [
    "model2.summary()"
   ]
  },
  {
   "cell_type": "code",
   "execution_count": 843,
   "id": "ba2cb82a-9c51-4fab-989b-c0beb16e3f61",
   "metadata": {
    "scrolled": true
   },
   "outputs": [
    {
     "name": "stdout",
     "output_type": "stream",
     "text": [
      "Epoch 1/20\n",
      "\u001b[1m250/250\u001b[0m \u001b[32m━━━━━━━━━━━━━━━━━━━━\u001b[0m\u001b[37m\u001b[0m \u001b[1m2s\u001b[0m 5ms/step - loss: 0.0189 - val_loss: 0.0143\n",
      "Epoch 2/20\n",
      "\u001b[1m250/250\u001b[0m \u001b[32m━━━━━━━━━━━━━━━━━━━━\u001b[0m\u001b[37m\u001b[0m \u001b[1m1s\u001b[0m 4ms/step - loss: 0.0148 - val_loss: 0.0139\n",
      "Epoch 3/20\n",
      "\u001b[1m250/250\u001b[0m \u001b[32m━━━━━━━━━━━━━━━━━━━━\u001b[0m\u001b[37m\u001b[0m \u001b[1m1s\u001b[0m 4ms/step - loss: 0.0146 - val_loss: 0.0139\n",
      "Epoch 4/20\n",
      "\u001b[1m250/250\u001b[0m \u001b[32m━━━━━━━━━━━━━━━━━━━━\u001b[0m\u001b[37m\u001b[0m \u001b[1m1s\u001b[0m 4ms/step - loss: 0.0145 - val_loss: 0.0139\n",
      "Epoch 5/20\n",
      "\u001b[1m250/250\u001b[0m \u001b[32m━━━━━━━━━━━━━━━━━━━━\u001b[0m\u001b[37m\u001b[0m \u001b[1m1s\u001b[0m 4ms/step - loss: 0.0144 - val_loss: 0.0139\n",
      "Epoch 6/20\n",
      "\u001b[1m250/250\u001b[0m \u001b[32m━━━━━━━━━━━━━━━━━━━━\u001b[0m\u001b[37m\u001b[0m \u001b[1m1s\u001b[0m 4ms/step - loss: 0.0144 - val_loss: 0.0138\n",
      "Epoch 7/20\n",
      "\u001b[1m250/250\u001b[0m \u001b[32m━━━━━━━━━━━━━━━━━━━━\u001b[0m\u001b[37m\u001b[0m \u001b[1m1s\u001b[0m 4ms/step - loss: 0.0144 - val_loss: 0.0139\n",
      "Epoch 8/20\n",
      "\u001b[1m250/250\u001b[0m \u001b[32m━━━━━━━━━━━━━━━━━━━━\u001b[0m\u001b[37m\u001b[0m \u001b[1m1s\u001b[0m 4ms/step - loss: 0.0143 - val_loss: 0.0138\n",
      "Epoch 9/20\n",
      "\u001b[1m250/250\u001b[0m \u001b[32m━━━━━━━━━━━━━━━━━━━━\u001b[0m\u001b[37m\u001b[0m \u001b[1m1s\u001b[0m 4ms/step - loss: 0.0143 - val_loss: 0.0138\n",
      "Epoch 10/20\n",
      "\u001b[1m250/250\u001b[0m \u001b[32m━━━━━━━━━━━━━━━━━━━━\u001b[0m\u001b[37m\u001b[0m \u001b[1m1s\u001b[0m 4ms/step - loss: 0.0143 - val_loss: 0.0139\n",
      "Epoch 11/20\n",
      "\u001b[1m250/250\u001b[0m \u001b[32m━━━━━━━━━━━━━━━━━━━━\u001b[0m\u001b[37m\u001b[0m \u001b[1m1s\u001b[0m 4ms/step - loss: 0.0142 - val_loss: 0.0138\n",
      "Epoch 12/20\n",
      "\u001b[1m250/250\u001b[0m \u001b[32m━━━━━━━━━━━━━━━━━━━━\u001b[0m\u001b[37m\u001b[0m \u001b[1m1s\u001b[0m 4ms/step - loss: 0.0142 - val_loss: 0.0139\n",
      "Epoch 13/20\n",
      "\u001b[1m250/250\u001b[0m \u001b[32m━━━━━━━━━━━━━━━━━━━━\u001b[0m\u001b[37m\u001b[0m \u001b[1m1s\u001b[0m 4ms/step - loss: 0.0140 - val_loss: 0.0138\n",
      "Epoch 14/20\n",
      "\u001b[1m250/250\u001b[0m \u001b[32m━━━━━━━━━━━━━━━━━━━━\u001b[0m\u001b[37m\u001b[0m \u001b[1m1s\u001b[0m 4ms/step - loss: 0.0142 - val_loss: 0.0139\n",
      "Epoch 15/20\n",
      "\u001b[1m250/250\u001b[0m \u001b[32m━━━━━━━━━━━━━━━━━━━━\u001b[0m\u001b[37m\u001b[0m \u001b[1m1s\u001b[0m 4ms/step - loss: 0.0142 - val_loss: 0.0138\n",
      "Epoch 16/20\n",
      "\u001b[1m250/250\u001b[0m \u001b[32m━━━━━━━━━━━━━━━━━━━━\u001b[0m\u001b[37m\u001b[0m \u001b[1m1s\u001b[0m 4ms/step - loss: 0.0143 - val_loss: 0.0140\n",
      "Epoch 17/20\n",
      "\u001b[1m250/250\u001b[0m \u001b[32m━━━━━━━━━━━━━━━━━━━━\u001b[0m\u001b[37m\u001b[0m \u001b[1m1s\u001b[0m 4ms/step - loss: 0.0142 - val_loss: 0.0139\n",
      "Epoch 18/20\n",
      "\u001b[1m250/250\u001b[0m \u001b[32m━━━━━━━━━━━━━━━━━━━━\u001b[0m\u001b[37m\u001b[0m \u001b[1m1s\u001b[0m 4ms/step - loss: 0.0141 - val_loss: 0.0139\n",
      "Epoch 19/20\n",
      "\u001b[1m250/250\u001b[0m \u001b[32m━━━━━━━━━━━━━━━━━━━━\u001b[0m\u001b[37m\u001b[0m \u001b[1m1s\u001b[0m 4ms/step - loss: 0.0141 - val_loss: 0.0138\n",
      "Epoch 20/20\n",
      "\u001b[1m250/250\u001b[0m \u001b[32m━━━━━━━━━━━━━━━━━━━━\u001b[0m\u001b[37m\u001b[0m \u001b[1m1s\u001b[0m 4ms/step - loss: 0.0143 - val_loss: 0.0138\n"
     ]
    }
   ],
   "source": [
    "history = model2.fit(X_train, Y_train, epochs=20, batch_size=64, validation_data=(X_test, Y_test))"
   ]
  },
  {
   "cell_type": "markdown",
   "id": "3e811d93",
   "metadata": {
    "id": "3e811d93"
   },
   "source": [
    "### Make 2 Predictions\n",
    "\n",
    "Generate predictions on the test dataset.\n",
    "\n",
    "### Instructions:\n",
    "- Use the trained model to make predictions on the test data.\n",
    "- Store the predictions for further analysis."
   ]
  },
  {
   "cell_type": "code",
   "execution_count": 844,
   "id": "d1492fe0",
   "metadata": {
    "id": "d1492fe0"
   },
   "outputs": [
    {
     "name": "stdout",
     "output_type": "stream",
     "text": [
      "\u001b[1m125/125\u001b[0m \u001b[32m━━━━━━━━━━━━━━━━━━━━\u001b[0m\u001b[37m\u001b[0m \u001b[1m0s\u001b[0m 2ms/step\n"
     ]
    }
   ],
   "source": [
    "y_pred_2 = model2.predict(X_test)"
   ]
  },
  {
   "cell_type": "code",
   "execution_count": 845,
   "id": "5e18523a-88da-4b4f-a506-a9c5cf2a7578",
   "metadata": {},
   "outputs": [
    {
     "data": {
      "text/plain": [
       "(3989, 1)"
      ]
     },
     "execution_count": 845,
     "metadata": {},
     "output_type": "execute_result"
    }
   ],
   "source": [
    "y_pred_2.shape"
   ]
  },
  {
   "cell_type": "code",
   "execution_count": 846,
   "id": "9f70e537-71da-4cfb-a419-1ef4603cb6b6",
   "metadata": {},
   "outputs": [
    {
     "data": {
      "text/plain": [
       "array([[0.19044104],\n",
       "       [0.19120938],\n",
       "       [0.19251339],\n",
       "       ...,\n",
       "       [0.18677635],\n",
       "       [0.19010925],\n",
       "       [0.18728152]], dtype=float32)"
      ]
     },
     "execution_count": 846,
     "metadata": {},
     "output_type": "execute_result"
    }
   ],
   "source": [
    "y_pred_2"
   ]
  },
  {
   "cell_type": "markdown",
   "id": "9d7f7af2",
   "metadata": {
    "id": "9d7f7af2"
   },
   "source": [
    "### Model 2 Evaluation\n",
    "\n",
    "Evaluate the performance of your second model on the test dataset.\n",
    "\n",
    "**Instructions:**\n",
    "- Calculate evaluation metrics such as MAE, MSE, RMSE, or MAPE.\n",
    "- Plot the predicted vs actual values for the test set.\n",
    "- Plot the loss and the validation loss."
   ]
  },
  {
   "cell_type": "code",
   "execution_count": 847,
   "id": "7c3b85de",
   "metadata": {
    "id": "7c3b85de"
   },
   "outputs": [
    {
     "name": "stdout",
     "output_type": "stream",
     "text": [
      "MSE: 0.0138\n"
     ]
    }
   ],
   "source": [
    "# Calculate MSE\n",
    "mse = mean_squared_error(Y_test, y_pred_2)\n",
    "\n",
    "print(f\"MSE: {mse:.4f}\")"
   ]
  },
  {
   "cell_type": "code",
   "execution_count": 848,
   "id": "ede1e5a0-1be9-4357-894c-055421af9952",
   "metadata": {},
   "outputs": [
    {
     "data": {
      "image/png": "[encoded data removed]",
      "text/plain": [
       "<Figure size 640x480 with 1 Axes>"
      ]
     },
     "metadata": {},
     "output_type": "display_data"
    }
   ],
   "source": [
    "plt.plot(Y_test, color='pink',label='Actal traffic_volume')\n",
    "plt.plot(y_pred_2, color='black',label='Predicted traffic_volume')\n",
    "plt.legend()\n",
    "plt.show()"
   ]
  },
  {
   "cell_type": "code",
   "execution_count": 849,
   "id": "328eea96-dd9f-462d-89af-661c83e0cd78",
   "metadata": {},
   "outputs": [
    {
     "data": {
      "image/png": "[encoded data removed]",
      "text/plain": [
       "<Figure size 640x480 with 1 Axes>"
      ]
     },
     "metadata": {},
     "output_type": "display_data"
    }
   ],
   "source": [
    "# summarize history for loss\n",
    "plt.plot(history.history['loss'])\n",
    "plt.plot(history.history['val_loss'])\n",
    "plt.title('model loss')\n",
    "\n",
    "plt.show()"
   ]
  },
  {
   "cell_type": "markdown",
   "id": "9cb9e77a",
   "metadata": {
    "id": "9cb9e77a"
   },
   "source": [
    "## Project Questions:\n",
    "\n",
    "1. **Data Preprocessing**: Explain why you chose your specific data preprocessing techniques (e.g., normalization, handling missing values). How did these techniques help prepare the data for training the model?\n",
    "2. **Feature Engineering**: Did you perform any feature engineering or transformations? Describe your decisions and how these new features (or transformed features) contributed to the forecasting model.\n",
    "3. **Model Architecture**: Describe the reasoning behind your model’s architecture (e.g., the type of model, layers, number of neurons, and activation functions). Why did you believe this architecture was appropriate for time series forecasting?\n",
    "4. **Training Process**: Discuss why you chose your batch size, number of epochs, and optimizer. How did these choices affect the training process? Did you experiment with different values, and what were the outcomes?\n",
    "5. **Loss Function and Metrics**: Why did you choose the specific loss function and evaluation metrics (e.g., MAE, RMSE, MAPE)? How do they align with the objective of forecasting?\n",
    "6. **Model Tuning (If Done)**: Describe any tuning you performed (e.g., hyperparameter tuning) and why you felt it was necessary. How did these adjustments improve model performance?\n",
    "7. **Overfitting and Underfitting**: Analyze whether the model encountered any overfitting or underfitting during training. What strategies could you implement to mitigate these issues?\n",
    "8. **Future Improvements**: Suggest potential improvements or further steps you could take to enhance model performance. Consider using different algorithms, feature engineering techniques, or tuning hyperparameters."
   ]
  },
  {
   "cell_type": "markdown",
   "id": "67ba7c70",
   "metadata": {
    "id": "67ba7c70"
   },
   "source": [
    "### Answer Here:"
   ]
  },
  {
   "cell_type": "markdown",
   "id": "33b1f8ce-2624-44ac-ba68-5c763c98f701",
   "metadata": {},
   "source": [
    "1- I check for handling missing values and NaN also before traning the model, when i just handling missing values without work on NaN value the loss when i traning the model is become NaN also so i back again and handel the NaN value also."
   ]
  },
  {
   "cell_type": "markdown",
   "id": "a8969f3a-6ad7-4ad0-b811-73b01247d381",
   "metadata": {},
   "source": [
    "2- Yes, i do feature engineering on the date_time columns i extract three more features from day of the week and months day of the year."
   ]
  },
  {
   "cell_type": "markdown",
   "id": "34782870-7768-479f-b2c8-1f4929f01445",
   "metadata": {},
   "source": [
    "3- In both model LSTM and GRU i work with simple model as frist step to see the result and step by step add more layer based on result that i have."
   ]
  },
  {
   "cell_type": "markdown",
   "id": "5469c940-a86d-4585-b987-b98723c2e821",
   "metadata": {},
   "source": [
    "4- The optimizer is the default adam, for the epochs i try first 10 for both models and then 20 epochs and that give butter result and less number of loss, the batch_size  was 64."
   ]
  },
  {
   "cell_type": "markdown",
   "id": "9ac5a06d-2a38-4f29-8295-e420913183e6",
   "metadata": {},
   "source": [
    "5- The loss and evaluation metrics i use mean_squared_error for both to see the model performance."
   ]
  },
  {
   "cell_type": "markdown",
   "id": "ddce594e-a56e-4dd3-aa1d-4417840221ae",
   "metadata": {},
   "source": [
    "6- I think the model need more improvements since the loss plot does not prefect that much so we can check on the Overfitting and Underfitting or check for the balance of the dataset or increase the model complexity to capture the general patterns and can butter forecasting."
   ]
  }
 ],
 "metadata": {
  "colab": {
   "provenance": []
  },
  "kernelspec": {
   "display_name": "Python 3 (ipykernel)",
   "language": "python",
   "name": "python3"
  },
  "language_info": {
   "codemirror_mode": {
    "name": "ipython",
    "version": 3
   },
   "file_extension": ".py",
   "mimetype": "text/x-python",
   "name": "python",
   "nbconvert_exporter": "python",
   "pygments_lexer": "ipython3",
   "version": "3.12.4"
  }
 },
 "nbformat": 4,
 "nbformat_minor": 5
}
