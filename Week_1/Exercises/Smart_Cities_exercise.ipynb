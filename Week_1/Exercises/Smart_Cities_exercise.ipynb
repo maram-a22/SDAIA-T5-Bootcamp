{
 "cells": [
  {
   "cell_type": "markdown",
   "metadata": {
    "id": "DTb5fVjdGwUl"
   },
   "source": [
    "#Dataset Description"
   ]
  },
  {
   "cell_type": "markdown",
   "metadata": {
    "id": "mSRGDHSbHDeM"
   },
   "source": [
    "\\\n",
    "# Upload Dataset : https://www.kaggle.com/datasets/magdamonteiro/smart-cities-index-datasets\n",
    "\n",
    "## The dataset contains information about Used Cars Price with the following columns:\n",
    "\n",
    "`Id`: Column identifier\n",
    "\n",
    "`City`: List of countries where smart cities across the world are located.\n",
    "\n",
    "`Country`: The location in which the car is being sold or is available for purchase.\n",
    "\n",
    "`Smart_Mobility`: Index calculated from assessment of city-wide Public Transportation System, ICT, accessibility infrastructure..\n",
    "\n",
    "`Smart_Environment`: Index calculated from environmental sustainability impact, monitoring pollution and energy management.\n",
    "\n",
    "`Smart_Government`: Index calculated from comparative study of transparent governance & open data initiatives of smart cities across the\n",
    "\n",
    "`Smart_Economy`: Index calculated through global comparison of city-wide productivity, economic vitality, and support for\n",
    "\n",
    "`Smart_People`: Index calculated by comparing social and cultural plurality, education systems and its supporting ancillary.\n",
    "\n",
    "`Smart_Living`: Index calculated by measuring metric around healthcare services, social security and housing quality.\n",
    "\n",
    "`SmartCity_Index`: Aggregate score for smart city model based on smart city supergroups.\n"
   ]
  },
  {
   "cell_type": "markdown",
   "metadata": {
    "id": "HvI8DzaOJblt"
   },
   "source": [
    "#Tasks"
   ]
  },
  {
   "cell_type": "markdown",
   "metadata": {
    "id": "Nm1AsHp-Jubh"
   },
   "source": [
    "## 1 . Data Cleaning"
   ]
  },
  {
   "cell_type": "markdown",
   "metadata": {
    "id": "dkY4hiBBJ27r"
   },
   "source": [
    "### Read the dataset"
   ]
  },
  {
   "cell_type": "code",
   "execution_count": null,
   "metadata": {
    "id": "yUO5x6tVGm2t"
   },
   "outputs": [],
   "source": []
  },
  {
   "cell_type": "markdown",
   "metadata": {
    "id": "wTr5W6OvKM0X"
   },
   "source": [
    "### Handling Missing Values"
   ]
  },
  {
   "cell_type": "code",
   "execution_count": null,
   "metadata": {
    "id": "gSaC_IDkKTBQ"
   },
   "outputs": [],
   "source": []
  },
  {
   "cell_type": "markdown",
   "metadata": {
    "id": "xBeKdbt4KUkt"
   },
   "source": [
    "### Correct any inconsistent data entries."
   ]
  },
  {
   "cell_type": "code",
   "execution_count": null,
   "metadata": {
    "id": "KlDHE7XKKbyx"
   },
   "outputs": [],
   "source": []
  },
  {
   "cell_type": "markdown",
   "metadata": {
    "id": "vCgItGIxKnNe"
   },
   "source": [
    "### Ensure data types are appropriate for each column.\n",
    "\n",
    "---"
   ]
  },
  {
   "cell_type": "code",
   "execution_count": null,
   "metadata": {
    "id": "An11LcJdKt5l"
   },
   "outputs": [],
   "source": []
  },
  {
   "cell_type": "markdown",
   "metadata": {
    "id": "QE0Ag5O7KurP"
   },
   "source": [
    "## 2. Exploratory Data Analysis (EDA)"
   ]
  },
  {
   "cell_type": "code",
   "execution_count": null,
   "metadata": {
    "id": "BZysHSvdKxPT"
   },
   "outputs": [],
   "source": []
  },
  {
   "cell_type": "markdown",
   "metadata": {
    "id": "XRScEFzNKyHA"
   },
   "source": [
    "### Perform summary statistics on the dataset."
   ]
  },
  {
   "cell_type": "code",
   "execution_count": null,
   "metadata": {
    "id": "SZ4n-Hx_K0t4"
   },
   "outputs": [],
   "source": []
  },
  {
   "cell_type": "markdown",
   "metadata": {
    "id": "zheBK1l2K4yI"
   },
   "source": [
    "### Identify and analyze patterns in the data."
   ]
  },
  {
   "cell_type": "code",
   "execution_count": null,
   "metadata": {
    "id": "Kkxm0COuK5dg"
   },
   "outputs": [],
   "source": []
  },
  {
   "cell_type": "markdown",
   "metadata": {
    "id": "9IOE7kJdK6A6"
   },
   "source": [
    "### Visualize the distribution of key variables."
   ]
  },
  {
   "cell_type": "code",
   "execution_count": null,
   "metadata": {
    "id": "0URyVJ_iK8YD"
   },
   "outputs": [],
   "source": []
  },
  {
   "cell_type": "markdown",
   "metadata": {
    "id": "JTiC1WnxLBDX"
   },
   "source": [
    "### Explore relationships between variables.\n"
   ]
  },
  {
   "cell_type": "code",
   "execution_count": null,
   "metadata": {
    "id": "NAaoLGnxLDlG"
   },
   "outputs": [],
   "source": []
  },
  {
   "cell_type": "code",
   "execution_count": null,
   "metadata": {
    "id": "iH5C2DglLJjR"
   },
   "outputs": [],
   "source": []
  }
 ],
 "metadata": {
  "colab": {
   "provenance": []
  },
  "kernelspec": {
   "display_name": "Python 3",
   "language": "python",
   "name": "python3"
  },
  "language_info": {
   "codemirror_mode": {
    "name": "ipython",
    "version": 3
   },
   "file_extension": ".py",
   "mimetype": "text/x-python",
   "name": "python",
   "nbconvert_exporter": "python",
   "pygments_lexer": "ipython3",
   "version": "3.8.8"
  }
 },
 "nbformat": 4,
 "nbformat_minor": 1
}
