{
  "cells": [
    {
      "cell_type": "markdown",
      "metadata": {
        "_uuid": "2f82cc24efc6283e5a98cadb78fc1a465e44c143",
        "collapsed": true,
        "trusted": true,
        "id": "7Fn6fKd6VUNZ"
      },
      "source": [
        "### Time Series Forecasting using LSTM and GRU\n",
        "In this notebook will use LSTM & GRU for predicting the price of stocks of Google for the year 2017"
      ]
    },
    {
      "cell_type": "markdown",
      "metadata": {
        "id": "s7km-gA1VUNc"
      },
      "source": [
        "## Importing the libraries"
      ]
    },
    {
      "cell_type": "code",
      "source": [
        "from google.colab import drive\n",
        "drive.mount('/content/drive')"
      ],
      "metadata": {
        "colab": {
          "base_uri": "https://localhost:8080/"
        },
        "id": "dLA8Bmg_TFZ1",
        "outputId": "40f265dd-b6ac-4947-bb74-2f3a1adb20d5"
      },
      "execution_count": 1,
      "outputs": [
        {
          "output_type": "stream",
          "name": "stdout",
          "text": [
            "Mounted at /content/drive\n"
          ]
        }
      ]
    },
    {
      "cell_type": "code",
      "source": [
        "import math\n",
        "import numpy as np\n",
        "import matplotlib.pyplot as plt\n",
        "plt.style.use('fivethirtyeight')\n",
        "import pandas as pd\n",
        "from sklearn.preprocessing import MinMaxScaler\n",
        "from keras.models import Sequential\n",
        "from keras.layers import Dense, LSTM, Dropout, GRU\n",
        "from keras.optimizers import SGD\n",
        "from sklearn.metrics import mean_squared_error"
      ],
      "metadata": {
        "id": "xEerVxQrT8ja"
      },
      "execution_count": 2,
      "outputs": []
    },
    {
      "cell_type": "markdown",
      "metadata": {
        "id": "VyVuBBeLVUNh"
      },
      "source": [
        "## Helper Functions for Plotting Predictions and Calculating RMSE"
      ]
    },
    {
      "cell_type": "code",
      "execution_count": 40,
      "metadata": {
        "_uuid": "b288a8e2caf6196daec9cd2bc4ca78fe50345845",
        "trusted": true,
        "id": "Z9y14mAwVUNi"
      },
      "outputs": [],
      "source": [
        "def plot_predictions(test,predicted):\n",
        "    plt.plot(test, color='red',label='Real GOOGL Stock Price')\n",
        "    plt.plot(predicted, color='blue',label='Predicted GOOGL Stock Price')\n",
        "    plt.title('GOOGL Stock Price Prediction')\n",
        "    plt.xlabel('Time')\n",
        "    plt.ylabel('GOOGL Stock Price')\n",
        "    plt.legend()\n",
        "    plt.show()\n",
        "\n",
        "def return_rmse(test,predicted):\n",
        "    rmse = math.sqrt(mean_squared_error(test, predicted))\n",
        "    print(\"The root mean squared error is {}.\".format(rmse))"
      ]
    },
    {
      "cell_type": "markdown",
      "metadata": {
        "id": "9GxWCj_nVUNl"
      },
      "source": [
        "## Getting the data"
      ]
    },
    {
      "cell_type": "markdown",
      "source": [
        "-If there are datetime columns in your CSV file, use the parse_dates parameter when reading CSV file with pandas. This reduces one extra step to convert these columns from string to datetime after reading the file.\n",
        "\n",
        "\n",
        "-index_col: This is to allow you to set which columns to be used as the index of the dataframe. The default value is None, and pandas will add a new column start from 0 to specify the index column. It can be set as a column name or column index."
      ],
      "metadata": {
        "id": "gluRiK97VdAZ"
      }
    },
    {
      "cell_type": "code",
      "execution_count": 4,
      "metadata": {
        "_uuid": "4cf10cf27420eb383b93b15c0895139ea96c0ed3",
        "collapsed": true,
        "trusted": true,
        "id": "P6VWlaDpVUNm",
        "colab": {
          "base_uri": "https://localhost:8080/",
          "height": 450
        },
        "outputId": "e7baea67-acb9-44da-97fa-80f0c18df7c0"
      },
      "outputs": [
        {
          "output_type": "execute_result",
          "data": {
            "text/plain": [
              "               Open     High      Low    Close    Volume   Name\n",
              "Date                                                           \n",
              "2006-01-03   211.47   218.05   209.32   217.83  13137450  GOOGL\n",
              "2006-01-04   222.17   224.70   220.09   222.84  15292353  GOOGL\n",
              "2006-01-05   223.22   226.00   220.97   225.85  10815661  GOOGL\n",
              "2006-01-06   228.66   235.49   226.85   233.06  17759521  GOOGL\n",
              "2006-01-09   233.44   236.94   230.70   233.68  12795837  GOOGL\n",
              "...             ...      ...      ...      ...       ...    ...\n",
              "2017-12-22  1070.00  1071.72  1067.64  1068.86    889446  GOOGL\n",
              "2017-12-26  1068.64  1068.86  1058.64  1065.85    918767  GOOGL\n",
              "2017-12-27  1066.60  1068.27  1058.38  1060.20   1116203  GOOGL\n",
              "2017-12-28  1062.25  1064.84  1053.38  1055.95    994249  GOOGL\n",
              "2017-12-29  1055.49  1058.05  1052.70  1053.40   1180340  GOOGL\n",
              "\n",
              "[3019 rows x 6 columns]"
            ],
            "text/html": [
              "\n",
              "  <div id=\"df-029d8967-4a58-4acc-a41d-6ddc454ed636\" class=\"colab-df-container\">\n",
              "    <div>\n",
              "<style scoped>\n",
              "    .dataframe tbody tr th:only-of-type {\n",
              "        vertical-align: middle;\n",
              "    }\n",
              "\n",
              "    .dataframe tbody tr th {\n",
              "        vertical-align: top;\n",
              "    }\n",
              "\n",
              "    .dataframe thead th {\n",
              "        text-align: right;\n",
              "    }\n",
              "</style>\n",
              "<table border=\"1\" class=\"dataframe\">\n",
              "  <thead>\n",
              "    <tr style=\"text-align: right;\">\n",
              "      <th></th>\n",
              "      <th>Open</th>\n",
              "      <th>High</th>\n",
              "      <th>Low</th>\n",
              "      <th>Close</th>\n",
              "      <th>Volume</th>\n",
              "      <th>Name</th>\n",
              "    </tr>\n",
              "    <tr>\n",
              "      <th>Date</th>\n",
              "      <th></th>\n",
              "      <th></th>\n",
              "      <th></th>\n",
              "      <th></th>\n",
              "      <th></th>\n",
              "      <th></th>\n",
              "    </tr>\n",
              "  </thead>\n",
              "  <tbody>\n",
              "    <tr>\n",
              "      <th>2006-01-03</th>\n",
              "      <td>211.47</td>\n",
              "      <td>218.05</td>\n",
              "      <td>209.32</td>\n",
              "      <td>217.83</td>\n",
              "      <td>13137450</td>\n",
              "      <td>GOOGL</td>\n",
              "    </tr>\n",
              "    <tr>\n",
              "      <th>2006-01-04</th>\n",
              "      <td>222.17</td>\n",
              "      <td>224.70</td>\n",
              "      <td>220.09</td>\n",
              "      <td>222.84</td>\n",
              "      <td>15292353</td>\n",
              "      <td>GOOGL</td>\n",
              "    </tr>\n",
              "    <tr>\n",
              "      <th>2006-01-05</th>\n",
              "      <td>223.22</td>\n",
              "      <td>226.00</td>\n",
              "      <td>220.97</td>\n",
              "      <td>225.85</td>\n",
              "      <td>10815661</td>\n",
              "      <td>GOOGL</td>\n",
              "    </tr>\n",
              "    <tr>\n",
              "      <th>2006-01-06</th>\n",
              "      <td>228.66</td>\n",
              "      <td>235.49</td>\n",
              "      <td>226.85</td>\n",
              "      <td>233.06</td>\n",
              "      <td>17759521</td>\n",
              "      <td>GOOGL</td>\n",
              "    </tr>\n",
              "    <tr>\n",
              "      <th>2006-01-09</th>\n",
              "      <td>233.44</td>\n",
              "      <td>236.94</td>\n",
              "      <td>230.70</td>\n",
              "      <td>233.68</td>\n",
              "      <td>12795837</td>\n",
              "      <td>GOOGL</td>\n",
              "    </tr>\n",
              "    <tr>\n",
              "      <th>...</th>\n",
              "      <td>...</td>\n",
              "      <td>...</td>\n",
              "      <td>...</td>\n",
              "      <td>...</td>\n",
              "      <td>...</td>\n",
              "      <td>...</td>\n",
              "    </tr>\n",
              "    <tr>\n",
              "      <th>2017-12-22</th>\n",
              "      <td>1070.00</td>\n",
              "      <td>1071.72</td>\n",
              "      <td>1067.64</td>\n",
              "      <td>1068.86</td>\n",
              "      <td>889446</td>\n",
              "      <td>GOOGL</td>\n",
              "    </tr>\n",
              "    <tr>\n",
              "      <th>2017-12-26</th>\n",
              "      <td>1068.64</td>\n",
              "      <td>1068.86</td>\n",
              "      <td>1058.64</td>\n",
              "      <td>1065.85</td>\n",
              "      <td>918767</td>\n",
              "      <td>GOOGL</td>\n",
              "    </tr>\n",
              "    <tr>\n",
              "      <th>2017-12-27</th>\n",
              "      <td>1066.60</td>\n",
              "      <td>1068.27</td>\n",
              "      <td>1058.38</td>\n",
              "      <td>1060.20</td>\n",
              "      <td>1116203</td>\n",
              "      <td>GOOGL</td>\n",
              "    </tr>\n",
              "    <tr>\n",
              "      <th>2017-12-28</th>\n",
              "      <td>1062.25</td>\n",
              "      <td>1064.84</td>\n",
              "      <td>1053.38</td>\n",
              "      <td>1055.95</td>\n",
              "      <td>994249</td>\n",
              "      <td>GOOGL</td>\n",
              "    </tr>\n",
              "    <tr>\n",
              "      <th>2017-12-29</th>\n",
              "      <td>1055.49</td>\n",
              "      <td>1058.05</td>\n",
              "      <td>1052.70</td>\n",
              "      <td>1053.40</td>\n",
              "      <td>1180340</td>\n",
              "      <td>GOOGL</td>\n",
              "    </tr>\n",
              "  </tbody>\n",
              "</table>\n",
              "<p>3019 rows × 6 columns</p>\n",
              "</div>\n",
              "    <div class=\"colab-df-buttons\">\n",
              "\n",
              "  <div class=\"colab-df-container\">\n",
              "    <button class=\"colab-df-convert\" onclick=\"convertToInteractive('df-029d8967-4a58-4acc-a41d-6ddc454ed636')\"\n",
              "            title=\"Convert this dataframe to an interactive table.\"\n",
              "            style=\"display:none;\">\n",
              "\n",
              "  <svg xmlns=\"http://www.w3.org/2000/svg\" height=\"24px\" viewBox=\"0 -960 960 960\">\n",
              "    <path d=\"M120-120v-720h720v720H120Zm60-500h600v-160H180v160Zm220 220h160v-160H400v160Zm0 220h160v-160H400v160ZM180-400h160v-160H180v160Zm440 0h160v-160H620v160ZM180-180h160v-160H180v160Zm440 0h160v-160H620v160Z\"/>\n",
              "  </svg>\n",
              "    </button>\n",
              "\n",
              "  <style>\n",
              "    .colab-df-container {\n",
              "      display:flex;\n",
              "      gap: 12px;\n",
              "    }\n",
              "\n",
              "    .colab-df-convert {\n",
              "      background-color: #E8F0FE;\n",
              "      border: none;\n",
              "      border-radius: 50%;\n",
              "      cursor: pointer;\n",
              "      display: none;\n",
              "      fill: #1967D2;\n",
              "      height: 32px;\n",
              "      padding: 0 0 0 0;\n",
              "      width: 32px;\n",
              "    }\n",
              "\n",
              "    .colab-df-convert:hover {\n",
              "      background-color: #E2EBFA;\n",
              "      box-shadow: 0px 1px 2px rgba(60, 64, 67, 0.3), 0px 1px 3px 1px rgba(60, 64, 67, 0.15);\n",
              "      fill: #174EA6;\n",
              "    }\n",
              "\n",
              "    .colab-df-buttons div {\n",
              "      margin-bottom: 4px;\n",
              "    }\n",
              "\n",
              "    [theme=dark] .colab-df-convert {\n",
              "      background-color: #3B4455;\n",
              "      fill: #D2E3FC;\n",
              "    }\n",
              "\n",
              "    [theme=dark] .colab-df-convert:hover {\n",
              "      background-color: #434B5C;\n",
              "      box-shadow: 0px 1px 3px 1px rgba(0, 0, 0, 0.15);\n",
              "      filter: drop-shadow(0px 1px 2px rgba(0, 0, 0, 0.3));\n",
              "      fill: #FFFFFF;\n",
              "    }\n",
              "  </style>\n",
              "\n",
              "    <script>\n",
              "      const buttonEl =\n",
              "        document.querySelector('#df-029d8967-4a58-4acc-a41d-6ddc454ed636 button.colab-df-convert');\n",
              "      buttonEl.style.display =\n",
              "        google.colab.kernel.accessAllowed ? 'block' : 'none';\n",
              "\n",
              "      async function convertToInteractive(key) {\n",
              "        const element = document.querySelector('#df-029d8967-4a58-4acc-a41d-6ddc454ed636');\n",
              "        const dataTable =\n",
              "          await google.colab.kernel.invokeFunction('convertToInteractive',\n",
              "                                                    [key], {});\n",
              "        if (!dataTable) return;\n",
              "\n",
              "        const docLinkHtml = 'Like what you see? Visit the ' +\n",
              "          '<a target=\"_blank\" href=https://colab.research.google.com/notebooks/data_table.ipynb>data table notebook</a>'\n",
              "          + ' to learn more about interactive tables.';\n",
              "        element.innerHTML = '';\n",
              "        dataTable['output_type'] = 'display_data';\n",
              "        await google.colab.output.renderOutput(dataTable, element);\n",
              "        const docLink = document.createElement('div');\n",
              "        docLink.innerHTML = docLinkHtml;\n",
              "        element.appendChild(docLink);\n",
              "      }\n",
              "    </script>\n",
              "  </div>\n",
              "\n",
              "\n",
              "<div id=\"df-f59617ca-72e1-4b31-8d43-a37d0ba21701\">\n",
              "  <button class=\"colab-df-quickchart\" onclick=\"quickchart('df-f59617ca-72e1-4b31-8d43-a37d0ba21701')\"\n",
              "            title=\"Suggest charts\"\n",
              "            style=\"display:none;\">\n",
              "\n",
              "<svg xmlns=\"http://www.w3.org/2000/svg\" height=\"24px\"viewBox=\"0 0 24 24\"\n",
              "     width=\"24px\">\n",
              "    <g>\n",
              "        <path d=\"M19 3H5c-1.1 0-2 .9-2 2v14c0 1.1.9 2 2 2h14c1.1 0 2-.9 2-2V5c0-1.1-.9-2-2-2zM9 17H7v-7h2v7zm4 0h-2V7h2v10zm4 0h-2v-4h2v4z\"/>\n",
              "    </g>\n",
              "</svg>\n",
              "  </button>\n",
              "\n",
              "<style>\n",
              "  .colab-df-quickchart {\n",
              "      --bg-color: #E8F0FE;\n",
              "      --fill-color: #1967D2;\n",
              "      --hover-bg-color: #E2EBFA;\n",
              "      --hover-fill-color: #174EA6;\n",
              "      --disabled-fill-color: #AAA;\n",
              "      --disabled-bg-color: #DDD;\n",
              "  }\n",
              "\n",
              "  [theme=dark] .colab-df-quickchart {\n",
              "      --bg-color: #3B4455;\n",
              "      --fill-color: #D2E3FC;\n",
              "      --hover-bg-color: #434B5C;\n",
              "      --hover-fill-color: #FFFFFF;\n",
              "      --disabled-bg-color: #3B4455;\n",
              "      --disabled-fill-color: #666;\n",
              "  }\n",
              "\n",
              "  .colab-df-quickchart {\n",
              "    background-color: var(--bg-color);\n",
              "    border: none;\n",
              "    border-radius: 50%;\n",
              "    cursor: pointer;\n",
              "    display: none;\n",
              "    fill: var(--fill-color);\n",
              "    height: 32px;\n",
              "    padding: 0;\n",
              "    width: 32px;\n",
              "  }\n",
              "\n",
              "  .colab-df-quickchart:hover {\n",
              "    background-color: var(--hover-bg-color);\n",
              "    box-shadow: 0 1px 2px rgba(60, 64, 67, 0.3), 0 1px 3px 1px rgba(60, 64, 67, 0.15);\n",
              "    fill: var(--button-hover-fill-color);\n",
              "  }\n",
              "\n",
              "  .colab-df-quickchart-complete:disabled,\n",
              "  .colab-df-quickchart-complete:disabled:hover {\n",
              "    background-color: var(--disabled-bg-color);\n",
              "    fill: var(--disabled-fill-color);\n",
              "    box-shadow: none;\n",
              "  }\n",
              "\n",
              "  .colab-df-spinner {\n",
              "    border: 2px solid var(--fill-color);\n",
              "    border-color: transparent;\n",
              "    border-bottom-color: var(--fill-color);\n",
              "    animation:\n",
              "      spin 1s steps(1) infinite;\n",
              "  }\n",
              "\n",
              "  @keyframes spin {\n",
              "    0% {\n",
              "      border-color: transparent;\n",
              "      border-bottom-color: var(--fill-color);\n",
              "      border-left-color: var(--fill-color);\n",
              "    }\n",
              "    20% {\n",
              "      border-color: transparent;\n",
              "      border-left-color: var(--fill-color);\n",
              "      border-top-color: var(--fill-color);\n",
              "    }\n",
              "    30% {\n",
              "      border-color: transparent;\n",
              "      border-left-color: var(--fill-color);\n",
              "      border-top-color: var(--fill-color);\n",
              "      border-right-color: var(--fill-color);\n",
              "    }\n",
              "    40% {\n",
              "      border-color: transparent;\n",
              "      border-right-color: var(--fill-color);\n",
              "      border-top-color: var(--fill-color);\n",
              "    }\n",
              "    60% {\n",
              "      border-color: transparent;\n",
              "      border-right-color: var(--fill-color);\n",
              "    }\n",
              "    80% {\n",
              "      border-color: transparent;\n",
              "      border-right-color: var(--fill-color);\n",
              "      border-bottom-color: var(--fill-color);\n",
              "    }\n",
              "    90% {\n",
              "      border-color: transparent;\n",
              "      border-bottom-color: var(--fill-color);\n",
              "    }\n",
              "  }\n",
              "</style>\n",
              "\n",
              "  <script>\n",
              "    async function quickchart(key) {\n",
              "      const quickchartButtonEl =\n",
              "        document.querySelector('#' + key + ' button');\n",
              "      quickchartButtonEl.disabled = true;  // To prevent multiple clicks.\n",
              "      quickchartButtonEl.classList.add('colab-df-spinner');\n",
              "      try {\n",
              "        const charts = await google.colab.kernel.invokeFunction(\n",
              "            'suggestCharts', [key], {});\n",
              "      } catch (error) {\n",
              "        console.error('Error during call to suggestCharts:', error);\n",
              "      }\n",
              "      quickchartButtonEl.classList.remove('colab-df-spinner');\n",
              "      quickchartButtonEl.classList.add('colab-df-quickchart-complete');\n",
              "    }\n",
              "    (() => {\n",
              "      let quickchartButtonEl =\n",
              "        document.querySelector('#df-f59617ca-72e1-4b31-8d43-a37d0ba21701 button');\n",
              "      quickchartButtonEl.style.display =\n",
              "        google.colab.kernel.accessAllowed ? 'block' : 'none';\n",
              "    })();\n",
              "  </script>\n",
              "</div>\n",
              "\n",
              "  <div id=\"id_d9a3bf07-b708-4384-96ff-a42dbc192d5c\">\n",
              "    <style>\n",
              "      .colab-df-generate {\n",
              "        background-color: #E8F0FE;\n",
              "        border: none;\n",
              "        border-radius: 50%;\n",
              "        cursor: pointer;\n",
              "        display: none;\n",
              "        fill: #1967D2;\n",
              "        height: 32px;\n",
              "        padding: 0 0 0 0;\n",
              "        width: 32px;\n",
              "      }\n",
              "\n",
              "      .colab-df-generate:hover {\n",
              "        background-color: #E2EBFA;\n",
              "        box-shadow: 0px 1px 2px rgba(60, 64, 67, 0.3), 0px 1px 3px 1px rgba(60, 64, 67, 0.15);\n",
              "        fill: #174EA6;\n",
              "      }\n",
              "\n",
              "      [theme=dark] .colab-df-generate {\n",
              "        background-color: #3B4455;\n",
              "        fill: #D2E3FC;\n",
              "      }\n",
              "\n",
              "      [theme=dark] .colab-df-generate:hover {\n",
              "        background-color: #434B5C;\n",
              "        box-shadow: 0px 1px 3px 1px rgba(0, 0, 0, 0.15);\n",
              "        filter: drop-shadow(0px 1px 2px rgba(0, 0, 0, 0.3));\n",
              "        fill: #FFFFFF;\n",
              "      }\n",
              "    </style>\n",
              "    <button class=\"colab-df-generate\" onclick=\"generateWithVariable('dataset')\"\n",
              "            title=\"Generate code using this dataframe.\"\n",
              "            style=\"display:none;\">\n",
              "\n",
              "  <svg xmlns=\"http://www.w3.org/2000/svg\" height=\"24px\"viewBox=\"0 0 24 24\"\n",
              "       width=\"24px\">\n",
              "    <path d=\"M7,19H8.4L18.45,9,17,7.55,7,17.6ZM5,21V16.75L18.45,3.32a2,2,0,0,1,2.83,0l1.4,1.43a1.91,1.91,0,0,1,.58,1.4,1.91,1.91,0,0,1-.58,1.4L9.25,21ZM18.45,9,17,7.55Zm-12,3A5.31,5.31,0,0,0,4.9,8.1,5.31,5.31,0,0,0,1,6.5,5.31,5.31,0,0,0,4.9,4.9,5.31,5.31,0,0,0,6.5,1,5.31,5.31,0,0,0,8.1,4.9,5.31,5.31,0,0,0,12,6.5,5.46,5.46,0,0,0,6.5,12Z\"/>\n",
              "  </svg>\n",
              "    </button>\n",
              "    <script>\n",
              "      (() => {\n",
              "      const buttonEl =\n",
              "        document.querySelector('#id_d9a3bf07-b708-4384-96ff-a42dbc192d5c button.colab-df-generate');\n",
              "      buttonEl.style.display =\n",
              "        google.colab.kernel.accessAllowed ? 'block' : 'none';\n",
              "\n",
              "      buttonEl.onclick = () => {\n",
              "        google.colab.notebook.generateWithVariable('dataset');\n",
              "      }\n",
              "      })();\n",
              "    </script>\n",
              "  </div>\n",
              "\n",
              "    </div>\n",
              "  </div>\n"
            ],
            "application/vnd.google.colaboratory.intrinsic+json": {
              "type": "dataframe",
              "variable_name": "dataset",
              "summary": "{\n  \"name\": \"dataset\",\n  \"rows\": 3019,\n  \"fields\": [\n    {\n      \"column\": \"Date\",\n      \"properties\": {\n        \"dtype\": \"date\",\n        \"min\": \"2006-01-03 00:00:00\",\n        \"max\": \"2017-12-29 00:00:00\",\n        \"num_unique_values\": 3019,\n        \"samples\": [\n          \"2011-08-11 00:00:00\",\n          \"2012-03-20 00:00:00\",\n          \"2006-10-23 00:00:00\"\n        ],\n        \"semantic_type\": \"\",\n        \"description\": \"\"\n      }\n    },\n    {\n      \"column\": \"Open\",\n      \"properties\": {\n        \"dtype\": \"number\",\n        \"std\": 236.3200256326085,\n        \"min\": 131.39,\n        \"max\": 1083.02,\n        \"num_unique_values\": 2880,\n        \"samples\": [\n          349.25,\n          301.71,\n          766.57\n        ],\n        \"semantic_type\": \"\",\n        \"description\": \"\"\n      }\n    },\n    {\n      \"column\": \"High\",\n      \"properties\": {\n        \"dtype\": \"number\",\n        \"std\": 237.51408686940204,\n        \"min\": 134.82,\n        \"max\": 1086.49,\n        \"num_unique_values\": 2855,\n        \"samples\": [\n          383.38,\n          445.95,\n          160.16\n        ],\n        \"semantic_type\": \"\",\n        \"description\": \"\"\n      }\n    },\n    {\n      \"column\": \"Low\",\n      \"properties\": {\n        \"dtype\": \"number\",\n        \"std\": 234.92374721821614,\n        \"min\": 123.77,\n        \"max\": 1072.27,\n        \"num_unique_values\": 2875,\n        \"samples\": [\n          158.83,\n          756.03,\n          259.75\n        ],\n        \"semantic_type\": \"\",\n        \"description\": \"\"\n      }\n    },\n    {\n      \"column\": \"Close\",\n      \"properties\": {\n        \"dtype\": \"number\",\n        \"std\": 236.34323838709707,\n        \"min\": 128.85,\n        \"max\": 1085.09,\n        \"num_unique_values\": 2919,\n        \"samples\": [\n          733.79,\n          750.24,\n          642.0\n        ],\n        \"semantic_type\": \"\",\n        \"description\": \"\"\n      }\n    },\n    {\n      \"column\": \"Volume\",\n      \"properties\": {\n        \"dtype\": \"number\",\n        \"std\": 3038599,\n        \"min\": 521141,\n        \"max\": 41182889,\n        \"num_unique_values\": 3019,\n        \"samples\": [\n          4832119,\n          1540778,\n          15113954\n        ],\n        \"semantic_type\": \"\",\n        \"description\": \"\"\n      }\n    },\n    {\n      \"column\": \"Name\",\n      \"properties\": {\n        \"dtype\": \"category\",\n        \"num_unique_values\": 1,\n        \"samples\": [\n          \"GOOGL\"\n        ],\n        \"semantic_type\": \"\",\n        \"description\": \"\"\n      }\n    }\n  ]\n}"
            }
          },
          "metadata": {},
          "execution_count": 4
        }
      ],
      "source": [
        "# First, we get the data\n",
        "dataset = pd.read_csv('/content/drive/MyDrive/T5 Bootcamp/Dataset/week_5/Copy of GOOGL_2006-01-01_to_2018-01-01.csv', index_col='Date', parse_dates=['Date'])\n",
        "dataset"
      ]
    },
    {
      "cell_type": "code",
      "source": [
        "dataset.shape"
      ],
      "metadata": {
        "colab": {
          "base_uri": "https://localhost:8080/"
        },
        "id": "G_S_WD2OWiwU",
        "outputId": "8d81255b-42c9-4c05-ae01-b77370370baa"
      },
      "execution_count": 10,
      "outputs": [
        {
          "output_type": "execute_result",
          "data": {
            "text/plain": [
              "(3019, 6)"
            ]
          },
          "metadata": {},
          "execution_count": 10
        }
      ]
    },
    {
      "cell_type": "code",
      "source": [
        "dataset.info()"
      ],
      "metadata": {
        "colab": {
          "base_uri": "https://localhost:8080/"
        },
        "id": "XjrBU6Z5WlFf",
        "outputId": "71615caf-1c4c-471b-c1b2-f389c63b5140"
      },
      "execution_count": 11,
      "outputs": [
        {
          "output_type": "stream",
          "name": "stdout",
          "text": [
            "<class 'pandas.core.frame.DataFrame'>\n",
            "DatetimeIndex: 3019 entries, 2006-01-03 to 2017-12-29\n",
            "Data columns (total 6 columns):\n",
            " #   Column  Non-Null Count  Dtype  \n",
            "---  ------  --------------  -----  \n",
            " 0   Open    3019 non-null   float64\n",
            " 1   High    3019 non-null   float64\n",
            " 2   Low     3019 non-null   float64\n",
            " 3   Close   3019 non-null   float64\n",
            " 4   Volume  3019 non-null   int64  \n",
            " 5   Name    3019 non-null   object \n",
            "dtypes: float64(4), int64(1), object(1)\n",
            "memory usage: 229.6+ KB\n"
          ]
        }
      ]
    },
    {
      "cell_type": "markdown",
      "metadata": {
        "id": "B9IVPpHaVUNo"
      },
      "source": [
        "# Slpitting dataset to train set (Before 2017) and test set (2017 and beyond)\n",
        "\n",
        "\n",
        "* iloc: This is a pandas method that stands for \"integer-location based indexing.\" It allows you to select rows and columns by their integer positions (i.e., their index numbers).\n",
        "\n",
        "* : This colon symbol means \"select all rows\" when used in the row position.\n",
        "1:2: This slice selects columns by index. In this case, it selects the column at index 1. The range 1:2 includes the start index (1) but excludes the end index (2), meaning it selects only the column at index 1.\n",
        "\n",
        "* .values: This converts the selected data into a NumPy array, which is a common format for numerical data in Python."
      ]
    },
    {
      "cell_type": "code",
      "execution_count": 5,
      "metadata": {
        "_uuid": "fb4c9db6d8a5bcf20ffad41747cfa5b6215ba220",
        "collapsed": true,
        "trusted": true,
        "id": "FBoOEKZIVUOX"
      },
      "outputs": [],
      "source": [
        "training_set = dataset[ : '2016'].iloc[ : ,1:2].values"
      ]
    },
    {
      "cell_type": "code",
      "source": [
        "training_set"
      ],
      "metadata": {
        "colab": {
          "base_uri": "https://localhost:8080/"
        },
        "collapsed": true,
        "id": "V6Tay8aEWHju",
        "outputId": "4344eeee-44a5-4e11-b9e1-6dbcc1c4c6f9"
      },
      "execution_count": 6,
      "outputs": [
        {
          "output_type": "execute_result",
          "data": {
            "text/plain": [
              "array([[218.05],\n",
              "       [224.7 ],\n",
              "       [226.  ],\n",
              "       ...,\n",
              "       [813.33],\n",
              "       [805.75],\n",
              "       [803.28]])"
            ]
          },
          "metadata": {},
          "execution_count": 6
        }
      ]
    },
    {
      "cell_type": "code",
      "source": [
        "test_set = dataset['2017': ].iloc[ : , 1:2].values"
      ],
      "metadata": {
        "id": "LFlG_oHfWHbW"
      },
      "execution_count": 7,
      "outputs": []
    },
    {
      "cell_type": "code",
      "source": [
        "test_set"
      ],
      "metadata": {
        "colab": {
          "base_uri": "https://localhost:8080/"
        },
        "collapsed": true,
        "id": "O4SDEzWvWHUa",
        "outputId": "6c9f56e5-9fc0-497c-ab10-112311e0d887"
      },
      "execution_count": 8,
      "outputs": [
        {
          "output_type": "execute_result",
          "data": {
            "text/plain": [
              "array([[ 811.44],\n",
              "       [ 813.43],\n",
              "       [ 813.74],\n",
              "       [ 828.96],\n",
              "       [ 830.43],\n",
              "       [ 829.41],\n",
              "       [ 829.9 ],\n",
              "       [ 830.38],\n",
              "       [ 834.65],\n",
              "       [ 830.18],\n",
              "       [ 829.81],\n",
              "       [ 833.  ],\n",
              "       [ 829.24],\n",
              "       [ 845.54],\n",
              "       [ 851.52],\n",
              "       [ 858.79],\n",
              "       [ 861.  ],\n",
              "       [ 867.  ],\n",
              "       [ 837.23],\n",
              "       [ 823.07],\n",
              "       [ 824.  ],\n",
              "       [ 824.56],\n",
              "       [ 826.13],\n",
              "       [ 822.39],\n",
              "       [ 831.92],\n",
              "       [ 834.25],\n",
              "       [ 831.98],\n",
              "       [ 837.15],\n",
              "       [ 841.74],\n",
              "       [ 842.  ],\n",
              "       [ 841.77],\n",
              "       [ 842.69],\n",
              "       [ 846.94],\n",
              "       [ 852.2 ],\n",
              "       [ 853.79],\n",
              "       [ 852.62],\n",
              "       [ 848.36],\n",
              "       [ 850.67],\n",
              "       [ 848.83],\n",
              "       [ 858.  ],\n",
              "       [ 856.49],\n",
              "       [ 850.82],\n",
              "       [ 848.94],\n",
              "       [ 853.33],\n",
              "       [ 856.93],\n",
              "       [ 860.71],\n",
              "       [ 864.23],\n",
              "       [ 867.13],\n",
              "       [ 867.58],\n",
              "       [ 869.88],\n",
              "       [ 872.71],\n",
              "       [ 874.42],\n",
              "       [ 870.34],\n",
              "       [ 873.47],\n",
              "       [ 855.35],\n",
              "       [ 841.69],\n",
              "       [ 844.  ],\n",
              "       [ 841.38],\n",
              "       [ 845.4 ],\n",
              "       [ 851.58],\n",
              "       [ 852.  ],\n",
              "       [ 849.56],\n",
              "       [ 859.  ],\n",
              "       [ 853.  ],\n",
              "       [ 860.59],\n",
              "       [ 853.59],\n",
              "       [ 845.88],\n",
              "       [ 846.74],\n",
              "       [ 844.63],\n",
              "       [ 843.72],\n",
              "       [ 843.73],\n",
              "       [ 855.64],\n",
              "       [ 857.39],\n",
              "       [ 860.2 ],\n",
              "       [ 863.93],\n",
              "       [ 862.44],\n",
              "       [ 879.96],\n",
              "       [ 892.25],\n",
              "       [ 892.99],\n",
              "       [ 893.38],\n",
              "       [ 935.9 ],\n",
              "       [ 935.82],\n",
              "       [ 942.98],\n",
              "       [ 950.2 ],\n",
              "       [ 959.14],\n",
              "       [ 958.44],\n",
              "       [ 960.99],\n",
              "       [ 962.2 ],\n",
              "       [ 956.71],\n",
              "       [ 957.99],\n",
              "       [ 957.98],\n",
              "       [ 962.7 ],\n",
              "       [ 965.9 ],\n",
              "       [ 960.99],\n",
              "       [ 954.18],\n",
              "       [ 959.56],\n",
              "       [ 964.82],\n",
              "       [ 974.51],\n",
              "       [ 978.12],\n",
              "       [ 995.78],\n",
              "       [ 996.39],\n",
              "       [ 997.62],\n",
              "       [ 999.6 ],\n",
              "       [ 993.14],\n",
              "       [ 996.48],\n",
              "       [1007.4 ],\n",
              "       [1008.61],\n",
              "       [1003.91],\n",
              "       [1005.6 ],\n",
              "       [1005.5 ],\n",
              "       [ 968.  ],\n",
              "       [ 977.91],\n",
              "       [ 979.7 ],\n",
              "       [ 960.68],\n",
              "       [ 959.95],\n",
              "       [ 979.3 ],\n",
              "       [ 980.79],\n",
              "       [ 979.67],\n",
              "       [ 980.5 ],\n",
              "       [ 986.62],\n",
              "       [ 993.99],\n",
              "       [ 967.22],\n",
              "       [ 963.24],\n",
              "       [ 951.66],\n",
              "       [ 945.  ],\n",
              "       [ 934.24],\n",
              "       [ 936.29],\n",
              "       [ 936.14],\n",
              "       [ 944.66],\n",
              "       [ 953.13],\n",
              "       [ 954.89],\n",
              "       [ 969.63],\n",
              "       [ 978.7 ],\n",
              "       [ 977.54],\n",
              "       [ 983.35],\n",
              "       [ 990.85],\n",
              "       [ 995.6 ],\n",
              "       [ 998.68],\n",
              "       [ 995.11],\n",
              "       [1006.19],\n",
              "       [ 976.73],\n",
              "       [ 973.95],\n",
              "       [ 969.52],\n",
              "       [ 961.79],\n",
              "       [ 961.19],\n",
              "       [ 954.49],\n",
              "       [ 949.1 ],\n",
              "       [ 950.  ],\n",
              "       [ 947.54],\n",
              "       [ 948.96],\n",
              "       [ 952.49],\n",
              "       [ 943.76],\n",
              "       [ 936.3 ],\n",
              "       [ 933.36],\n",
              "       [ 941.04],\n",
              "       [ 943.07],\n",
              "       [ 949.9 ],\n",
              "       [ 943.81],\n",
              "       [ 931.02],\n",
              "       [ 928.25],\n",
              "       [ 941.96],\n",
              "       [ 945.42],\n",
              "       [ 946.31],\n",
              "       [ 940.73],\n",
              "       [ 934.85],\n",
              "       [ 938.19],\n",
              "       [ 945.86],\n",
              "       [ 957.2 ],\n",
              "       [ 958.33],\n",
              "       [ 951.39],\n",
              "       [ 944.5 ],\n",
              "       [ 950.5 ],\n",
              "       [ 950.7 ],\n",
              "       [ 952.68],\n",
              "       [ 948.08],\n",
              "       [ 952.85],\n",
              "       [ 948.03],\n",
              "       [ 941.75],\n",
              "       [ 936.86],\n",
              "       [ 937.94],\n",
              "       [ 950.  ],\n",
              "       [ 952.8 ],\n",
              "       [ 950.  ],\n",
              "       [ 939.75],\n",
              "       [ 944.08],\n",
              "       [ 965.43],\n",
              "       [ 966.18],\n",
              "       [ 975.81],\n",
              "       [ 977.74],\n",
              "       [ 972.44],\n",
              "       [ 974.4 ],\n",
              "       [ 986.51],\n",
              "       [ 994.26],\n",
              "       [1000.46],\n",
              "       [ 997.47],\n",
              "       [1007.56],\n",
              "       [1011.54],\n",
              "       [1014.76],\n",
              "       [1012.  ],\n",
              "       [1014.56],\n",
              "       [1016.31],\n",
              "       [1007.32],\n",
              "       [1008.65],\n",
              "       [1005.79],\n",
              "       [ 989.26],\n",
              "       [ 994.43],\n",
              "       [1006.51],\n",
              "       [1063.62],\n",
              "       [1039.83],\n",
              "       [1041.  ],\n",
              "       [1047.86],\n",
              "       [1045.52],\n",
              "       [1050.66],\n",
              "       [1052.59],\n",
              "       [1053.41],\n",
              "       [1062.69],\n",
              "       [1050.88],\n",
              "       [1046.63],\n",
              "       [1048.74],\n",
              "       [1042.3 ],\n",
              "       [1039.63],\n",
              "       [1051.76],\n",
              "       [1051.  ],\n",
              "       [1038.7 ],\n",
              "       [1050.39],\n",
              "       [1055.43],\n",
              "       [1060.07],\n",
              "       [1073.04],\n",
              "       [1080.  ],\n",
              "       [1058.77],\n",
              "       [1044.14],\n",
              "       [1037.24],\n",
              "       [1031.34],\n",
              "       [1036.68],\n",
              "       [1039.58],\n",
              "       [1048.92],\n",
              "       [1056.42],\n",
              "       [1056.  ],\n",
              "       [1062.5 ],\n",
              "       [1055.48],\n",
              "       [1067.08],\n",
              "       [1075.25],\n",
              "       [1086.49],\n",
              "       [1084.98],\n",
              "       [1081.24],\n",
              "       [1077.52],\n",
              "       [1071.72],\n",
              "       [1068.86],\n",
              "       [1068.27],\n",
              "       [1064.84],\n",
              "       [1058.05]])"
            ]
          },
          "metadata": {},
          "execution_count": 8
        }
      ]
    },
    {
      "cell_type": "code",
      "source": [
        "training_set.shape, test_set.shape"
      ],
      "metadata": {
        "colab": {
          "base_uri": "https://localhost:8080/"
        },
        "id": "GIyiL3B9WbXV",
        "outputId": "99f85946-d099-43ec-806b-e724afb0f75c"
      },
      "execution_count": 9,
      "outputs": [
        {
          "output_type": "execute_result",
          "data": {
            "text/plain": [
              "((2768, 1), (251, 1))"
            ]
          },
          "metadata": {},
          "execution_count": 9
        }
      ]
    },
    {
      "cell_type": "markdown",
      "metadata": {
        "id": "zu5jLG2wVUOa"
      },
      "source": [
        "Visualizing the data"
      ]
    },
    {
      "cell_type": "code",
      "execution_count": 16,
      "metadata": {
        "_uuid": "bf5a9463d58e73852d2b70be9611e8cf1f4166fd",
        "collapsed": true,
        "trusted": true,
        "id": "ls4KvpxFVUOa",
        "colab": {
          "base_uri": "https://localhost:8080/",
          "height": 373
        },
        "outputId": "d15e4cd4-88a4-4cb6-c060-1e351fbd8bed"
      },
      "outputs": [
        {
          "output_type": "display_data",
          "data": {
            "text/plain": [
              "<Figure size 1600x400 with 1 Axes>"
            ],
            "image/png": "[encoded data removed]"
          },
          "metadata": {}
        }
      ],
      "source": [
        "# We have chosen 'High' attribute for prices.\n",
        "dataset[\"High\"][:'2016'].plot(figsize=(16,4))\n",
        "dataset[\"High\"]['2017':].plot(figsize=(16,4))\n",
        "plt.legend(['Training set (Before 2017)','Test set (2017 and beyond)'])\n",
        "plt.title('GOOGL stock price')\n",
        "plt.show()"
      ]
    },
    {
      "cell_type": "markdown",
      "metadata": {
        "id": "3dyK8beVVUOb"
      },
      "source": [
        "## Data Preprocessing"
      ]
    },
    {
      "cell_type": "markdown",
      "source": [
        "Scaling the training set"
      ],
      "metadata": {
        "id": "fJzLTRtIb_c-"
      }
    },
    {
      "cell_type": "code",
      "execution_count": 17,
      "metadata": {
        "_uuid": "bcc9c36165fc07d258bd5ea87874d2da17fa4a4d",
        "collapsed": true,
        "trusted": true,
        "id": "IiEkLotmVUOc"
      },
      "outputs": [],
      "source": [
        "scaler = MinMaxScaler()\n",
        "training_set_scaled = scaler.fit_transform(training_set)"
      ]
    },
    {
      "cell_type": "code",
      "source": [
        "training_set_scaled # 2D array"
      ],
      "metadata": {
        "colab": {
          "base_uri": "https://localhost:8080/"
        },
        "id": "74xO9s4MbO-o",
        "outputId": "37ce3f24-b5dd-46da-ef1d-b6a5a3d361cc"
      },
      "execution_count": 25,
      "outputs": [
        {
          "output_type": "execute_result",
          "data": {
            "text/plain": [
              "array([[0.11819421],\n",
              "       [0.12763782],\n",
              "       [0.12948394],\n",
              "       ...,\n",
              "       [0.96354625],\n",
              "       [0.95278196],\n",
              "       [0.94927433]])"
            ]
          },
          "metadata": {},
          "execution_count": 25
        }
      ]
    },
    {
      "cell_type": "markdown",
      "source": [
        "Since LSTMs store long term memory state, we create a data structure with 60 timesteps and 1 output. So for each element of training set, we have 60 previous training set elements"
      ],
      "metadata": {
        "id": "2B33pe-YcKK-"
      }
    },
    {
      "cell_type": "code",
      "execution_count": 26,
      "metadata": {
        "_uuid": "fccfb866a2b4c702e0b2742f7c0289512d713d1b",
        "collapsed": true,
        "trusted": true,
        "id": "KGw9rUErVUOd"
      },
      "outputs": [],
      "source": [
        "# These will store the input sequences and corresponding output values for the training data.\n",
        "X_train = []\n",
        "y_train = []\n",
        "\n",
        "for i in range(60,2768):\n",
        "  # This process creates a moving window of 60 time steps that will be used as input for the model.\n",
        "    X_train.append(training_set_scaled[i-60:i,0])\n",
        "  # This value is what the model will try to predict based on the preceding 60 time steps.\n",
        "    y_train.append(training_set_scaled[i,0])\n",
        "\n",
        "  #  The X_train and y_train lists are converted to NumPy arrays. This is necessary most mdels require input data to be in NumPy array format.\n",
        "X_train, y_train = np.array(X_train), np.array(y_train)"
      ]
    },
    {
      "cell_type": "markdown",
      "source": [
        "Reshaping X_train for efficient modelling"
      ],
      "metadata": {
        "id": "ThJlzQnAcUwG"
      }
    },
    {
      "cell_type": "markdown",
      "source": [
        "The np.reshape operation transforms the X_train data into the required format for an RNN/LSTM model. Each sample in X_train becomes a 3D array of shape (samples, time steps, features), which is crucial for the model to correctly interpret and learn from the sequential data."
      ],
      "metadata": {
        "id": "uF0-eXucdP9J"
      }
    },
    {
      "cell_type": "code",
      "execution_count": 27,
      "metadata": {
        "_uuid": "637f699d3c4bde4b783de56ed4dd70a1bf59760d",
        "collapsed": true,
        "trusted": true,
        "id": "C13wjfENVUOd"
      },
      "outputs": [],
      "source": [
        "# X_train.shape == (number_of_samples, time_steps, number_of_features)\n",
        "# X_train.shape == (2708, 60, 1)\n",
        "X_train = np.reshape( X_train,( X_train.shape[0], X_train.shape[1], 1 ) )"
      ]
    },
    {
      "cell_type": "markdown",
      "metadata": {
        "id": "sRydb_OGVUOd"
      },
      "source": [
        "## LSTM Model"
      ]
    },
    {
      "cell_type": "code",
      "execution_count": 28,
      "metadata": {
        "_uuid": "df20eb7e8062dae0a3aff2182aa440faddd0017d",
        "collapsed": true,
        "trusted": true,
        "id": "T9EKvel9VUOe",
        "colab": {
          "base_uri": "https://localhost:8080/"
        },
        "outputId": "30ae44ae-7f80-409e-ce5d-7722432ede76"
      },
      "outputs": [
        {
          "output_type": "stream",
          "name": "stderr",
          "text": [
            "/usr/local/lib/python3.10/dist-packages/keras/src/layers/rnn/rnn.py:204: UserWarning: Do not pass an `input_shape`/`input_dim` argument to a layer. When using Sequential models, prefer using an `Input(shape)` object as the first layer in the model instead.\n",
            "  super().__init__(**kwargs)\n"
          ]
        }
      ],
      "source": [
        "model = Sequential()\n",
        "\n",
        "# First LSTM layer with Dropout regularisation\n",
        "model.add(LSTM(units=50, return_sequences=True, input_shape=(X_train.shape[1], 1) ))\n",
        "\n",
        "# Second LSTM layer\n",
        "model.add(LSTM(units=50, return_sequences=True))\n",
        "model.add(Dropout(0.2))\n",
        "\n",
        "# Third LSTM layer\n",
        "model.add(LSTM(units=50, return_sequences=True))\n",
        "model.add(Dropout(0.2))\n",
        "\n",
        "# Fourth LSTM layer\n",
        "model.add(LSTM(units=50))\n",
        "model.add(Dropout(0.2))\n",
        "\n",
        "# The output layer\n",
        "model.add(Dense(units=1))"
      ]
    },
    {
      "cell_type": "code",
      "source": [
        "model.compile(optimizer='rmsprop', loss='mean_squared_error')"
      ],
      "metadata": {
        "id": "iZXoms3YeQvv"
      },
      "execution_count": 31,
      "outputs": []
    },
    {
      "cell_type": "code",
      "source": [
        "model.fit(X_train, y_train, epochs = 30, batch_size=32)"
      ],
      "metadata": {
        "colab": {
          "base_uri": "https://localhost:8080/"
        },
        "collapsed": true,
        "id": "0aSfsRbeemPq",
        "outputId": "1816ace4-9714-447c-cfd1-8c10ac9d79e3"
      },
      "execution_count": 33,
      "outputs": [
        {
          "output_type": "stream",
          "name": "stdout",
          "text": [
            "Epoch 1/30\n",
            "\u001b[1m85/85\u001b[0m \u001b[32m━━━━━━━━━━━━━━━━━━━━\u001b[0m\u001b[37m\u001b[0m \u001b[1m16s\u001b[0m 113ms/step - loss: 0.0250\n",
            "Epoch 2/30\n",
            "\u001b[1m85/85\u001b[0m \u001b[32m━━━━━━━━━━━━━━━━━━━━\u001b[0m\u001b[37m\u001b[0m \u001b[1m11s\u001b[0m 133ms/step - loss: 0.0073\n",
            "Epoch 3/30\n",
            "\u001b[1m85/85\u001b[0m \u001b[32m━━━━━━━━━━━━━━━━━━━━\u001b[0m\u001b[37m\u001b[0m \u001b[1m19s\u001b[0m 119ms/step - loss: 0.0055\n",
            "Epoch 4/30\n",
            "\u001b[1m85/85\u001b[0m \u001b[32m━━━━━━━━━━━━━━━━━━━━\u001b[0m\u001b[37m\u001b[0m \u001b[1m10s\u001b[0m 121ms/step - loss: 0.0044\n",
            "Epoch 5/30\n",
            "\u001b[1m85/85\u001b[0m \u001b[32m━━━━━━━━━━━━━━━━━━━━\u001b[0m\u001b[37m\u001b[0m \u001b[1m21s\u001b[0m 133ms/step - loss: 0.0037\n",
            "Epoch 6/30\n",
            "\u001b[1m85/85\u001b[0m \u001b[32m━━━━━━━━━━━━━━━━━━━━\u001b[0m\u001b[37m\u001b[0m \u001b[1m20s\u001b[0m 132ms/step - loss: 0.0034\n",
            "Epoch 7/30\n",
            "\u001b[1m85/85\u001b[0m \u001b[32m━━━━━━━━━━━━━━━━━━━━\u001b[0m\u001b[37m\u001b[0m \u001b[1m19s\u001b[0m 116ms/step - loss: 0.0032\n",
            "Epoch 8/30\n",
            "\u001b[1m85/85\u001b[0m \u001b[32m━━━━━━━━━━━━━━━━━━━━\u001b[0m\u001b[37m\u001b[0m \u001b[1m10s\u001b[0m 118ms/step - loss: 0.0028\n",
            "Epoch 9/30\n",
            "\u001b[1m85/85\u001b[0m \u001b[32m━━━━━━━━━━━━━━━━━━━━\u001b[0m\u001b[37m\u001b[0m \u001b[1m11s\u001b[0m 134ms/step - loss: 0.0029\n",
            "Epoch 10/30\n",
            "\u001b[1m85/85\u001b[0m \u001b[32m━━━━━━━━━━━━━━━━━━━━\u001b[0m\u001b[37m\u001b[0m \u001b[1m18s\u001b[0m 108ms/step - loss: 0.0024\n",
            "Epoch 11/30\n",
            "\u001b[1m85/85\u001b[0m \u001b[32m━━━━━━━━━━━━━━━━━━━━\u001b[0m\u001b[37m\u001b[0m \u001b[1m12s\u001b[0m 132ms/step - loss: 0.0023\n",
            "Epoch 12/30\n",
            "\u001b[1m85/85\u001b[0m \u001b[32m━━━━━━━━━━━━━━━━━━━━\u001b[0m\u001b[37m\u001b[0m \u001b[1m19s\u001b[0m 117ms/step - loss: 0.0024\n",
            "Epoch 13/30\n",
            "\u001b[1m85/85\u001b[0m \u001b[32m━━━━━━━━━━━━━━━━━━━━\u001b[0m\u001b[37m\u001b[0m \u001b[1m10s\u001b[0m 119ms/step - loss: 0.0024\n",
            "Epoch 14/30\n",
            "\u001b[1m85/85\u001b[0m \u001b[32m━━━━━━━━━━━━━━━━━━━━\u001b[0m\u001b[37m\u001b[0m \u001b[1m11s\u001b[0m 134ms/step - loss: 0.0022\n",
            "Epoch 15/30\n",
            "\u001b[1m85/85\u001b[0m \u001b[32m━━━━━━━━━━━━━━━━━━━━\u001b[0m\u001b[37m\u001b[0m \u001b[1m18s\u001b[0m 107ms/step - loss: 0.0020\n",
            "Epoch 16/30\n",
            "\u001b[1m85/85\u001b[0m \u001b[32m━━━━━━━━━━━━━━━━━━━━\u001b[0m\u001b[37m\u001b[0m \u001b[1m12s\u001b[0m 132ms/step - loss: 0.0019\n",
            "Epoch 17/30\n",
            "\u001b[1m85/85\u001b[0m \u001b[32m━━━━━━━━━━━━━━━━━━━━\u001b[0m\u001b[37m\u001b[0m \u001b[1m20s\u001b[0m 123ms/step - loss: 0.0020\n",
            "Epoch 18/30\n",
            "\u001b[1m85/85\u001b[0m \u001b[32m━━━━━━━━━━━━━━━━━━━━\u001b[0m\u001b[37m\u001b[0m \u001b[1m21s\u001b[0m 131ms/step - loss: 0.0017\n",
            "Epoch 19/30\n",
            "\u001b[1m85/85\u001b[0m \u001b[32m━━━━━━━━━━━━━━━━━━━━\u001b[0m\u001b[37m\u001b[0m \u001b[1m19s\u001b[0m 114ms/step - loss: 0.0016\n",
            "Epoch 20/30\n",
            "\u001b[1m85/85\u001b[0m \u001b[32m━━━━━━━━━━━━━━━━━━━━\u001b[0m\u001b[37m\u001b[0m \u001b[1m11s\u001b[0m 123ms/step - loss: 0.0016\n",
            "Epoch 21/30\n",
            "\u001b[1m85/85\u001b[0m \u001b[32m━━━━━━━━━━━━━━━━━━━━\u001b[0m\u001b[37m\u001b[0m \u001b[1m21s\u001b[0m 132ms/step - loss: 0.0018\n",
            "Epoch 22/30\n",
            "\u001b[1m85/85\u001b[0m \u001b[32m━━━━━━━━━━━━━━━━━━━━\u001b[0m\u001b[37m\u001b[0m \u001b[1m28s\u001b[0m 218ms/step - loss: 0.0017\n",
            "Epoch 23/30\n",
            "\u001b[1m85/85\u001b[0m \u001b[32m━━━━━━━━━━━━━━━━━━━━\u001b[0m\u001b[37m\u001b[0m \u001b[1m16s\u001b[0m 170ms/step - loss: 0.0016\n",
            "Epoch 24/30\n",
            "\u001b[1m85/85\u001b[0m \u001b[32m━━━━━━━━━━━━━━━━━━━━\u001b[0m\u001b[37m\u001b[0m \u001b[1m17s\u001b[0m 133ms/step - loss: 0.0016\n",
            "Epoch 25/30\n",
            "\u001b[1m85/85\u001b[0m \u001b[32m━━━━━━━━━━━━━━━━━━━━\u001b[0m\u001b[37m\u001b[0m \u001b[1m20s\u001b[0m 126ms/step - loss: 0.0017\n",
            "Epoch 26/30\n",
            "\u001b[1m85/85\u001b[0m \u001b[32m━━━━━━━━━━━━━━━━━━━━\u001b[0m\u001b[37m\u001b[0m \u001b[1m21s\u001b[0m 129ms/step - loss: 0.0015\n",
            "Epoch 27/30\n",
            "\u001b[1m85/85\u001b[0m \u001b[32m━━━━━━━━━━━━━━━━━━━━\u001b[0m\u001b[37m\u001b[0m \u001b[1m22s\u001b[0m 148ms/step - loss: 0.0014\n",
            "Epoch 28/30\n",
            "\u001b[1m85/85\u001b[0m \u001b[32m━━━━━━━━━━━━━━━━━━━━\u001b[0m\u001b[37m\u001b[0m \u001b[1m12s\u001b[0m 136ms/step - loss: 0.0015\n",
            "Epoch 29/30\n",
            "\u001b[1m85/85\u001b[0m \u001b[32m━━━━━━━━━━━━━━━━━━━━\u001b[0m\u001b[37m\u001b[0m \u001b[1m26s\u001b[0m 206ms/step - loss: 0.0016\n",
            "Epoch 30/30\n",
            "\u001b[1m85/85\u001b[0m \u001b[32m━━━━━━━━━━━━━━━━━━━━\u001b[0m\u001b[37m\u001b[0m \u001b[1m15s\u001b[0m 138ms/step - loss: 0.0016\n"
          ]
        },
        {
          "output_type": "execute_result",
          "data": {
            "text/plain": [
              "<keras.src.callbacks.history.History at 0x7d3de10b1300>"
            ]
          },
          "metadata": {},
          "execution_count": 33
        }
      ]
    },
    {
      "cell_type": "markdown",
      "metadata": {
        "id": "0Rk7DFBEVUOf"
      },
      "source": [
        "\n",
        "## Make preductuion with LSTM model"
      ]
    },
    {
      "cell_type": "markdown",
      "source": [
        "* Now to get the test set ready in a similar way as the training set.\n",
        "* The following has been done so forst 60 entires of test set have 60 previous values which is impossible to get unless we take the whole\n",
        "* 'High' attribute data for processing\n",
        "\n",
        "\n",
        "\n",
        "dataset_total: Combines the training and test data for the High prices.\n",
        "inputs: Extracts the last 60 entries before the test set and the test set itself, reshapes, and scales them to prepare for model input. This setup allows the model to have the necessary historical context to make predictions on the test data."
      ],
      "metadata": {
        "id": "P6wEILrDgIwW"
      }
    },
    {
      "cell_type": "code",
      "execution_count": 34,
      "metadata": {
        "_uuid": "326fa85615622feb484cc4c848edeec6f7133913",
        "collapsed": true,
        "trusted": true,
        "id": "X1n0ZICGVUOf"
      },
      "outputs": [],
      "source": [
        "dataset_total = pd.concat((dataset[\"High\"][:'2016'],dataset[\"High\"]['2017':]),axis=0)\n",
        "inputs = dataset_total[len(dataset_total)-len(test_set) - 60:].values\n",
        "inputs = inputs.reshape(-1,1)\n",
        "inputs  = scaler.transform(inputs)"
      ]
    },
    {
      "cell_type": "markdown",
      "source": [
        "# Preparing X_test and predicting the prices"
      ],
      "metadata": {
        "id": "JlziiRwRg5Nv"
      }
    },
    {
      "cell_type": "code",
      "execution_count": 48,
      "metadata": {
        "_uuid": "435b8024814939ac4fbd372baa0cd8cfc78f80bc",
        "collapsed": true,
        "trusted": true,
        "id": "8-TNoTFbVUOg"
      },
      "outputs": [],
      "source": [
        "X_test = []\n",
        "\n",
        "for i in range(60,len(inputs)): # we can write 311 insted of len(inputs)\n",
        "    X_test.append(inputs[i-60:i,0])\n",
        "\n",
        "X_test = np.array(X_test)"
      ]
    },
    {
      "cell_type": "code",
      "source": [
        "X_test = np.reshape(X_test, (X_test.shape[0],X_test.shape[1],1))"
      ],
      "metadata": {
        "id": "kKJWh8o8hCkN"
      },
      "execution_count": 49,
      "outputs": []
    },
    {
      "cell_type": "code",
      "source": [
        "predicted_stock_price = model.predict(X_test)\n",
        "predicted_stock_price = scaler.inverse_transform(predicted_stock_price)"
      ],
      "metadata": {
        "colab": {
          "base_uri": "https://localhost:8080/"
        },
        "id": "6vUsK9pMhEwF",
        "outputId": "f5d1f5f6-34ae-4854-cae5-936baa229340"
      },
      "execution_count": 50,
      "outputs": [
        {
          "output_type": "stream",
          "name": "stdout",
          "text": [
            "\u001b[1m8/8\u001b[0m \u001b[32m━━━━━━━━━━━━━━━━━━━━\u001b[0m\u001b[37m\u001b[0m \u001b[1m0s\u001b[0m 32ms/step\n"
          ]
        }
      ]
    },
    {
      "cell_type": "markdown",
      "metadata": {
        "id": "zmww64vVVUOg"
      },
      "source": [
        "# Visualizing the results for LSTM\n"
      ]
    },
    {
      "cell_type": "code",
      "execution_count": 51,
      "metadata": {
        "_uuid": "b774a8e79e53eac89694cafef6b11aa99226b95f",
        "collapsed": true,
        "scrolled": false,
        "trusted": true,
        "id": "3TSxgXS2VUOg",
        "colab": {
          "base_uri": "https://localhost:8080/",
          "height": 508
        },
        "outputId": "4b6c42b0-90cd-4125-b744-1ed46b2671b7"
      },
      "outputs": [
        {
          "output_type": "display_data",
          "data": {
            "text/plain": [
              "<Figure size 640x480 with 1 Axes>"
            ],
            "image/png": "[encoded data removed]"
          },
          "metadata": {}
        }
      ],
      "source": [
        "plot_predictions(test_set,predicted_stock_price)"
      ]
    },
    {
      "cell_type": "markdown",
      "metadata": {
        "id": "sNCJ2JgBVUOh"
      },
      "source": [
        "Evaluating LSMT Model"
      ]
    },
    {
      "cell_type": "code",
      "execution_count": 52,
      "metadata": {
        "_uuid": "f6f6db0b6e1f17ac63c06ce49856873d98ba5f00",
        "collapsed": true,
        "trusted": true,
        "id": "nOf3G3QKVUOh",
        "colab": {
          "base_uri": "https://localhost:8080/"
        },
        "outputId": "c08fdd98-5104-4ab2-cc3b-dab8a1c19b02"
      },
      "outputs": [
        {
          "output_type": "stream",
          "name": "stdout",
          "text": [
            "The root mean squared error is 28.649336292696077.\n"
          ]
        }
      ],
      "source": [
        "return_rmse(test_set,predicted_stock_price)"
      ]
    },
    {
      "cell_type": "markdown",
      "metadata": {
        "id": "kIbYes_TVUOi"
      },
      "source": [
        "## GRU Model"
      ]
    },
    {
      "cell_type": "code",
      "execution_count": 53,
      "metadata": {
        "_uuid": "e9b616c5112d707d16cc4b277007e286cffd58f6",
        "collapsed": true,
        "trusted": true,
        "id": "4gjhbceiVUOi",
        "colab": {
          "base_uri": "https://localhost:8080/"
        },
        "outputId": "c7ba4518-4661-4c19-ee99-f70fa9f2789c"
      },
      "outputs": [
        {
          "output_type": "stream",
          "name": "stdout",
          "text": [
            "Epoch 1/10\n"
          ]
        },
        {
          "output_type": "stream",
          "name": "stderr",
          "text": [
            "/usr/local/lib/python3.10/dist-packages/keras/src/layers/rnn/rnn.py:204: UserWarning: Do not pass an `input_shape`/`input_dim` argument to a layer. When using Sequential models, prefer using an `Input(shape)` object as the first layer in the model instead.\n",
            "  super().__init__(**kwargs)\n",
            "/usr/local/lib/python3.10/dist-packages/keras/src/optimizers/base_optimizer.py:33: UserWarning: Argument `decay` is no longer supported and will be ignored.\n",
            "  warnings.warn(\n"
          ]
        },
        {
          "output_type": "stream",
          "name": "stdout",
          "text": [
            "\u001b[1m19/19\u001b[0m \u001b[32m━━━━━━━━━━━━━━━━━━━━\u001b[0m\u001b[37m\u001b[0m \u001b[1m17s\u001b[0m 540ms/step - loss: 0.0939\n",
            "Epoch 2/10\n",
            "\u001b[1m19/19\u001b[0m \u001b[32m━━━━━━━━━━━━━━━━━━━━\u001b[0m\u001b[37m\u001b[0m \u001b[1m6s\u001b[0m 298ms/step - loss: 0.0211\n",
            "Epoch 3/10\n",
            "\u001b[1m19/19\u001b[0m \u001b[32m━━━━━━━━━━━━━━━━━━━━\u001b[0m\u001b[37m\u001b[0m \u001b[1m11s\u001b[0m 573ms/step - loss: 0.0047\n",
            "Epoch 4/10\n",
            "\u001b[1m19/19\u001b[0m \u001b[32m━━━━━━━━━━━━━━━━━━━━\u001b[0m\u001b[37m\u001b[0m \u001b[1m15s\u001b[0m 297ms/step - loss: 0.0037\n",
            "Epoch 5/10\n",
            "\u001b[1m19/19\u001b[0m \u001b[32m━━━━━━━━━━━━━━━━━━━━\u001b[0m\u001b[37m\u001b[0m \u001b[1m8s\u001b[0m 427ms/step - loss: 0.0031\n",
            "Epoch 6/10\n",
            "\u001b[1m19/19\u001b[0m \u001b[32m━━━━━━━━━━━━━━━━━━━━\u001b[0m\u001b[37m\u001b[0m \u001b[1m7s\u001b[0m 273ms/step - loss: 0.0029\n",
            "Epoch 7/10\n",
            "\u001b[1m19/19\u001b[0m \u001b[32m━━━━━━━━━━━━━━━━━━━━\u001b[0m\u001b[37m\u001b[0m \u001b[1m11s\u001b[0m 304ms/step - loss: 0.0028\n",
            "Epoch 8/10\n",
            "\u001b[1m19/19\u001b[0m \u001b[32m━━━━━━━━━━━━━━━━━━━━\u001b[0m\u001b[37m\u001b[0m \u001b[1m12s\u001b[0m 422ms/step - loss: 0.0023\n",
            "Epoch 9/10\n",
            "\u001b[1m19/19\u001b[0m \u001b[32m━━━━━━━━━━━━━━━━━━━━\u001b[0m\u001b[37m\u001b[0m \u001b[1m8s\u001b[0m 276ms/step - loss: 0.0026\n",
            "Epoch 10/10\n",
            "\u001b[1m19/19\u001b[0m \u001b[32m━━━━━━━━━━━━━━━━━━━━\u001b[0m\u001b[37m\u001b[0m \u001b[1m8s\u001b[0m 411ms/step - loss: 0.0026\n"
          ]
        },
        {
          "output_type": "execute_result",
          "data": {
            "text/plain": [
              "<keras.src.callbacks.history.History at 0x7d3de5ac9e40>"
            ]
          },
          "metadata": {},
          "execution_count": 53
        }
      ],
      "source": [
        "# The GRU architecture\n",
        "regressorGRU = Sequential()\n",
        "\n",
        "# First GRU layer with Dropout regularisation\n",
        "regressorGRU.add(GRU(units=50, return_sequences=True, input_shape=(X_train.shape[1],1), activation='tanh'))\n",
        "regressorGRU.add(Dropout(0.2))\n",
        "\n",
        "# Second GRU layer\n",
        "regressorGRU.add(GRU(units=50, return_sequences=True, input_shape=(X_train.shape[1],1), activation='tanh'))\n",
        "regressorGRU.add(Dropout(0.2))\n",
        "\n",
        "# Third GRU layer\n",
        "regressorGRU.add(GRU(units=50, return_sequences=True, input_shape=(X_train.shape[1],1), activation='tanh'))\n",
        "regressorGRU.add(Dropout(0.2))\n",
        "\n",
        "# Fourth GRU layer\n",
        "regressorGRU.add(GRU(units=50, activation='tanh'))\n",
        "regressorGRU.add(Dropout(0.2))\n",
        "\n",
        "# The output layer\n",
        "regressorGRU.add(Dense(units=1))\n",
        "\n",
        "# Compiling the RNN\n",
        "regressorGRU.compile(optimizer=SGD(learning_rate=0.01, decay=1e-7, momentum=0.9, nesterov=False),loss='mean_squared_error')\n",
        "# Fitting to the training set\n",
        "regressorGRU.fit(X_train,y_train,epochs=10,batch_size=150)"
      ]
    },
    {
      "cell_type": "markdown",
      "metadata": {
        "id": "i7cCLetTVUOj"
      },
      "source": [
        "\n",
        "## Make preductuion with GRU model"
      ]
    },
    {
      "cell_type": "code",
      "execution_count": 57,
      "metadata": {
        "_uuid": "f20ca021ea3ce05f6c6a98db93775f1b2c9c022c",
        "trusted": true,
        "id": "HJbZz461VUOj",
        "colab": {
          "base_uri": "https://localhost:8080/"
        },
        "outputId": "41951390-edf3-48c4-f347-600317c6f14a"
      },
      "outputs": [
        {
          "output_type": "stream",
          "name": "stdout",
          "text": [
            "\u001b[1m8/8\u001b[0m \u001b[32m━━━━━━━━━━━━━━━━━━━━\u001b[0m\u001b[37m\u001b[0m \u001b[1m0s\u001b[0m 31ms/step\n"
          ]
        }
      ],
      "source": [
        "# Preparing X_test and predicting the prices\n",
        "X_test = []\n",
        "for i in range(60,311):\n",
        "    X_test.append(inputs[i-60:i,0])\n",
        "X_test = np.array(X_test)\n",
        "X_test = np.reshape(X_test, (X_test.shape[0],X_test.shape[1],1))\n",
        "GRU_predicted_stock_price = regressorGRU.predict(X_test)\n",
        "GRU_predicted_stock_price = scaler.inverse_transform(GRU_predicted_stock_price)"
      ]
    },
    {
      "cell_type": "markdown",
      "metadata": {
        "id": "KO7BlRmoVUOk"
      },
      "source": [
        "Visualizing the Results"
      ]
    },
    {
      "cell_type": "code",
      "execution_count": 58,
      "metadata": {
        "_uuid": "da8e9fa28510aa03e7dd06d5070d7b16e05ebb6e",
        "collapsed": true,
        "trusted": true,
        "id": "PyA_K9BJVUOk",
        "colab": {
          "base_uri": "https://localhost:8080/",
          "height": 508
        },
        "outputId": "fffe0163-5b18-421b-c1cf-180385a75164"
      },
      "outputs": [
        {
          "output_type": "display_data",
          "data": {
            "text/plain": [
              "<Figure size 640x480 with 1 Axes>"
            ],
            "image/png": "[encoded data removed]"
          },
          "metadata": {}
        }
      ],
      "source": [
        "plot_predictions(test_set,GRU_predicted_stock_price)"
      ]
    },
    {
      "cell_type": "markdown",
      "metadata": {
        "id": "HZPQ15k0VUOm"
      },
      "source": [
        "Evaluating GRU Model"
      ]
    },
    {
      "cell_type": "code",
      "execution_count": 56,
      "metadata": {
        "_uuid": "23aec5ab1a717e3458c8d5cae68db0e7add091ae",
        "collapsed": true,
        "trusted": true,
        "id": "Xje0LJWqVUOm",
        "colab": {
          "base_uri": "https://localhost:8080/"
        },
        "outputId": "77eb24d1-6a51-41a9-b6aa-33d245655429"
      },
      "outputs": [
        {
          "output_type": "stream",
          "name": "stdout",
          "text": [
            "The root mean squared error is 947.2003438273388.\n"
          ]
        }
      ],
      "source": [
        "return_rmse(test_set,GRU_predicted_stock_price)"
      ]
    }
  ],
  "metadata": {
    "kernelspec": {
      "display_name": "Python 3",
      "language": "python",
      "name": "python3"
    },
    "language_info": {
      "codemirror_mode": {
        "name": "ipython",
        "version": 3
      },
      "file_extension": ".py",
      "mimetype": "text/x-python",
      "name": "python",
      "nbconvert_exporter": "python",
      "pygments_lexer": "ipython3",
      "version": "3.6.6"
    },
    "colab": {
      "provenance": []
    }
  },
  "nbformat": 4,
  "nbformat_minor": 0
}