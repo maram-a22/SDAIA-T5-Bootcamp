{
  "cells": [
    {
      "cell_type": "markdown",
      "id": "cb8aaa37",
      "metadata": {
        "id": "cb8aaa37"
      },
      "source": [
        "# Building an ANN with the Iris Dataset\n",
        "    \n",
        "    ## Introduction\n",
        "    Artificial Neural Networks (ANNs) are a cornerstone of modern machine learning. In this lab, you will construct a simple ANN to classify iris plants into one of three species based on the length and width of their sepals and petals. This exercise will help you understand the basics of neural networks, including their architecture, activation functions, and the backpropagation algorithm for training.\n",
        "\n",
        "    ## Dataset Reference\n",
        "    The Iris dataset was introduced by the British statistician and biologist Ronald Fisher in 1936. It is widely used as a beginner's dataset for machine learning classification problems. You can access this dataset via the `sklearn.datasets` module.\n",
        "    "
      ]
    },
    {
      "cell_type": "code",
      "source": [
        "from google.colab import drive\n",
        "drive.mount('/content/drive')"
      ],
      "metadata": {
        "id": "Yf1qH-rtZkxU",
        "outputId": "f814ebb6-5b59-4e23-86ad-e1b71b912915",
        "colab": {
          "base_uri": "https://localhost:8080/"
        }
      },
      "id": "Yf1qH-rtZkxU",
      "execution_count": 23,
      "outputs": [
        {
          "output_type": "stream",
          "name": "stdout",
          "text": [
            "Drive already mounted at /content/drive; to attempt to forcibly remount, call drive.mount(\"/content/drive\", force_remount=True).\n"
          ]
        }
      ]
    },
    {
      "cell_type": "code",
      "source": [
        "import pandas as pd\n",
        "import numpy as np\n",
        "import matplotlib.pyplot as plt\n",
        "from sklearn.datasets import load_iris\n",
        "from sklearn.model_selection import train_test_split\n",
        "from tensorflow.keras.models import Sequential\n",
        "from tensorflow.keras.layers import Dense\n",
        "from tensorflow.keras.optimizers import Adam\n",
        "from sklearn.preprocessing import OneHotEncoder, LabelEncoder, StandardScaler\n",
        "import matplotlib.pyplot as plt\n",
        "import tensorflow as tf\n",
        "import seaborn as sns\n",
        "from sklearn.metrics import accuracy_score, precision_score, recall_score, f1_score, confusion_matrix, classification_report, ConfusionMatrixDisplay"
      ],
      "metadata": {
        "id": "VjORH0MoZbfc"
      },
      "id": "VjORH0MoZbfc",
      "execution_count": 24,
      "outputs": []
    },
    {
      "cell_type": "markdown",
      "id": "9fca486d",
      "metadata": {
        "id": "9fca486d"
      },
      "source": [
        "## Part 1: Load and Explore the Data\n",
        "    ### Load the Dataset\n",
        "    **Hint**: Use `sklearn.datasets.load_iris()` to load the Iris dataset into your environment.\n",
        "\n",
        "    ### Explore the Data\n",
        "    **Hint**: Use `pandas` to examine the first few rows of the dataset and `matplotlib` or `seaborn` to visualize the feature distributions.\n",
        "    "
      ]
    },
    {
      "cell_type": "code",
      "source": [
        "iris = load_iris()"
      ],
      "metadata": {
        "id": "fcwEyXuzaMQR"
      },
      "id": "fcwEyXuzaMQR",
      "execution_count": 25,
      "outputs": []
    },
    {
      "cell_type": "code",
      "source": [
        "X = iris.data\n",
        "y = iris.target"
      ],
      "metadata": {
        "id": "FpIpXOPwaR2y"
      },
      "id": "FpIpXOPwaR2y",
      "execution_count": 26,
      "outputs": []
    },
    {
      "cell_type": "markdown",
      "id": "19dc3fd6",
      "metadata": {
        "id": "19dc3fd6"
      },
      "source": [
        "## Part 2: Prepare the Data\n",
        "    ### Split the Data into Training and Test Sets\n",
        "    **Hint**: Use `train_test_split` from `sklearn.model_selection` to divide the data into training and test sets.\n",
        "\n",
        "    ### Scale the Features\n",
        "    **Hint**: Standardize the features using `StandardScaler` from `sklearn.preprocessing`.\n",
        "    "
      ]
    },
    {
      "cell_type": "code",
      "source": [
        "X_train, X_test, y_train, y_test = train_test_split(X, y, test_size=0.2, random_state=42)"
      ],
      "metadata": {
        "id": "eb5DuO_naf4N"
      },
      "id": "eb5DuO_naf4N",
      "execution_count": 27,
      "outputs": []
    },
    {
      "cell_type": "code",
      "source": [
        "scaler = StandardScaler()\n",
        "X_train = scaler.fit_transform(X_train)\n",
        "X_test = scaler.transform(X_test)"
      ],
      "metadata": {
        "id": "4f-eBh4pafyw"
      },
      "id": "4f-eBh4pafyw",
      "execution_count": 28,
      "outputs": []
    },
    {
      "cell_type": "markdown",
      "id": "166c4101",
      "metadata": {
        "id": "166c4101"
      },
      "source": [
        "## Part 3: Build the ANN Model\n",
        "    ### Define the Model\n",
        "    **Hint**: Use `keras` to define a sequential model. Start with a single hidden layer with a ReLU activation function.\n",
        "\n",
        "    ### Compile the Model\n",
        "    **Hint**: Compile your model specifying an optimizer and loss function appropriate for classification.\n",
        "    "
      ]
    },
    {
      "cell_type": "code",
      "source": [
        "# One-hot encode the target variable\n",
        "encoder = OneHotEncoder(sparse=False)\n",
        "y_train_encoded = encoder.fit_transform(y_train.reshape(-1, 1))\n",
        "y_test_encoded = encoder.transform(y_test.reshape(-1, 1))"
      ],
      "metadata": {
        "id": "ghA7CgZTe-oi",
        "outputId": "100875a8-e2ad-4bfa-d338-4c933a7c5550",
        "colab": {
          "base_uri": "https://localhost:8080/"
        }
      },
      "id": "ghA7CgZTe-oi",
      "execution_count": 29,
      "outputs": [
        {
          "output_type": "stream",
          "name": "stderr",
          "text": [
            "/usr/local/lib/python3.10/dist-packages/sklearn/preprocessing/_encoders.py:975: FutureWarning: `sparse` was renamed to `sparse_output` in version 1.2 and will be removed in 1.4. `sparse_output` is ignored unless you leave `sparse` to its default value.\n",
            "  warnings.warn(\n"
          ]
        }
      ]
    },
    {
      "cell_type": "code",
      "source": [
        "# Build the model\n",
        "\n",
        "model = Sequential()\n",
        "\n",
        "# Build the model\n",
        "model = Sequential()\n",
        "model.add(Dense(6, input_shape=(4,), activation='relu', name='fc1'))\n",
        "model.add(Dense(6, activation='relu', name='fc2'))\n",
        "model.add(Dense(3, activation='softmax', name='output'))\n",
        "\n",
        "\n",
        "\n",
        "# Compile the model with categorical crossentropy loss\n",
        "model.compile(optimizer='adam', loss='categorical_crossentropy', metrics=['accuracy'])\n",
        "\n",
        "model.summary()"
      ],
      "metadata": {
        "id": "vBhXz50JasOv",
        "outputId": "78cf2687-390b-4215-d0fe-7caff4a9e65a",
        "colab": {
          "base_uri": "https://localhost:8080/",
          "height": 279
        }
      },
      "id": "vBhXz50JasOv",
      "execution_count": 30,
      "outputs": [
        {
          "output_type": "stream",
          "name": "stderr",
          "text": [
            "/usr/local/lib/python3.10/dist-packages/keras/src/layers/core/dense.py:87: UserWarning: Do not pass an `input_shape`/`input_dim` argument to a layer. When using Sequential models, prefer using an `Input(shape)` object as the first layer in the model instead.\n",
            "  super().__init__(activity_regularizer=activity_regularizer, **kwargs)\n"
          ]
        },
        {
          "output_type": "display_data",
          "data": {
            "text/plain": [
              "\u001b[1mModel: \"sequential_5\"\u001b[0m\n"
            ],
            "text/html": [
              "<pre style=\"white-space:pre;overflow-x:auto;line-height:normal;font-family:Menlo,'DejaVu Sans Mono',consolas,'Courier New',monospace\"><span style=\"font-weight: bold\">Model: \"sequential_5\"</span>\n",
              "</pre>\n"
            ]
          },
          "metadata": {}
        },
        {
          "output_type": "display_data",
          "data": {
            "text/plain": [
              "┏━━━━━━━━━━━━━━━━━━━━━━━━━━━━━━━━━━━━━━┳━━━━━━━━━━━━━━━━━━━━━━━━━━━━━┳━━━━━━━━━━━━━━━━━┓\n",
              "┃\u001b[1m \u001b[0m\u001b[1mLayer (type)                        \u001b[0m\u001b[1m \u001b[0m┃\u001b[1m \u001b[0m\u001b[1mOutput Shape               \u001b[0m\u001b[1m \u001b[0m┃\u001b[1m \u001b[0m\u001b[1m        Param #\u001b[0m\u001b[1m \u001b[0m┃\n",
              "┡━━━━━━━━━━━━━━━━━━━━━━━━━━━━━━━━━━━━━━╇━━━━━━━━━━━━━━━━━━━━━━━━━━━━━╇━━━━━━━━━━━━━━━━━┩\n",
              "│ fc1 (\u001b[38;5;33mDense\u001b[0m)                          │ (\u001b[38;5;45mNone\u001b[0m, \u001b[38;5;34m6\u001b[0m)                   │              \u001b[38;5;34m30\u001b[0m │\n",
              "├──────────────────────────────────────┼─────────────────────────────┼─────────────────┤\n",
              "│ fc2 (\u001b[38;5;33mDense\u001b[0m)                          │ (\u001b[38;5;45mNone\u001b[0m, \u001b[38;5;34m6\u001b[0m)                   │              \u001b[38;5;34m42\u001b[0m │\n",
              "├──────────────────────────────────────┼─────────────────────────────┼─────────────────┤\n",
              "│ output (\u001b[38;5;33mDense\u001b[0m)                       │ (\u001b[38;5;45mNone\u001b[0m, \u001b[38;5;34m3\u001b[0m)                   │              \u001b[38;5;34m21\u001b[0m │\n",
              "└──────────────────────────────────────┴─────────────────────────────┴─────────────────┘\n"
            ],
            "text/html": [
              "<pre style=\"white-space:pre;overflow-x:auto;line-height:normal;font-family:Menlo,'DejaVu Sans Mono',consolas,'Courier New',monospace\">┏━━━━━━━━━━━━━━━━━━━━━━━━━━━━━━━━━━━━━━┳━━━━━━━━━━━━━━━━━━━━━━━━━━━━━┳━━━━━━━━━━━━━━━━━┓\n",
              "┃<span style=\"font-weight: bold\"> Layer (type)                         </span>┃<span style=\"font-weight: bold\"> Output Shape                </span>┃<span style=\"font-weight: bold\">         Param # </span>┃\n",
              "┡━━━━━━━━━━━━━━━━━━━━━━━━━━━━━━━━━━━━━━╇━━━━━━━━━━━━━━━━━━━━━━━━━━━━━╇━━━━━━━━━━━━━━━━━┩\n",
              "│ fc1 (<span style=\"color: #0087ff; text-decoration-color: #0087ff\">Dense</span>)                          │ (<span style=\"color: #00d7ff; text-decoration-color: #00d7ff\">None</span>, <span style=\"color: #00af00; text-decoration-color: #00af00\">6</span>)                   │              <span style=\"color: #00af00; text-decoration-color: #00af00\">30</span> │\n",
              "├──────────────────────────────────────┼─────────────────────────────┼─────────────────┤\n",
              "│ fc2 (<span style=\"color: #0087ff; text-decoration-color: #0087ff\">Dense</span>)                          │ (<span style=\"color: #00d7ff; text-decoration-color: #00d7ff\">None</span>, <span style=\"color: #00af00; text-decoration-color: #00af00\">6</span>)                   │              <span style=\"color: #00af00; text-decoration-color: #00af00\">42</span> │\n",
              "├──────────────────────────────────────┼─────────────────────────────┼─────────────────┤\n",
              "│ output (<span style=\"color: #0087ff; text-decoration-color: #0087ff\">Dense</span>)                       │ (<span style=\"color: #00d7ff; text-decoration-color: #00d7ff\">None</span>, <span style=\"color: #00af00; text-decoration-color: #00af00\">3</span>)                   │              <span style=\"color: #00af00; text-decoration-color: #00af00\">21</span> │\n",
              "└──────────────────────────────────────┴─────────────────────────────┴─────────────────┘\n",
              "</pre>\n"
            ]
          },
          "metadata": {}
        },
        {
          "output_type": "display_data",
          "data": {
            "text/plain": [
              "\u001b[1m Total params: \u001b[0m\u001b[38;5;34m93\u001b[0m (372.00 B)\n"
            ],
            "text/html": [
              "<pre style=\"white-space:pre;overflow-x:auto;line-height:normal;font-family:Menlo,'DejaVu Sans Mono',consolas,'Courier New',monospace\"><span style=\"font-weight: bold\"> Total params: </span><span style=\"color: #00af00; text-decoration-color: #00af00\">93</span> (372.00 B)\n",
              "</pre>\n"
            ]
          },
          "metadata": {}
        },
        {
          "output_type": "display_data",
          "data": {
            "text/plain": [
              "\u001b[1m Trainable params: \u001b[0m\u001b[38;5;34m93\u001b[0m (372.00 B)\n"
            ],
            "text/html": [
              "<pre style=\"white-space:pre;overflow-x:auto;line-height:normal;font-family:Menlo,'DejaVu Sans Mono',consolas,'Courier New',monospace\"><span style=\"font-weight: bold\"> Trainable params: </span><span style=\"color: #00af00; text-decoration-color: #00af00\">93</span> (372.00 B)\n",
              "</pre>\n"
            ]
          },
          "metadata": {}
        },
        {
          "output_type": "display_data",
          "data": {
            "text/plain": [
              "\u001b[1m Non-trainable params: \u001b[0m\u001b[38;5;34m0\u001b[0m (0.00 B)\n"
            ],
            "text/html": [
              "<pre style=\"white-space:pre;overflow-x:auto;line-height:normal;font-family:Menlo,'DejaVu Sans Mono',consolas,'Courier New',monospace\"><span style=\"font-weight: bold\"> Non-trainable params: </span><span style=\"color: #00af00; text-decoration-color: #00af00\">0</span> (0.00 B)\n",
              "</pre>\n"
            ]
          },
          "metadata": {}
        }
      ]
    },
    {
      "cell_type": "markdown",
      "id": "8dd17d04",
      "metadata": {
        "id": "8dd17d04"
      },
      "source": [
        "## Part 4: Train the Model\n",
        "    ### Train the Model\n",
        "    **Hint**: Fit the model on your training data with a reasonable number of epochs.\n",
        "\n",
        "    ### Evaluate the Model\n",
        "    **Hint**: Use the test data to evaluate your model and report the accuracy.\n",
        "    "
      ]
    },
    {
      "cell_type": "code",
      "source": [
        "history = model.fit(X_train, y_train_encoded, epochs=90, batch_size=16, validation_data=(X_test, y_test_encoded))"
      ],
      "metadata": {
        "id": "BRSV7hYNa1ri",
        "outputId": "3da49953-cf79-4191-f098-b09af3416e4b",
        "colab": {
          "base_uri": "https://localhost:8080/"
        }
      },
      "id": "BRSV7hYNa1ri",
      "execution_count": 31,
      "outputs": [
        {
          "output_type": "stream",
          "name": "stdout",
          "text": [
            "Epoch 1/90\n",
            "\u001b[1m8/8\u001b[0m \u001b[32m━━━━━━━━━━━━━━━━━━━━\u001b[0m\u001b[37m\u001b[0m \u001b[1m2s\u001b[0m 54ms/step - accuracy: 0.3339 - loss: 1.1839 - val_accuracy: 0.3667 - val_loss: 1.1437\n",
            "Epoch 2/90\n",
            "\u001b[1m8/8\u001b[0m \u001b[32m━━━━━━━━━━━━━━━━━━━━\u001b[0m\u001b[37m\u001b[0m \u001b[1m0s\u001b[0m 10ms/step - accuracy: 0.2561 - loss: 1.2268 - val_accuracy: 0.3667 - val_loss: 1.1078\n",
            "Epoch 3/90\n",
            "\u001b[1m8/8\u001b[0m \u001b[32m━━━━━━━━━━━━━━━━━━━━\u001b[0m\u001b[37m\u001b[0m \u001b[1m0s\u001b[0m 11ms/step - accuracy: 0.3471 - loss: 1.0670 - val_accuracy: 0.3667 - val_loss: 1.0772\n",
            "Epoch 4/90\n",
            "\u001b[1m8/8\u001b[0m \u001b[32m━━━━━━━━━━━━━━━━━━━━\u001b[0m\u001b[37m\u001b[0m \u001b[1m0s\u001b[0m 11ms/step - accuracy: 0.3621 - loss: 1.0970 - val_accuracy: 0.4333 - val_loss: 1.0464\n",
            "Epoch 5/90\n",
            "\u001b[1m8/8\u001b[0m \u001b[32m━━━━━━━━━━━━━━━━━━━━\u001b[0m\u001b[37m\u001b[0m \u001b[1m0s\u001b[0m 11ms/step - accuracy: 0.3752 - loss: 1.0780 - val_accuracy: 0.4667 - val_loss: 1.0160\n",
            "Epoch 6/90\n",
            "\u001b[1m8/8\u001b[0m \u001b[32m━━━━━━━━━━━━━━━━━━━━\u001b[0m\u001b[37m\u001b[0m \u001b[1m0s\u001b[0m 11ms/step - accuracy: 0.4855 - loss: 1.0250 - val_accuracy: 0.4667 - val_loss: 0.9867\n",
            "Epoch 7/90\n",
            "\u001b[1m8/8\u001b[0m \u001b[32m━━━━━━━━━━━━━━━━━━━━\u001b[0m\u001b[37m\u001b[0m \u001b[1m0s\u001b[0m 11ms/step - accuracy: 0.4558 - loss: 1.0123 - val_accuracy: 0.5333 - val_loss: 0.9570\n",
            "Epoch 8/90\n",
            "\u001b[1m8/8\u001b[0m \u001b[32m━━━━━━━━━━━━━━━━━━━━\u001b[0m\u001b[37m\u001b[0m \u001b[1m0s\u001b[0m 13ms/step - accuracy: 0.5412 - loss: 0.9368 - val_accuracy: 0.5667 - val_loss: 0.9268\n",
            "Epoch 9/90\n",
            "\u001b[1m8/8\u001b[0m \u001b[32m━━━━━━━━━━━━━━━━━━━━\u001b[0m\u001b[37m\u001b[0m \u001b[1m0s\u001b[0m 12ms/step - accuracy: 0.6096 - loss: 0.9257 - val_accuracy: 0.5667 - val_loss: 0.8956\n",
            "Epoch 10/90\n",
            "\u001b[1m8/8\u001b[0m \u001b[32m━━━━━━━━━━━━━━━━━━━━\u001b[0m\u001b[37m\u001b[0m \u001b[1m0s\u001b[0m 12ms/step - accuracy: 0.5842 - loss: 0.9048 - val_accuracy: 0.6000 - val_loss: 0.8631\n",
            "Epoch 11/90\n",
            "\u001b[1m8/8\u001b[0m \u001b[32m━━━━━━━━━━━━━━━━━━━━\u001b[0m\u001b[37m\u001b[0m \u001b[1m0s\u001b[0m 11ms/step - accuracy: 0.6061 - loss: 0.8746 - val_accuracy: 0.7000 - val_loss: 0.8314\n",
            "Epoch 12/90\n",
            "\u001b[1m8/8\u001b[0m \u001b[32m━━━━━━━━━━━━━━━━━━━━\u001b[0m\u001b[37m\u001b[0m \u001b[1m0s\u001b[0m 12ms/step - accuracy: 0.7054 - loss: 0.8307 - val_accuracy: 0.7333 - val_loss: 0.7979\n",
            "Epoch 13/90\n",
            "\u001b[1m8/8\u001b[0m \u001b[32m━━━━━━━━━━━━━━━━━━━━\u001b[0m\u001b[37m\u001b[0m \u001b[1m0s\u001b[0m 13ms/step - accuracy: 0.7278 - loss: 0.7963 - val_accuracy: 0.8000 - val_loss: 0.7663\n",
            "Epoch 14/90\n",
            "\u001b[1m8/8\u001b[0m \u001b[32m━━━━━━━━━━━━━━━━━━━━\u001b[0m\u001b[37m\u001b[0m \u001b[1m0s\u001b[0m 13ms/step - accuracy: 0.6632 - loss: 0.7916 - val_accuracy: 0.8000 - val_loss: 0.7339\n",
            "Epoch 15/90\n",
            "\u001b[1m8/8\u001b[0m \u001b[32m━━━━━━━━━━━━━━━━━━━━\u001b[0m\u001b[37m\u001b[0m \u001b[1m0s\u001b[0m 11ms/step - accuracy: 0.7390 - loss: 0.7464 - val_accuracy: 0.8333 - val_loss: 0.7013\n",
            "Epoch 16/90\n",
            "\u001b[1m8/8\u001b[0m \u001b[32m━━━━━━━━━━━━━━━━━━━━\u001b[0m\u001b[37m\u001b[0m \u001b[1m0s\u001b[0m 10ms/step - accuracy: 0.7678 - loss: 0.7097 - val_accuracy: 0.8333 - val_loss: 0.6698\n",
            "Epoch 17/90\n",
            "\u001b[1m8/8\u001b[0m \u001b[32m━━━━━━━━━━━━━━━━━━━━\u001b[0m\u001b[37m\u001b[0m \u001b[1m0s\u001b[0m 10ms/step - accuracy: 0.7915 - loss: 0.6611 - val_accuracy: 0.8333 - val_loss: 0.6394\n",
            "Epoch 18/90\n",
            "\u001b[1m8/8\u001b[0m \u001b[32m━━━━━━━━━━━━━━━━━━━━\u001b[0m\u001b[37m\u001b[0m \u001b[1m0s\u001b[0m 12ms/step - accuracy: 0.7967 - loss: 0.6458 - val_accuracy: 0.8333 - val_loss: 0.6109\n",
            "Epoch 19/90\n",
            "\u001b[1m8/8\u001b[0m \u001b[32m━━━━━━━━━━━━━━━━━━━━\u001b[0m\u001b[37m\u001b[0m \u001b[1m0s\u001b[0m 15ms/step - accuracy: 0.7849 - loss: 0.6186 - val_accuracy: 0.8333 - val_loss: 0.5852\n",
            "Epoch 20/90\n",
            "\u001b[1m8/8\u001b[0m \u001b[32m━━━━━━━━━━━━━━━━━━━━\u001b[0m\u001b[37m\u001b[0m \u001b[1m0s\u001b[0m 11ms/step - accuracy: 0.8257 - loss: 0.5894 - val_accuracy: 0.8333 - val_loss: 0.5610\n",
            "Epoch 21/90\n",
            "\u001b[1m8/8\u001b[0m \u001b[32m━━━━━━━━━━━━━━━━━━━━\u001b[0m\u001b[37m\u001b[0m \u001b[1m0s\u001b[0m 9ms/step - accuracy: 0.8051 - loss: 0.5863 - val_accuracy: 0.8333 - val_loss: 0.5397\n",
            "Epoch 22/90\n",
            "\u001b[1m8/8\u001b[0m \u001b[32m━━━━━━━━━━━━━━━━━━━━\u001b[0m\u001b[37m\u001b[0m \u001b[1m0s\u001b[0m 6ms/step - accuracy: 0.8117 - loss: 0.5471 - val_accuracy: 0.8333 - val_loss: 0.5209\n",
            "Epoch 23/90\n",
            "\u001b[1m8/8\u001b[0m \u001b[32m━━━━━━━━━━━━━━━━━━━━\u001b[0m\u001b[37m\u001b[0m \u001b[1m0s\u001b[0m 6ms/step - accuracy: 0.8293 - loss: 0.5336 - val_accuracy: 0.8333 - val_loss: 0.5037\n",
            "Epoch 24/90\n",
            "\u001b[1m8/8\u001b[0m \u001b[32m━━━━━━━━━━━━━━━━━━━━\u001b[0m\u001b[37m\u001b[0m \u001b[1m0s\u001b[0m 9ms/step - accuracy: 0.7729 - loss: 0.5398 - val_accuracy: 0.8333 - val_loss: 0.4882\n",
            "Epoch 25/90\n",
            "\u001b[1m8/8\u001b[0m \u001b[32m━━━━━━━━━━━━━━━━━━━━\u001b[0m\u001b[37m\u001b[0m \u001b[1m0s\u001b[0m 6ms/step - accuracy: 0.7951 - loss: 0.5295 - val_accuracy: 0.8333 - val_loss: 0.4736\n",
            "Epoch 26/90\n",
            "\u001b[1m8/8\u001b[0m \u001b[32m━━━━━━━━━━━━━━━━━━━━\u001b[0m\u001b[37m\u001b[0m \u001b[1m0s\u001b[0m 6ms/step - accuracy: 0.7668 - loss: 0.5372 - val_accuracy: 0.8333 - val_loss: 0.4609\n",
            "Epoch 27/90\n",
            "\u001b[1m8/8\u001b[0m \u001b[32m━━━━━━━━━━━━━━━━━━━━\u001b[0m\u001b[37m\u001b[0m \u001b[1m0s\u001b[0m 9ms/step - accuracy: 0.8165 - loss: 0.5181 - val_accuracy: 0.8333 - val_loss: 0.4480\n",
            "Epoch 28/90\n",
            "\u001b[1m8/8\u001b[0m \u001b[32m━━━━━━━━━━━━━━━━━━━━\u001b[0m\u001b[37m\u001b[0m \u001b[1m0s\u001b[0m 9ms/step - accuracy: 0.8617 - loss: 0.4636 - val_accuracy: 0.8333 - val_loss: 0.4356\n",
            "Epoch 29/90\n",
            "\u001b[1m8/8\u001b[0m \u001b[32m━━━━━━━━━━━━━━━━━━━━\u001b[0m\u001b[37m\u001b[0m \u001b[1m0s\u001b[0m 10ms/step - accuracy: 0.8354 - loss: 0.4670 - val_accuracy: 0.8333 - val_loss: 0.4242\n",
            "Epoch 30/90\n",
            "\u001b[1m8/8\u001b[0m \u001b[32m━━━━━━━━━━━━━━━━━━━━\u001b[0m\u001b[37m\u001b[0m \u001b[1m0s\u001b[0m 9ms/step - accuracy: 0.8557 - loss: 0.4546 - val_accuracy: 0.8333 - val_loss: 0.4132\n",
            "Epoch 31/90\n",
            "\u001b[1m8/8\u001b[0m \u001b[32m━━━━━━━━━━━━━━━━━━━━\u001b[0m\u001b[37m\u001b[0m \u001b[1m0s\u001b[0m 7ms/step - accuracy: 0.8015 - loss: 0.5077 - val_accuracy: 0.8667 - val_loss: 0.4043\n",
            "Epoch 32/90\n",
            "\u001b[1m8/8\u001b[0m \u001b[32m━━━━━━━━━━━━━━━━━━━━\u001b[0m\u001b[37m\u001b[0m \u001b[1m0s\u001b[0m 6ms/step - accuracy: 0.8274 - loss: 0.4368 - val_accuracy: 0.8667 - val_loss: 0.3958\n",
            "Epoch 33/90\n",
            "\u001b[1m8/8\u001b[0m \u001b[32m━━━━━━━━━━━━━━━━━━━━\u001b[0m\u001b[37m\u001b[0m \u001b[1m0s\u001b[0m 7ms/step - accuracy: 0.8307 - loss: 0.4258 - val_accuracy: 0.8667 - val_loss: 0.3877\n",
            "Epoch 34/90\n",
            "\u001b[1m8/8\u001b[0m \u001b[32m━━━━━━━━━━━━━━━━━━━━\u001b[0m\u001b[37m\u001b[0m \u001b[1m0s\u001b[0m 6ms/step - accuracy: 0.8551 - loss: 0.4203 - val_accuracy: 0.8667 - val_loss: 0.3799\n",
            "Epoch 35/90\n",
            "\u001b[1m8/8\u001b[0m \u001b[32m━━━━━━━━━━━━━━━━━━━━\u001b[0m\u001b[37m\u001b[0m \u001b[1m0s\u001b[0m 8ms/step - accuracy: 0.8577 - loss: 0.3905 - val_accuracy: 0.8667 - val_loss: 0.3724\n",
            "Epoch 36/90\n",
            "\u001b[1m8/8\u001b[0m \u001b[32m━━━━━━━━━━━━━━━━━━━━\u001b[0m\u001b[37m\u001b[0m \u001b[1m0s\u001b[0m 10ms/step - accuracy: 0.8711 - loss: 0.3660 - val_accuracy: 0.8667 - val_loss: 0.3653\n",
            "Epoch 37/90\n",
            "\u001b[1m8/8\u001b[0m \u001b[32m━━━━━━━━━━━━━━━━━━━━\u001b[0m\u001b[37m\u001b[0m \u001b[1m0s\u001b[0m 8ms/step - accuracy: 0.8358 - loss: 0.3932 - val_accuracy: 0.8667 - val_loss: 0.3583\n",
            "Epoch 38/90\n",
            "\u001b[1m8/8\u001b[0m \u001b[32m━━━━━━━━━━━━━━━━━━━━\u001b[0m\u001b[37m\u001b[0m \u001b[1m0s\u001b[0m 6ms/step - accuracy: 0.8571 - loss: 0.3853 - val_accuracy: 0.8667 - val_loss: 0.3516\n",
            "Epoch 39/90\n",
            "\u001b[1m8/8\u001b[0m \u001b[32m━━━━━━━━━━━━━━━━━━━━\u001b[0m\u001b[37m\u001b[0m \u001b[1m0s\u001b[0m 8ms/step - accuracy: 0.8206 - loss: 0.3951 - val_accuracy: 0.8667 - val_loss: 0.3457\n",
            "Epoch 40/90\n",
            "\u001b[1m8/8\u001b[0m \u001b[32m━━━━━━━━━━━━━━━━━━━━\u001b[0m\u001b[37m\u001b[0m \u001b[1m0s\u001b[0m 7ms/step - accuracy: 0.8537 - loss: 0.3982 - val_accuracy: 0.8667 - val_loss: 0.3395\n",
            "Epoch 41/90\n",
            "\u001b[1m8/8\u001b[0m \u001b[32m━━━━━━━━━━━━━━━━━━━━\u001b[0m\u001b[37m\u001b[0m \u001b[1m0s\u001b[0m 7ms/step - accuracy: 0.8843 - loss: 0.3698 - val_accuracy: 0.8667 - val_loss: 0.3331\n",
            "Epoch 42/90\n",
            "\u001b[1m8/8\u001b[0m \u001b[32m━━━━━━━━━━━━━━━━━━━━\u001b[0m\u001b[37m\u001b[0m \u001b[1m0s\u001b[0m 6ms/step - accuracy: 0.8676 - loss: 0.3846 - val_accuracy: 0.8667 - val_loss: 0.3272\n",
            "Epoch 43/90\n",
            "\u001b[1m8/8\u001b[0m \u001b[32m━━━━━━━━━━━━━━━━━━━━\u001b[0m\u001b[37m\u001b[0m \u001b[1m0s\u001b[0m 9ms/step - accuracy: 0.8715 - loss: 0.3589 - val_accuracy: 0.8667 - val_loss: 0.3213\n",
            "Epoch 44/90\n",
            "\u001b[1m8/8\u001b[0m \u001b[32m━━━━━━━━━━━━━━━━━━━━\u001b[0m\u001b[37m\u001b[0m \u001b[1m0s\u001b[0m 10ms/step - accuracy: 0.8677 - loss: 0.3831 - val_accuracy: 0.8667 - val_loss: 0.3156\n",
            "Epoch 45/90\n",
            "\u001b[1m8/8\u001b[0m \u001b[32m━━━━━━━━━━━━━━━━━━━━\u001b[0m\u001b[37m\u001b[0m \u001b[1m0s\u001b[0m 6ms/step - accuracy: 0.8378 - loss: 0.3685 - val_accuracy: 0.8667 - val_loss: 0.3103\n",
            "Epoch 46/90\n",
            "\u001b[1m8/8\u001b[0m \u001b[32m━━━━━━━━━━━━━━━━━━━━\u001b[0m\u001b[37m\u001b[0m \u001b[1m0s\u001b[0m 6ms/step - accuracy: 0.8642 - loss: 0.3414 - val_accuracy: 0.8667 - val_loss: 0.3055\n",
            "Epoch 47/90\n",
            "\u001b[1m8/8\u001b[0m \u001b[32m━━━━━━━━━━━━━━━━━━━━\u001b[0m\u001b[37m\u001b[0m \u001b[1m0s\u001b[0m 6ms/step - accuracy: 0.8890 - loss: 0.3201 - val_accuracy: 0.8667 - val_loss: 0.3002\n",
            "Epoch 48/90\n",
            "\u001b[1m8/8\u001b[0m \u001b[32m━━━━━━━━━━━━━━━━━━━━\u001b[0m\u001b[37m\u001b[0m \u001b[1m0s\u001b[0m 6ms/step - accuracy: 0.8275 - loss: 0.3584 - val_accuracy: 0.9000 - val_loss: 0.2952\n",
            "Epoch 49/90\n",
            "\u001b[1m8/8\u001b[0m \u001b[32m━━━━━━━━━━━━━━━━━━━━\u001b[0m\u001b[37m\u001b[0m \u001b[1m0s\u001b[0m 9ms/step - accuracy: 0.8807 - loss: 0.3443 - val_accuracy: 0.9000 - val_loss: 0.2903\n",
            "Epoch 50/90\n",
            "\u001b[1m8/8\u001b[0m \u001b[32m━━━━━━━━━━━━━━━━━━━━\u001b[0m\u001b[37m\u001b[0m \u001b[1m0s\u001b[0m 9ms/step - accuracy: 0.8745 - loss: 0.3404 - val_accuracy: 0.9333 - val_loss: 0.2854\n",
            "Epoch 51/90\n",
            "\u001b[1m8/8\u001b[0m \u001b[32m━━━━━━━━━━━━━━━━━━━━\u001b[0m\u001b[37m\u001b[0m \u001b[1m0s\u001b[0m 6ms/step - accuracy: 0.8634 - loss: 0.3368 - val_accuracy: 0.9333 - val_loss: 0.2808\n",
            "Epoch 52/90\n",
            "\u001b[1m8/8\u001b[0m \u001b[32m━━━━━━━━━━━━━━━━━━━━\u001b[0m\u001b[37m\u001b[0m \u001b[1m0s\u001b[0m 10ms/step - accuracy: 0.8675 - loss: 0.3388 - val_accuracy: 0.9333 - val_loss: 0.2763\n",
            "Epoch 53/90\n",
            "\u001b[1m8/8\u001b[0m \u001b[32m━━━━━━━━━━━━━━━━━━━━\u001b[0m\u001b[37m\u001b[0m \u001b[1m0s\u001b[0m 8ms/step - accuracy: 0.8720 - loss: 0.3465 - val_accuracy: 0.9000 - val_loss: 0.2720\n",
            "Epoch 54/90\n",
            "\u001b[1m8/8\u001b[0m \u001b[32m━━━━━━━━━━━━━━━━━━━━\u001b[0m\u001b[37m\u001b[0m \u001b[1m0s\u001b[0m 6ms/step - accuracy: 0.8694 - loss: 0.3195 - val_accuracy: 0.9000 - val_loss: 0.2677\n",
            "Epoch 55/90\n",
            "\u001b[1m8/8\u001b[0m \u001b[32m━━━━━━━━━━━━━━━━━━━━\u001b[0m\u001b[37m\u001b[0m \u001b[1m0s\u001b[0m 8ms/step - accuracy: 0.9037 - loss: 0.2795 - val_accuracy: 0.9000 - val_loss: 0.2636\n",
            "Epoch 56/90\n",
            "\u001b[1m8/8\u001b[0m \u001b[32m━━━━━━━━━━━━━━━━━━━━\u001b[0m\u001b[37m\u001b[0m \u001b[1m0s\u001b[0m 7ms/step - accuracy: 0.8981 - loss: 0.2840 - val_accuracy: 0.9333 - val_loss: 0.2594\n",
            "Epoch 57/90\n",
            "\u001b[1m8/8\u001b[0m \u001b[32m━━━━━━━━━━━━━━━━━━━━\u001b[0m\u001b[37m\u001b[0m \u001b[1m0s\u001b[0m 8ms/step - accuracy: 0.8671 - loss: 0.3064 - val_accuracy: 0.9333 - val_loss: 0.2556\n",
            "Epoch 58/90\n",
            "\u001b[1m8/8\u001b[0m \u001b[32m━━━━━━━━━━━━━━━━━━━━\u001b[0m\u001b[37m\u001b[0m \u001b[1m0s\u001b[0m 6ms/step - accuracy: 0.8761 - loss: 0.3240 - val_accuracy: 0.9333 - val_loss: 0.2517\n",
            "Epoch 59/90\n",
            "\u001b[1m8/8\u001b[0m \u001b[32m━━━━━━━━━━━━━━━━━━━━\u001b[0m\u001b[37m\u001b[0m \u001b[1m0s\u001b[0m 8ms/step - accuracy: 0.9168 - loss: 0.2602 - val_accuracy: 0.9333 - val_loss: 0.2480\n",
            "Epoch 60/90\n",
            "\u001b[1m8/8\u001b[0m \u001b[32m━━━━━━━━━━━━━━━━━━━━\u001b[0m\u001b[37m\u001b[0m \u001b[1m0s\u001b[0m 9ms/step - accuracy: 0.8510 - loss: 0.2988 - val_accuracy: 0.9333 - val_loss: 0.2436\n",
            "Epoch 61/90\n",
            "\u001b[1m8/8\u001b[0m \u001b[32m━━━━━━━━━━━━━━━━━━━━\u001b[0m\u001b[37m\u001b[0m \u001b[1m0s\u001b[0m 10ms/step - accuracy: 0.8568 - loss: 0.2950 - val_accuracy: 0.9667 - val_loss: 0.2395\n",
            "Epoch 62/90\n",
            "\u001b[1m8/8\u001b[0m \u001b[32m━━━━━━━━━━━━━━━━━━━━\u001b[0m\u001b[37m\u001b[0m \u001b[1m0s\u001b[0m 6ms/step - accuracy: 0.8414 - loss: 0.3254 - val_accuracy: 0.9667 - val_loss: 0.2358\n",
            "Epoch 63/90\n",
            "\u001b[1m8/8\u001b[0m \u001b[32m━━━━━━━━━━━━━━━━━━━━\u001b[0m\u001b[37m\u001b[0m \u001b[1m0s\u001b[0m 8ms/step - accuracy: 0.8767 - loss: 0.3047 - val_accuracy: 0.9667 - val_loss: 0.2322\n",
            "Epoch 64/90\n",
            "\u001b[1m8/8\u001b[0m \u001b[32m━━━━━━━━━━━━━━━━━━━━\u001b[0m\u001b[37m\u001b[0m \u001b[1m0s\u001b[0m 6ms/step - accuracy: 0.8747 - loss: 0.2788 - val_accuracy: 0.9667 - val_loss: 0.2286\n",
            "Epoch 65/90\n",
            "\u001b[1m8/8\u001b[0m \u001b[32m━━━━━━━━━━━━━━━━━━━━\u001b[0m\u001b[37m\u001b[0m \u001b[1m0s\u001b[0m 6ms/step - accuracy: 0.8980 - loss: 0.2723 - val_accuracy: 0.9667 - val_loss: 0.2252\n",
            "Epoch 66/90\n",
            "\u001b[1m8/8\u001b[0m \u001b[32m━━━━━━━━━━━━━━━━━━━━\u001b[0m\u001b[37m\u001b[0m \u001b[1m0s\u001b[0m 6ms/step - accuracy: 0.8765 - loss: 0.2788 - val_accuracy: 0.9667 - val_loss: 0.2219\n",
            "Epoch 67/90\n",
            "\u001b[1m8/8\u001b[0m \u001b[32m━━━━━━━━━━━━━━━━━━━━\u001b[0m\u001b[37m\u001b[0m \u001b[1m0s\u001b[0m 6ms/step - accuracy: 0.8836 - loss: 0.2765 - val_accuracy: 0.9667 - val_loss: 0.2186\n",
            "Epoch 68/90\n",
            "\u001b[1m8/8\u001b[0m \u001b[32m━━━━━━━━━━━━━━━━━━━━\u001b[0m\u001b[37m\u001b[0m \u001b[1m0s\u001b[0m 10ms/step - accuracy: 0.8879 - loss: 0.2560 - val_accuracy: 0.9667 - val_loss: 0.2156\n",
            "Epoch 69/90\n",
            "\u001b[1m8/8\u001b[0m \u001b[32m━━━━━━━━━━━━━━━━━━━━\u001b[0m\u001b[37m\u001b[0m \u001b[1m0s\u001b[0m 9ms/step - accuracy: 0.8880 - loss: 0.2478 - val_accuracy: 0.9667 - val_loss: 0.2124\n",
            "Epoch 70/90\n",
            "\u001b[1m8/8\u001b[0m \u001b[32m━━━━━━━━━━━━━━━━━━━━\u001b[0m\u001b[37m\u001b[0m \u001b[1m0s\u001b[0m 8ms/step - accuracy: 0.8939 - loss: 0.2566 - val_accuracy: 0.9667 - val_loss: 0.2095\n",
            "Epoch 71/90\n",
            "\u001b[1m8/8\u001b[0m \u001b[32m━━━━━━━━━━━━━━━━━━━━\u001b[0m\u001b[37m\u001b[0m \u001b[1m0s\u001b[0m 7ms/step - accuracy: 0.9335 - loss: 0.2491 - val_accuracy: 0.9667 - val_loss: 0.2063\n",
            "Epoch 72/90\n",
            "\u001b[1m8/8\u001b[0m \u001b[32m━━━━━━━━━━━━━━━━━━━━\u001b[0m\u001b[37m\u001b[0m \u001b[1m0s\u001b[0m 9ms/step - accuracy: 0.9309 - loss: 0.2464 - val_accuracy: 0.9667 - val_loss: 0.2031\n",
            "Epoch 73/90\n",
            "\u001b[1m8/8\u001b[0m \u001b[32m━━━━━━━━━━━━━━━━━━━━\u001b[0m\u001b[37m\u001b[0m \u001b[1m0s\u001b[0m 6ms/step - accuracy: 0.9042 - loss: 0.2626 - val_accuracy: 0.9667 - val_loss: 0.1995\n",
            "Epoch 74/90\n",
            "\u001b[1m8/8\u001b[0m \u001b[32m━━━━━━━━━━━━━━━━━━━━\u001b[0m\u001b[37m\u001b[0m \u001b[1m0s\u001b[0m 7ms/step - accuracy: 0.9307 - loss: 0.2349 - val_accuracy: 0.9667 - val_loss: 0.1962\n",
            "Epoch 75/90\n",
            "\u001b[1m8/8\u001b[0m \u001b[32m━━━━━━━━━━━━━━━━━━━━\u001b[0m\u001b[37m\u001b[0m \u001b[1m0s\u001b[0m 7ms/step - accuracy: 0.9226 - loss: 0.2334 - val_accuracy: 0.9667 - val_loss: 0.1945\n",
            "Epoch 76/90\n",
            "\u001b[1m8/8\u001b[0m \u001b[32m━━━━━━━━━━━━━━━━━━━━\u001b[0m\u001b[37m\u001b[0m \u001b[1m0s\u001b[0m 6ms/step - accuracy: 0.9375 - loss: 0.2215 - val_accuracy: 0.9667 - val_loss: 0.1920\n",
            "Epoch 77/90\n",
            "\u001b[1m8/8\u001b[0m \u001b[32m━━━━━━━━━━━━━━━━━━━━\u001b[0m\u001b[37m\u001b[0m \u001b[1m0s\u001b[0m 6ms/step - accuracy: 0.8940 - loss: 0.2378 - val_accuracy: 0.9667 - val_loss: 0.1893\n",
            "Epoch 78/90\n",
            "\u001b[1m8/8\u001b[0m \u001b[32m━━━━━━━━━━━━━━━━━━━━\u001b[0m\u001b[37m\u001b[0m \u001b[1m0s\u001b[0m 7ms/step - accuracy: 0.9286 - loss: 0.2356 - val_accuracy: 0.9667 - val_loss: 0.1862\n",
            "Epoch 79/90\n",
            "\u001b[1m8/8\u001b[0m \u001b[32m━━━━━━━━━━━━━━━━━━━━\u001b[0m\u001b[37m\u001b[0m \u001b[1m0s\u001b[0m 7ms/step - accuracy: 0.8949 - loss: 0.2441 - val_accuracy: 0.9667 - val_loss: 0.1838\n",
            "Epoch 80/90\n",
            "\u001b[1m8/8\u001b[0m \u001b[32m━━━━━━━━━━━━━━━━━━━━\u001b[0m\u001b[37m\u001b[0m \u001b[1m0s\u001b[0m 6ms/step - accuracy: 0.8748 - loss: 0.2617 - val_accuracy: 0.9667 - val_loss: 0.1815\n",
            "Epoch 81/90\n",
            "\u001b[1m8/8\u001b[0m \u001b[32m━━━━━━━━━━━━━━━━━━━━\u001b[0m\u001b[37m\u001b[0m \u001b[1m0s\u001b[0m 6ms/step - accuracy: 0.9123 - loss: 0.2299 - val_accuracy: 0.9667 - val_loss: 0.1792\n",
            "Epoch 82/90\n",
            "\u001b[1m8/8\u001b[0m \u001b[32m━━━━━━━━━━━━━━━━━━━━\u001b[0m\u001b[37m\u001b[0m \u001b[1m0s\u001b[0m 9ms/step - accuracy: 0.8956 - loss: 0.2397 - val_accuracy: 0.9667 - val_loss: 0.1767\n",
            "Epoch 83/90\n",
            "\u001b[1m8/8\u001b[0m \u001b[32m━━━━━━━━━━━━━━━━━━━━\u001b[0m\u001b[37m\u001b[0m \u001b[1m0s\u001b[0m 8ms/step - accuracy: 0.9202 - loss: 0.2155 - val_accuracy: 0.9667 - val_loss: 0.1737\n",
            "Epoch 84/90\n",
            "\u001b[1m8/8\u001b[0m \u001b[32m━━━━━━━━━━━━━━━━━━━━\u001b[0m\u001b[37m\u001b[0m \u001b[1m0s\u001b[0m 8ms/step - accuracy: 0.8712 - loss: 0.2760 - val_accuracy: 0.9667 - val_loss: 0.1710\n",
            "Epoch 85/90\n",
            "\u001b[1m8/8\u001b[0m \u001b[32m━━━━━━━━━━━━━━━━━━━━\u001b[0m\u001b[37m\u001b[0m \u001b[1m0s\u001b[0m 6ms/step - accuracy: 0.9292 - loss: 0.2163 - val_accuracy: 0.9667 - val_loss: 0.1678\n",
            "Epoch 86/90\n",
            "\u001b[1m8/8\u001b[0m \u001b[32m━━━━━━━━━━━━━━━━━━━━\u001b[0m\u001b[37m\u001b[0m \u001b[1m0s\u001b[0m 8ms/step - accuracy: 0.9184 - loss: 0.2251 - val_accuracy: 0.9667 - val_loss: 0.1656\n",
            "Epoch 87/90\n",
            "\u001b[1m8/8\u001b[0m \u001b[32m━━━━━━━━━━━━━━━━━━━━\u001b[0m\u001b[37m\u001b[0m \u001b[1m0s\u001b[0m 6ms/step - accuracy: 0.9224 - loss: 0.2104 - val_accuracy: 0.9667 - val_loss: 0.1639\n",
            "Epoch 88/90\n",
            "\u001b[1m8/8\u001b[0m \u001b[32m━━━━━━━━━━━━━━━━━━━━\u001b[0m\u001b[37m\u001b[0m \u001b[1m0s\u001b[0m 6ms/step - accuracy: 0.8944 - loss: 0.2497 - val_accuracy: 0.9667 - val_loss: 0.1613\n",
            "Epoch 89/90\n",
            "\u001b[1m8/8\u001b[0m \u001b[32m━━━━━━━━━━━━━━━━━━━━\u001b[0m\u001b[37m\u001b[0m \u001b[1m0s\u001b[0m 6ms/step - accuracy: 0.9230 - loss: 0.2185 - val_accuracy: 0.9667 - val_loss: 0.1593\n",
            "Epoch 90/90\n",
            "\u001b[1m8/8\u001b[0m \u001b[32m━━━━━━━━━━━━━━━━━━━━\u001b[0m\u001b[37m\u001b[0m \u001b[1m0s\u001b[0m 9ms/step - accuracy: 0.9435 - loss: 0.2104 - val_accuracy: 0.9667 - val_loss: 0.1574\n"
          ]
        }
      ]
    },
    {
      "cell_type": "code",
      "source": [
        "results = model.evaluate(X_test, y_test_encoded)\n",
        "\n",
        "print('Final test set loss: {:4f}'.format(results[0]))\n",
        "print('Final test set accuracy: {:4f}'.format(results[1]))"
      ],
      "metadata": {
        "id": "vqNXd1pGk3y7",
        "outputId": "721c6c62-2a83-4b6d-898e-077312609208",
        "colab": {
          "base_uri": "https://localhost:8080/"
        }
      },
      "id": "vqNXd1pGk3y7",
      "execution_count": 32,
      "outputs": [
        {
          "output_type": "stream",
          "name": "stdout",
          "text": [
            "\u001b[1m1/1\u001b[0m \u001b[32m━━━━━━━━━━━━━━━━━━━━\u001b[0m\u001b[37m\u001b[0m \u001b[1m0s\u001b[0m 31ms/step - accuracy: 0.9667 - loss: 0.1574\n",
            "Final test set loss: 0.157423\n",
            "Final test set accuracy: 0.966667\n"
          ]
        }
      ]
    },
    {
      "cell_type": "markdown",
      "id": "a0f2d8bb",
      "metadata": {
        "id": "a0f2d8bb"
      },
      "source": [
        "## Part 5: Experiment and Improve\n",
        "    ### Tune the Model\n",
        "    **Hint**: Try adding more hidden layers or neurons, or use different activation functions and see if the accuracy improves.\n",
        "\n",
        "    ### Regularization and Dropout\n",
        "    **Hint**: Implement dropout or regularization techniques to improve the model's generalization.\n",
        "    "
      ]
    },
    {
      "cell_type": "markdown",
      "source": [
        "# i think i have good result and simple model with simple data give me higy accurate model. if i increase the number of layer or change some parameters it's could not give me better accuracy."
      ],
      "metadata": {
        "id": "2qWn093uhIjm"
      },
      "id": "2qWn093uhIjm"
    },
    {
      "cell_type": "markdown",
      "id": "5ab398a2",
      "metadata": {
        "id": "5ab398a2"
      },
      "source": [
        "\n",
        "## Part 4: Model Evaluation\n",
        "### Evaluate the Model\n",
        "To effectively evaluate your artificial neural network, consider the following metrics:\n",
        "- **Accuracy**: This is the fraction of predictions our model got right.\n",
        "- **Confusion Matrix**: A table used to describe the performance of a classification model on a set of test data for which the true values are known.\n",
        "- **Precision, Recall, and F1-Score**: These metrics provide more insight into the types of errors made by the classifier.\n",
        "**Hint**: Use `classification_report` and `confusion_matrix` from `sklearn.metrics` to calculate these metrics.\n",
        "\n",
        "### Visualize Model Performance\n",
        "Visualizing the learning curves (loss and accuracy over epochs) can provide insights into the training process, such as whether the model is fitting or overfitting.\n",
        "**Hint**: Use `matplotlib.pyplot` to plot training and validation loss and accuracy.\n"
      ]
    },
    {
      "cell_type": "code",
      "source": [
        "y_pred = model.predict(X_test)\n",
        "y_pred_classes = np.argmax(y_pred, axis=1)  # Convert probabilities to class labels\n",
        "\n",
        "# Generate confusion matrix\n",
        "cm = confusion_matrix(y_test, y_pred_classes)\n",
        "\n",
        "print(\"Confusion Matrix:\")\n",
        "print(cm)"
      ],
      "metadata": {
        "id": "CuNoUBOrjIWU",
        "outputId": "9ab17a71-42b0-47e3-9fd3-35622db07e7d",
        "colab": {
          "base_uri": "https://localhost:8080/"
        }
      },
      "id": "CuNoUBOrjIWU",
      "execution_count": 33,
      "outputs": [
        {
          "output_type": "stream",
          "name": "stdout",
          "text": [
            "\u001b[1m1/1\u001b[0m \u001b[32m━━━━━━━━━━━━━━━━━━━━\u001b[0m\u001b[37m\u001b[0m \u001b[1m0s\u001b[0m 79ms/step\n",
            "Confusion Matrix:\n",
            "[[10  0  0]\n",
            " [ 0  8  1]\n",
            " [ 0  0 11]]\n"
          ]
        }
      ]
    },
    {
      "cell_type": "code",
      "source": [
        "# Display the confusion matrix\n",
        "disp = ConfusionMatrixDisplay(confusion_matrix=cm)\n",
        "disp.plot()\n",
        "\n",
        "# Show the plot\n",
        "plt.show()"
      ],
      "metadata": {
        "colab": {
          "base_uri": "https://localhost:8080/",
          "height": 449
        },
        "id": "MBWF2_r0rNNr",
        "outputId": "972d6ab2-54af-4455-91fe-dae7d57d2f6d"
      },
      "id": "MBWF2_r0rNNr",
      "execution_count": 34,
      "outputs": [
        {
          "output_type": "display_data",
          "data": {
            "text/plain": [
              "<Figure size 640x480 with 2 Axes>"
            ],
            "image/png": "[encoded data removed]"
          },
          "metadata": {}
        }
      ]
    },
    {
      "cell_type": "code",
      "source": [
        "# Generate classification report\n",
        "report = classification_report(y_test, y_pred_classes, target_names=iris.target_names)\n",
        "print(\"\\nClassification Report:\")\n",
        "print(report)"
      ],
      "metadata": {
        "id": "3aCXF1gbjINi",
        "outputId": "601de830-4bc0-4b8b-e075-111f708d7ad7",
        "colab": {
          "base_uri": "https://localhost:8080/"
        }
      },
      "id": "3aCXF1gbjINi",
      "execution_count": 35,
      "outputs": [
        {
          "output_type": "stream",
          "name": "stdout",
          "text": [
            "\n",
            "Classification Report:\n",
            "              precision    recall  f1-score   support\n",
            "\n",
            "      setosa       1.00      1.00      1.00        10\n",
            "  versicolor       1.00      0.89      0.94         9\n",
            "   virginica       0.92      1.00      0.96        11\n",
            "\n",
            "    accuracy                           0.97        30\n",
            "   macro avg       0.97      0.96      0.97        30\n",
            "weighted avg       0.97      0.97      0.97        30\n",
            "\n"
          ]
        }
      ]
    },
    {
      "cell_type": "code",
      "source": [
        "# summarize history for accuracy\n",
        "plt.plot(history.history['accuracy'])\n",
        "plt.plot(history.history['val_accuracy'])\n",
        "plt.title('model accuracy')\n",
        "\n",
        "plt.show()"
      ],
      "metadata": {
        "id": "nsj6bDEFlOdl",
        "outputId": "c83e745c-4720-4380-ba8f-ffb6e02499c6",
        "colab": {
          "base_uri": "https://localhost:8080/",
          "height": 452
        }
      },
      "id": "nsj6bDEFlOdl",
      "execution_count": 36,
      "outputs": [
        {
          "output_type": "display_data",
          "data": {
            "text/plain": [
              "<Figure size 640x480 with 1 Axes>"
            ],
            "image/png": "[encoded data removed]"
          },
          "metadata": {}
        }
      ]
    },
    {
      "cell_type": "code",
      "source": [
        "# summarize history for loss\n",
        "plt.plot(history.history['loss'])\n",
        "plt.plot(history.history['val_loss'])\n",
        "plt.title('model loss')\n",
        "\n",
        "plt.show()"
      ],
      "metadata": {
        "colab": {
          "base_uri": "https://localhost:8080/",
          "height": 452
        },
        "id": "ixeJUOrbpwMN",
        "outputId": "fe2bdde2-2059-46da-cf18-aeb4e00028d6"
      },
      "id": "ixeJUOrbpwMN",
      "execution_count": 37,
      "outputs": [
        {
          "output_type": "display_data",
          "data": {
            "text/plain": [
              "<Figure size 640x480 with 1 Axes>"
            ],
            "image/png": "[encoded data removed]"
          },
          "metadata": {}
        }
      ]
    },
    {
      "cell_type": "markdown",
      "id": "ac12bf89",
      "metadata": {
        "id": "ac12bf89"
      },
      "source": [
        "## Conclusion\n",
        "    Summarize what the learner should have gained from this lab, including a better understanding of how ANNs work and how they can be applied to real-world classification problems.\n",
        "    "
      ]
    }
  ],
  "metadata": {
    "colab": {
      "provenance": []
    },
    "language_info": {
      "name": "python"
    },
    "kernelspec": {
      "name": "python3",
      "display_name": "Python 3"
    }
  },
  "nbformat": 4,
  "nbformat_minor": 5
}