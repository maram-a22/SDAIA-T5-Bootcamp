{
  "cells": [
    {
      "cell_type": "markdown",
      "id": "8e8b6f85",
      "metadata": {
        "id": "8e8b6f85"
      },
      "source": [
        "# Auto-Correction Exercise\n",
        "\n",
        "This exercise will guide you through building an auto-correct system in Python. Follow the instructions in each step to complete the implementation."
      ]
    },
    {
      "cell_type": "markdown",
      "id": "b4ed5e99",
      "metadata": {
        "id": "b4ed5e99"
      },
      "source": [
        "## Step 1: Import Libraries\n",
        "\n",
        "Import the necessary libraries"
      ]
    },
    {
      "cell_type": "code",
      "execution_count": 25,
      "id": "c58dfc7e",
      "metadata": {
        "id": "c58dfc7e"
      },
      "outputs": [],
      "source": [
        "import os\n",
        "import re\n",
        "import numpy as np\n",
        "import pandas as pd\n",
        "from collections import Counter\n",
        "import nltk"
      ]
    },
    {
      "cell_type": "markdown",
      "id": "f849129e",
      "metadata": {
        "id": "f849129e"
      },
      "source": [
        "## Step 2: Load Data\n",
        "\n",
        "Load a trusted text corpus to build the auto-correct system."
      ]
    },
    {
      "cell_type": "code",
      "execution_count": 26,
      "id": "df8d28c4",
      "metadata": {
        "id": "df8d28c4",
        "colab": {
          "base_uri": "https://localhost:8080/"
        },
        "outputId": "5b84515b-dd3e-441e-e17c-722412ac909d"
      },
      "outputs": [
        {
          "output_type": "stream",
          "name": "stdout",
          "text": [
            "Drive already mounted at /content/drive; to attempt to forcibly remount, call drive.mount(\"/content/drive\", force_remount=True).\n"
          ]
        }
      ],
      "source": [
        "from google.colab import drive\n",
        "drive.mount('/content/drive')"
      ]
    },
    {
      "cell_type": "code",
      "source": [
        "# Load the corpus\n",
        "with open('/content/TextFile.txt', 'r', encoding='ISO-8859-1') as f:\n",
        "    file = f.readlines()\n",
        "\n",
        "# A small sample of the corpus\n",
        "file[0][:3000]"
      ],
      "metadata": {
        "colab": {
          "base_uri": "https://localhost:8080/",
          "height": 52
        },
        "id": "jZ7HDRd6gb6k",
        "outputId": "ce21d505-008c-4abc-a48f-e202b6297cc1"
      },
      "id": "jZ7HDRd6gb6k",
      "execution_count": 27,
      "outputs": [
        {
          "output_type": "execute_result",
          "data": {
            "text/plain": [
              "'Once upon a time in a quaint village nestled between rolling hills and lush forests, there lived a young boy named Oliver. Oliver was known for his adventurous spirit and insatiable curiosity, which often led him into all sorts of exciting escapades.\\n'"
            ],
            "application/vnd.google.colaboratory.intrinsic+json": {
              "type": "string"
            }
          },
          "metadata": {},
          "execution_count": 27
        }
      ]
    },
    {
      "cell_type": "markdown",
      "id": "ffa045c9",
      "metadata": {
        "id": "ffa045c9"
      },
      "source": [
        "## Step 3: Data Processing\n",
        "\n",
        "Tokenize the text and convert all characters to lowercase to clean the data."
      ]
    },
    {
      "cell_type": "code",
      "execution_count": 28,
      "id": "41511573",
      "metadata": {
        "id": "41511573",
        "colab": {
          "base_uri": "https://localhost:8080/"
        },
        "outputId": "90323a33-7ce4-4dc8-df41-fc6ddc2594fc"
      },
      "outputs": [
        {
          "output_type": "stream",
          "name": "stdout",
          "text": [
            "The first ten words in the text are: \n",
            "['once', 'upon', 'a', 'time', 'in', 'a', 'quaint', 'village', 'nestled', 'between']\n",
            "There are 201 unique words in the vocabulary.\n"
          ]
        }
      ],
      "source": [
        "def process_data(lines):\n",
        "    words = []\n",
        "    for line in lines:\n",
        "        line = line.strip().lower()\n",
        "        word = re.findall(r'\\w+', line)\n",
        "        words.extend(word)\n",
        "    return words\n",
        "\n",
        "word_l = process_data(file)\n",
        "vocab = set(word_l)\n",
        "print(f\"The first ten words in the text are: \\n{word_l[0:10]}\")\n",
        "print(f\"There are {len(vocab)} unique words in the vocabulary.\")"
      ]
    },
    {
      "cell_type": "markdown",
      "id": "8999b61e",
      "metadata": {
        "id": "8999b61e"
      },
      "source": [
        "\n",
        "## Step 4: Architecture Overview\n",
        "\n",
        "This auto-correct architecture has four main components:\n",
        "\n",
        "1. **Filtering Mispells**: Check if a word is in the vocabulary.\n",
        "2. **Word Suggestion Mechanism**: Suggest candidate words based on various edit operations.\n",
        "3. **Probability Distribution Mechanism**: Calculate the probability of each candidate word.\n",
        "4. **Replace Mispells**: Replace the misspelled word with the most probable suggestion.\n",
        "\n",
        "Implement each part step-by-step in the cells below.\n"
      ]
    },
    {
      "cell_type": "markdown",
      "id": "ee2c7bfc",
      "metadata": {
        "id": "ee2c7bfc"
      },
      "source": [
        "### Step 4.1: Filtering Mispells\n",
        "\n",
        "Write a function to identify words not present in the vocabulary."
      ]
    },
    {
      "cell_type": "code",
      "execution_count": 29,
      "id": "a18cb2c2",
      "metadata": {
        "id": "a18cb2c2",
        "colab": {
          "base_uri": "https://localhost:8080/"
        },
        "outputId": "2460dedd-d05f-4cb2-d925-d60b9d66cbd4"
      },
      "outputs": [
        {
          "output_type": "execute_result",
          "data": {
            "text/plain": [
              "['is', 'goinng']"
            ]
          },
          "metadata": {},
          "execution_count": 29
        }
      ],
      "source": [
        "def find_wrong_word(sent, vocab):\n",
        "    wrong_words = []\n",
        "    sent = sent.strip().lower().split(\" \")\n",
        "    for word in sent:\n",
        "        if word not in vocab:\n",
        "            wrong_words.append(word)\n",
        "    return wrong_words\n",
        "\n",
        "find_wrong_word('he is goinng home', vocab)"
      ]
    },
    {
      "cell_type": "markdown",
      "id": "c5ae5fef",
      "metadata": {
        "id": "c5ae5fef"
      },
      "source": [
        "### Step 4.2: Word Suggestion Mechanism\n",
        "\n",
        "Implement functions to suggest words by deleting, switching, replacing, or inserting characters."
      ]
    },
    {
      "cell_type": "code",
      "execution_count": 30,
      "id": "9647c078",
      "metadata": {
        "id": "9647c078",
        "colab": {
          "base_uri": "https://localhost:8080/"
        },
        "outputId": "28645caa-325e-4f75-d239-0feff9bdb381"
      },
      "outputs": [
        {
          "output_type": "stream",
          "name": "stdout",
          "text": [
            "input word : cans \n",
            "split_l = [('', 'cans'), ('c', 'ans'), ('ca', 'ns'), ('can', 's')], \n",
            "delete_l = ['ans', 'cns', 'cas', 'can']\n"
          ]
        }
      ],
      "source": [
        "# Delete letter\n",
        "def delete_letter(word, verbose=False):\n",
        "    delete_l = []\n",
        "    split_l = [(word[:i], word[i:]) for i in range(len(word))]\n",
        "    delete_l = [s[0]+s[1][1:] for s in split_l]\n",
        "    if verbose: print(f\"input word : {word} \\nsplit_l = {split_l}, \\ndelete_l = {delete_l}\")\n",
        "    return delete_l\n",
        "\n",
        "delete_word_l = delete_letter(word=\"cans\", verbose=True)"
      ]
    },
    {
      "cell_type": "code",
      "source": [
        "# Switch letter\n",
        "def switch_letter(word, verbose=False):\n",
        "    switch_l = []\n",
        "    split_l = [(word[:i], word[i:]) for i in range(len(word))]\n",
        "    for s in split_l:\n",
        "        if len(s[1]) > 2:\n",
        "            temp = s[0] + s[1][1] + s[1][0] + s[1][2:]\n",
        "        elif len(s[1]) == 2:\n",
        "            temp = s[0] + s[1][1] + s[1][0]\n",
        "        elif len(s[1]) == 1:\n",
        "            continue\n",
        "        switch_l.append(temp)\n",
        "    if verbose: print(f\"Input word = {word} \\nsplit_l = {split_l} \\nswitch_l = {switch_l}\")\n",
        "    return switch_l\n",
        "\n",
        "switch_word_l = switch_letter(word=\"eta\", verbose=True)\n"
      ],
      "metadata": {
        "id": "7MOCW5n7uVba",
        "colab": {
          "base_uri": "https://localhost:8080/"
        },
        "outputId": "f797dbc6-00a0-4890-809d-89ddaec0cd94"
      },
      "id": "7MOCW5n7uVba",
      "execution_count": 31,
      "outputs": [
        {
          "output_type": "stream",
          "name": "stdout",
          "text": [
            "Input word = eta \n",
            "split_l = [('', 'eta'), ('e', 'ta'), ('et', 'a')] \n",
            "switch_l = ['tea', 'eat']\n"
          ]
        }
      ]
    },
    {
      "cell_type": "code",
      "source": [
        "# Replace letter\n",
        "def replace_letter(word, verbose=False):\n",
        "    letters = 'abcdefghijklmnopqrstuvwxyz'\n",
        "    replace_l = []\n",
        "    split_l = [(word[:i], word[i:]) for i in range(len(word))]\n",
        "    for s in split_l:\n",
        "        if len(s[1]) == 1:\n",
        "            for l in letters:\n",
        "                if l != s[1][0]:\n",
        "                    replace_l.append(s[0] + l)\n",
        "        elif len(s[1]) > 1:\n",
        "            for l in letters:\n",
        "                if l != s[1][0]:\n",
        "                    replace_l.append(s[0] + l + s[1][1:])\n",
        "    replace_set = set(replace_l)\n",
        "    replace_l = sorted(list(replace_set))\n",
        "    if verbose: print(f\"Input word = {word} \\nsplit_l = {split_l} \\nreplace_l = {replace_l}\")\n",
        "    return replace_l\n",
        "\n",
        "replace_l = replace_letter(word='can', verbose=True)"
      ],
      "metadata": {
        "id": "Mv-tOycduVL_",
        "colab": {
          "base_uri": "https://localhost:8080/"
        },
        "outputId": "fb3a45d4-2ebd-4239-fdf6-82d26432202e"
      },
      "id": "Mv-tOycduVL_",
      "execution_count": 32,
      "outputs": [
        {
          "output_type": "stream",
          "name": "stdout",
          "text": [
            "Input word = can \n",
            "split_l = [('', 'can'), ('c', 'an'), ('ca', 'n')] \n",
            "replace_l = ['aan', 'ban', 'caa', 'cab', 'cac', 'cad', 'cae', 'caf', 'cag', 'cah', 'cai', 'caj', 'cak', 'cal', 'cam', 'cao', 'cap', 'caq', 'car', 'cas', 'cat', 'cau', 'cav', 'caw', 'cax', 'cay', 'caz', 'cbn', 'ccn', 'cdn', 'cen', 'cfn', 'cgn', 'chn', 'cin', 'cjn', 'ckn', 'cln', 'cmn', 'cnn', 'con', 'cpn', 'cqn', 'crn', 'csn', 'ctn', 'cun', 'cvn', 'cwn', 'cxn', 'cyn', 'czn', 'dan', 'ean', 'fan', 'gan', 'han', 'ian', 'jan', 'kan', 'lan', 'man', 'nan', 'oan', 'pan', 'qan', 'ran', 'san', 'tan', 'uan', 'van', 'wan', 'xan', 'yan', 'zan']\n"
          ]
        }
      ]
    },
    {
      "cell_type": "code",
      "source": [
        "# Insert letter\n",
        "def insert_letter(word, verbose=False):\n",
        "    letters = 'abcdefghijklmnopqrstuvwxyz'\n",
        "    insert_l = []\n",
        "    split_l = [(word[:i], word[i:]) for i in range(len(word)+1)]\n",
        "    for s in split_l:\n",
        "        for l in letters:\n",
        "            insert_l.append(s[0] + l + s[1])\n",
        "    if verbose: print(f\"Input word {word} \\nsplit_l = {split_l} \\ninsert_l = {insert_l}\")\n",
        "    return insert_l\n",
        "\n",
        "insert_l = insert_letter('at', True)\n",
        "print(f\"Number of strings output by insert_letter('at') is {len(insert_l)}\")"
      ],
      "metadata": {
        "id": "e-CAlWzkuUcq",
        "colab": {
          "base_uri": "https://localhost:8080/"
        },
        "outputId": "aede19e4-cdd5-44ee-f17a-cd142e71d3fe"
      },
      "id": "e-CAlWzkuUcq",
      "execution_count": 33,
      "outputs": [
        {
          "output_type": "stream",
          "name": "stdout",
          "text": [
            "Input word at \n",
            "split_l = [('', 'at'), ('a', 't'), ('at', '')] \n",
            "insert_l = ['aat', 'bat', 'cat', 'dat', 'eat', 'fat', 'gat', 'hat', 'iat', 'jat', 'kat', 'lat', 'mat', 'nat', 'oat', 'pat', 'qat', 'rat', 'sat', 'tat', 'uat', 'vat', 'wat', 'xat', 'yat', 'zat', 'aat', 'abt', 'act', 'adt', 'aet', 'aft', 'agt', 'aht', 'ait', 'ajt', 'akt', 'alt', 'amt', 'ant', 'aot', 'apt', 'aqt', 'art', 'ast', 'att', 'aut', 'avt', 'awt', 'axt', 'ayt', 'azt', 'ata', 'atb', 'atc', 'atd', 'ate', 'atf', 'atg', 'ath', 'ati', 'atj', 'atk', 'atl', 'atm', 'atn', 'ato', 'atp', 'atq', 'atr', 'ats', 'att', 'atu', 'atv', 'atw', 'atx', 'aty', 'atz']\n",
            "Number of strings output by insert_letter('at') is 78\n"
          ]
        }
      ]
    },
    {
      "cell_type": "markdown",
      "id": "5c6197fc",
      "metadata": {
        "id": "5c6197fc"
      },
      "source": [
        "**Combining Functions for Word Suggestions**\n",
        "\n",
        "Combine the functions to edit one or two characters in a word."
      ]
    },
    {
      "cell_type": "code",
      "execution_count": 34,
      "id": "e9229d4d",
      "metadata": {
        "id": "e9229d4d"
      },
      "outputs": [],
      "source": [
        "# Edit one letter\n",
        "def edit_one_letter(word, allow_switches=True):\n",
        "    edit_one_set = set()\n",
        "    insert_l = insert_letter(word)\n",
        "    delete_l = delete_letter(word)\n",
        "    replace_l = replace_letter(word)\n",
        "    switch_l = switch_letter(word)\n",
        "    if allow_switches:\n",
        "        ans = insert_l + delete_l + replace_l + switch_l\n",
        "    else:\n",
        "        ans = insert_l + delete_l + replace_l\n",
        "    edit_one_set = set(ans)\n",
        "    return edit_one_set"
      ]
    },
    {
      "cell_type": "code",
      "source": [
        "tmp_word = \"at\"\n",
        "tmp_edit_one_set = edit_one_letter(tmp_word)\n",
        "tmp_edit_one_l = sorted(list(tmp_edit_one_set))\n",
        "\n",
        "print(f\"input word : {tmp_word} \\nedit_one_l \\n{tmp_edit_one_l}\\n\")\n",
        "print(f\"Number of outputs from edit_one_letter('at') is {len(edit_one_letter('at'))}\")"
      ],
      "metadata": {
        "colab": {
          "base_uri": "https://localhost:8080/"
        },
        "id": "LBFzNf4jm7bm",
        "outputId": "388115f6-0b7b-4590-b7eb-2d6159e58837"
      },
      "id": "LBFzNf4jm7bm",
      "execution_count": 35,
      "outputs": [
        {
          "output_type": "stream",
          "name": "stdout",
          "text": [
            "input word : at \n",
            "edit_one_l \n",
            "['a', 'aa', 'aat', 'ab', 'abt', 'ac', 'act', 'ad', 'adt', 'ae', 'aet', 'af', 'aft', 'ag', 'agt', 'ah', 'aht', 'ai', 'ait', 'aj', 'ajt', 'ak', 'akt', 'al', 'alt', 'am', 'amt', 'an', 'ant', 'ao', 'aot', 'ap', 'apt', 'aq', 'aqt', 'ar', 'art', 'as', 'ast', 'ata', 'atb', 'atc', 'atd', 'ate', 'atf', 'atg', 'ath', 'ati', 'atj', 'atk', 'atl', 'atm', 'atn', 'ato', 'atp', 'atq', 'atr', 'ats', 'att', 'atu', 'atv', 'atw', 'atx', 'aty', 'atz', 'au', 'aut', 'av', 'avt', 'aw', 'awt', 'ax', 'axt', 'ay', 'ayt', 'az', 'azt', 'bat', 'bt', 'cat', 'ct', 'dat', 'dt', 'eat', 'et', 'fat', 'ft', 'gat', 'gt', 'hat', 'ht', 'iat', 'it', 'jat', 'jt', 'kat', 'kt', 'lat', 'lt', 'mat', 'mt', 'nat', 'nt', 'oat', 'ot', 'pat', 'pt', 'qat', 'qt', 'rat', 'rt', 'sat', 'st', 't', 'ta', 'tat', 'tt', 'uat', 'ut', 'vat', 'vt', 'wat', 'wt', 'xat', 'xt', 'yat', 'yt', 'zat', 'zt']\n",
            "\n",
            "Number of outputs from edit_one_letter('at') is 129\n"
          ]
        }
      ]
    },
    {
      "cell_type": "code",
      "execution_count": 36,
      "id": "5462dd60",
      "metadata": {
        "id": "5462dd60"
      },
      "outputs": [],
      "source": [
        "def edit_two_letters(word, allow_switches = True):\n",
        "    '''\n",
        "    Input:\n",
        "        word: the input string/word\n",
        "    Output:\n",
        "        edit_two_set: a set of strings with all possible two edits\n",
        "    '''\n",
        "\n",
        "    edit_two_set = set()\n",
        "    one_edit = edit_one_letter(word)\n",
        "    ans = []\n",
        "    for w in one_edit:\n",
        "        ans.append(w)\n",
        "        ans.extend(edit_one_letter(w))\n",
        "\n",
        "    edit_two_set = set(ans)\n",
        "\n",
        "    return edit_two_set"
      ]
    },
    {
      "cell_type": "code",
      "source": [
        "tmp_edit_two_set = edit_two_letters(\"a\")\n",
        "tmp_edit_two_l = sorted(list(tmp_edit_two_set))\n",
        "print(f\"Number of strings with edit distance of two: {len(tmp_edit_two_l)}\")\n",
        "print(f\"First 10 strings {tmp_edit_two_l[:10]}\")\n",
        "print(f\"Last 10 strings {tmp_edit_two_l[-10:]}\")\n",
        "print(f\"The data type of the returned object should be a set {type(tmp_edit_two_set)}\")\n",
        "print(f\"Number of strings that are 2 edit distances from 'at' is {len(edit_two_letters('at'))}\")"
      ],
      "metadata": {
        "id": "1R6ZGPmYvClz",
        "colab": {
          "base_uri": "https://localhost:8080/"
        },
        "outputId": "8ccd5457-b896-4e5e-e446-3178cee003a3"
      },
      "id": "1R6ZGPmYvClz",
      "execution_count": 37,
      "outputs": [
        {
          "output_type": "stream",
          "name": "stdout",
          "text": [
            "Number of strings with edit distance of two: 2654\n",
            "First 10 strings ['', 'a', 'aa', 'aaa', 'aab', 'aac', 'aad', 'aae', 'aaf', 'aag']\n",
            "Last 10 strings ['zv', 'zva', 'zw', 'zwa', 'zx', 'zxa', 'zy', 'zya', 'zz', 'zza']\n",
            "The data type of the returned object should be a set <class 'set'>\n",
            "Number of strings that are 2 edit distances from 'at' is 7154\n"
          ]
        }
      ]
    },
    {
      "cell_type": "markdown",
      "id": "1f9a5ac0",
      "metadata": {
        "id": "1f9a5ac0"
      },
      "source": [
        "### Step 4.3: Probability Distribution\n",
        "\n",
        "Calculate the frequency of each word in the corpus and compute the probability distribution."
      ]
    },
    {
      "cell_type": "code",
      "source": [
        "def get_count(word_l):\n",
        "    word_count_dict = Counter(word_l)\n",
        "    return word_count_dict\n",
        "\n",
        "word_count_dict = get_count(word_l)\n",
        "print(f\"There are {len(word_count_dict)} key values pairs\")\n",
        "print(f\"The count for the word 'thee' is {word_count_dict.get('thee',0)}\")\n"
      ],
      "metadata": {
        "colab": {
          "base_uri": "https://localhost:8080/"
        },
        "id": "gvyWPbW4m-fy",
        "outputId": "b5a25652-0c0c-42d3-8e2b-c6e17a88e22f"
      },
      "id": "gvyWPbW4m-fy",
      "execution_count": 38,
      "outputs": [
        {
          "output_type": "stream",
          "name": "stdout",
          "text": [
            "There are 201 key values pairs\n",
            "The count for the word 'thee' is 0\n"
          ]
        }
      ]
    },
    {
      "cell_type": "code",
      "source": [
        "def get_probs(word_count_dict):\n",
        "    probs = {}\n",
        "    total = sum(word_count_dict.values())\n",
        "    for word in word_count_dict.keys():\n",
        "        probs[word] = word_count_dict[word] / total\n",
        "    return probs\n",
        "\n",
        "probs = get_probs(word_count_dict)\n",
        "print(f\"Length of probs is {len(probs)}\")\n",
        "print(f\"P('bird') is {probs['bird']:.4f}\")"
      ],
      "metadata": {
        "colab": {
          "base_uri": "https://localhost:8080/"
        },
        "id": "uvmvnt1znEo3",
        "outputId": "3e1733ee-d5e3-4f73-d1e6-f14fc766c7c3"
      },
      "id": "uvmvnt1znEo3",
      "execution_count": 41,
      "outputs": [
        {
          "output_type": "stream",
          "name": "stdout",
          "text": [
            "Length of probs is 201\n",
            "P('bird') is 0.0249\n"
          ]
        }
      ]
    },
    {
      "cell_type": "code",
      "source": [
        "# Display probability distribution\n",
        "prob_df = pd.DataFrame({'word': probs.keys(), 'probability': probs.values()}).sort_values(by='probability', ascending=False)\n",
        "prob_df.sample(5)\n",
        "\n",
        "prob_df.head().plot.bar(x='word', y='probability')"
      ],
      "metadata": {
        "colab": {
          "base_uri": "https://localhost:8080/",
          "height": 479
        },
        "id": "Jj7otWKlnRPt",
        "outputId": "7278b386-a0f0-4547-f7fe-6b591fb5ed58"
      },
      "id": "Jj7otWKlnRPt",
      "execution_count": 42,
      "outputs": [
        {
          "output_type": "execute_result",
          "data": {
            "text/plain": [
              "<Axes: xlabel='word'>"
            ]
          },
          "metadata": {},
          "execution_count": 42
        },
        {
          "output_type": "display_data",
          "data": {
            "text/plain": [
              "<Figure size 640x480 with 1 Axes>"
            ],
            "image/png": "[encoded data removed]"
          },
          "metadata": {}
        }
      ]
    },
    {
      "cell_type": "markdown",
      "id": "8aebeba6",
      "metadata": {
        "id": "8aebeba6"
      },
      "source": [
        "### Step 4.4: Replace Misspells with Correction\n",
        "\n",
        "Write a function to replace misspelled words with the most probable corrections."
      ]
    },
    {
      "cell_type": "code",
      "execution_count": 43,
      "id": "b8a61c93",
      "metadata": {
        "id": "b8a61c93",
        "colab": {
          "base_uri": "https://localhost:8080/",
          "height": 35
        },
        "outputId": "3699faab-c5c7-4298-a859-4fc66879b801"
      },
      "outputs": [
        {
          "output_type": "execute_result",
          "data": {
            "text/plain": [
              "'and'"
            ],
            "application/vnd.google.colaboratory.intrinsic+json": {
              "type": "string"
            }
          },
          "metadata": {},
          "execution_count": 43
        }
      ],
      "source": [
        "# Your code here to replace misspells\n",
        "def get_corrections(word, probs, vocab, n=2, verbose=False):\n",
        "    suggestions = []\n",
        "    n_best = []\n",
        "\n",
        "    if word in probs.keys():\n",
        "        suggestions.append(word)\n",
        "    for w in edit_one_letter(word):\n",
        "        if len(suggestions) == n:\n",
        "            break\n",
        "        if w in probs.keys():\n",
        "            suggestions.append(w)\n",
        "    for w in edit_two_letters(word):\n",
        "        if len(suggestions) == n:\n",
        "            break\n",
        "        if w in probs.keys():\n",
        "            suggestions.append(w)\n",
        "\n",
        "    best_words = sorted({s: probs[s] for s in suggestions}.items(), key=lambda x: x[1], reverse=True)\n",
        "    n_best = best_words\n",
        "\n",
        "    if verbose: print(\"entered word = \", word, \"\\nsuggestions = \", suggestions)\n",
        "    return n_best\n",
        "\n",
        "def get_correct_word(word, vocab, probs, n):\n",
        "    corrections = get_corrections(word, probs, vocab, n, verbose=False)\n",
        "    if len(corrections) == 0:\n",
        "        return word\n",
        "\n",
        "    final_word = corrections[0][0]\n",
        "    final_prob = corrections[0][1]\n",
        "    for i, word_prob in enumerate(corrections):\n",
        "        if word_prob[1] > final_prob:\n",
        "            final_word = word_prob[0]\n",
        "            final_prob = word_prob[1]\n",
        "    return final_word\n",
        "\n",
        "get_correct_word('annnd', vocab, probs, 100)"
      ]
    },
    {
      "cell_type": "markdown",
      "id": "baff1c00",
      "metadata": {
        "id": "baff1c00"
      },
      "source": [
        "### Step 5: Final Auto-Correction Function\n",
        "\n",
        "Combine all parts into a final function that corrects sentences."
      ]
    },
    {
      "cell_type": "code",
      "execution_count": 44,
      "id": "974eb839",
      "metadata": {
        "id": "974eb839"
      },
      "outputs": [],
      "source": [
        "# Your code here for the final auto-correction function\n",
        "\n",
        "def autocorrect(sentence, vocab, probs):\n",
        "    print(\"Input sentence : \", sentence)\n",
        "    wrong_words = find_wrong_word(sentence, vocab)\n",
        "    print(\"Wrong words : \", wrong_words)\n",
        "    correct_words = []\n",
        "    for word in sentence.strip().lower().split(\" \"):\n",
        "        if word in wrong_words:\n",
        "            correct_word = get_correct_word(word, vocab, probs, 15)\n",
        "            word = correct_word\n",
        "        correct_words.append(word)\n",
        "    print(\"Output Sentence : \", \" \".join(correct_words).capitalize())"
      ]
    },
    {
      "cell_type": "markdown",
      "metadata": {
        "id": "O01DcmYtvOlh"
      },
      "source": [
        "### Step 6: Demo\n",
        "\n",
        "Apply your work to a sentence"
      ],
      "id": "O01DcmYtvOlh"
    },
    {
      "cell_type": "code",
      "source": [
        "autocorrect(\"As the bird bagan to recover\", vocab, probs)"
      ],
      "metadata": {
        "id": "juIS0GFovX02",
        "colab": {
          "base_uri": "https://localhost:8080/"
        },
        "outputId": "394cf3fc-a341-4ebf-b81d-6f46d568c896"
      },
      "id": "juIS0GFovX02",
      "execution_count": 45,
      "outputs": [
        {
          "output_type": "stream",
          "name": "stdout",
          "text": [
            "Input sentence :  As the bird bagan to recover\n",
            "Wrong words :  ['bagan']\n",
            "Output Sentence :  As the bird began to recover\n"
          ]
        }
      ]
    }
  ],
  "metadata": {
    "colab": {
      "provenance": []
    },
    "language_info": {
      "name": "python"
    },
    "kernelspec": {
      "name": "python3",
      "display_name": "Python 3"
    }
  },
  "nbformat": 4,
  "nbformat_minor": 5
}